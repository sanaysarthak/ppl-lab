{
 "cells": [
  {
   "cell_type": "markdown",
   "id": "3aaf0e62-578f-4841-a832-4d212d3ee1c3",
   "metadata": {},
   "source": [
    "## Practical 12 :-\n",
    "**Name:** Sarthak Sanay\\\n",
    "**Enrollment No:** 230031101611051"
   ]
  },
  {
   "cell_type": "markdown",
   "id": "88cbf598-e956-4277-ae8e-327896c0a6ec",
   "metadata": {},
   "source": [
    "### Problem Statement 1:-\n",
    "Given a string and a list of words representing a list, find the longest word in the dictionary that can be formed by deleting some characters of the given string. \n",
    "\n",
    "**Input:** \\\n",
    "s = \"abpcplea\" \\\n",
    "list = [\"ale\", \"apple\", \"monkey\", \"plea\"] \n",
    "\n",
    "**Output:** \\\n",
    "Longest word in list: apple"
   ]
  },
  {
   "cell_type": "code",
   "execution_count": 2,
   "id": "709f45f9-47db-48de-a976-6375ed6eff4a",
   "metadata": {},
   "outputs": [
    {
     "name": "stdin",
     "output_type": "stream",
     "text": [
      "Enter string:  abpcplea\n",
      "Enter size of list:  4\n"
     ]
    },
    {
     "name": "stdout",
     "output_type": "stream",
     "text": [
      "\n"
     ]
    },
    {
     "name": "stdin",
     "output_type": "stream",
     "text": [
      "Enter word 1:  ale\n",
      "Enter word 2:  apple\n",
      "Enter word 3:  monkey\n",
      "Enter word 4:  plea\n"
     ]
    },
    {
     "name": "stdout",
     "output_type": "stream",
     "text": [
      "\n",
      "Longest word in list: apple\n"
     ]
    }
   ],
   "source": [
    "s = input(\"Enter string: \")\n",
    "size = int(input(\"Enter size of list: \"))\n",
    "word_list = []\n",
    "print()\n",
    "for i in range(size):\n",
    "    w = input(f\"Enter word {i+1}: \")\n",
    "    word_list.append(w)\n",
    "\n",
    "longest = \"\"\n",
    "\n",
    "for word in word_list:\n",
    "    word = word.strip()  # remove extra spaces\n",
    "    i = 0  # pointer for word\n",
    "    j = 0  # pointer for s\n",
    "    while i < len(word) and j < len(s):\n",
    "        if word[i] == s[j]:\n",
    "            i += 1\n",
    "        j += 1\n",
    "    if i == len(word):  # word is subsequence of s\n",
    "        if len(word) > len(longest) or (len(word) == len(longest) and word < longest):\n",
    "            longest = word\n",
    "\n",
    "print(\"\\nLongest word in list:\", longest)"
   ]
  },
  {
   "cell_type": "markdown",
   "id": "03e7fe8c-013a-4cff-a35d-f9a7225f6275",
   "metadata": {},
   "source": [
    "### Problem Statement 2:-\n",
    "You're tasked with writing a function to determine whether a given sentence is a palindrome, considering only alphanumeric characters and ignoring case sensitivity and other things.\n",
    "\n",
    "**Input:** \\\n",
    "sentence1 = \"A man, a plan, a canal, Panama!\" \\\n",
    "sentence2 = \"race a car\" \n",
    "\n",
    "**Output:** \\\n",
    "Is 'A man, a plan, a canal, Panama!' a palindrome? True \\\n",
    "Is 'race a car' a palindrome? False"
   ]
  },
  {
   "cell_type": "code",
   "execution_count": 1,
   "id": "4f853c94-9747-477f-aa26-830da3ed8344",
   "metadata": {},
   "outputs": [
    {
     "name": "stdin",
     "output_type": "stream",
     "text": [
      "Enter sentence:  A man, a plan, a canal, Panama!\n"
     ]
    },
    {
     "name": "stdout",
     "output_type": "stream",
     "text": [
      "Is 'A man, a plan, a canal, Panama!' a palindrome? True\n"
     ]
    }
   ],
   "source": [
    "def check_palindrome(s):\n",
    "    sentence = \"\"\n",
    "    for char in s:\n",
    "        if char.isalnum():\n",
    "            sentence += char.lower()\n",
    "\n",
    "    return sentence == sentence[::-1]\n",
    "\n",
    "s = input(\"Enter sentence: \")\n",
    "print(f\"Is '{s}' a palindrome? {check_palindrome(s)}\")"
   ]
  },
  {
   "cell_type": "markdown",
   "id": "6892431d-6a64-48ec-a694-dda97ec6d644",
   "metadata": {},
   "source": [
    "### Problem Statement 3:-\n",
    "You're tasked with counting the frequency of words in a given paragraph while excluding certain stop words (common words such as \"the\", \"and\", \"is\", etc.).\n",
    "\n",
    "**Input:** \\\n",
    "paragraph = \"Python is a powerful programming language. Python is used for\n",
    "web development, data science, and artificial intelligence.\" \\\n",
    "stop_words = [\"is\", \"a\", \"for\", \"and\"] \n",
    "\n",
    "**Output:** \\\n",
    "Word frequency (excluding stop words): {'python': 2, 'powerful': 1,\n",
    "'programming': 1, 'language.': 1, 'used': 1, 'web': 1, 'development,': 1,\n",
    "'data': 1, 'science,': 1, 'artificial': 1, 'intelligence.': 1}"
   ]
  },
  {
   "cell_type": "code",
   "execution_count": 4,
   "id": "248a6f64-d412-4a4d-965c-6ac5a4079e0d",
   "metadata": {},
   "outputs": [
    {
     "name": "stdin",
     "output_type": "stream",
     "text": [
      "Enter paragraph:  Python is a powerful programming language. Python is used for web development, data science, and artificial intelligence.\n",
      "\n",
      "Enter size for stop words:  4\n",
      "Enter stop_word 1:  is\n",
      "Enter stop_word 2:  a\n",
      "Enter stop_word 3:  for\n",
      "Enter stop_word 4:  end\n"
     ]
    },
    {
     "name": "stdout",
     "output_type": "stream",
     "text": [
      "\n",
      "Word frequency (excluding stop words):  {'python': 2, 'powerful': 1, 'programming': 1, 'language.': 1, 'used': 1, 'web': 1, 'development,': 1, 'data': 1, 'science,': 1, 'and': 1, 'artificial': 1, 'intelligence.': 1}\n"
     ]
    }
   ],
   "source": [
    "paragraph = input(\"Enter paragraph: \")\n",
    "size = int(input(\"\\nEnter size for stop words: \"))\n",
    "stop_word = []\n",
    "for i in range(size):\n",
    "    w = input(f\"Enter stop_word {i+1}: \")\n",
    "    stop_word.append(w)\n",
    "\n",
    "words = paragraph.lower().split()\n",
    "\n",
    "freq = {}\n",
    "for word in words:\n",
    "    if word not in stop_word:\n",
    "        if word in freq:\n",
    "            freq[word] += 1\n",
    "        else:\n",
    "            freq[word] = 1\n",
    "\n",
    "print(\"\\nWord frequency (excluding stop words): \", freq)"
   ]
  },
  {
   "cell_type": "markdown",
   "id": "42092eec-b898-4dd7-a54f-87e593a502b4",
   "metadata": {},
   "source": [
    "### Problem Statement 4:-\n",
    "You're given a list of strings, and you need to find and return a list of characters that appear in every string in the list.\n",
    "\n",
    "**Input:** \\\n",
    "strings = [\"apple\", \"banana\", \"orange\"]\n",
    "\n",
    "**Output:** \\\n",
    "Common characters: ['a']"
   ]
  },
  {
   "cell_type": "code",
   "execution_count": 7,
   "id": "1601ba40-6d6e-4b27-bf36-66fc9c9f7b99",
   "metadata": {},
   "outputs": [
    {
     "name": "stdin",
     "output_type": "stream",
     "text": [
      "Enter size of list:  3\n"
     ]
    },
    {
     "name": "stdout",
     "output_type": "stream",
     "text": [
      "\n"
     ]
    },
    {
     "name": "stdin",
     "output_type": "stream",
     "text": [
      "Enter string 1:  apple\n",
      "Enter string 2:  banana\n",
      "Enter string 3:  orange\n"
     ]
    },
    {
     "name": "stdout",
     "output_type": "stream",
     "text": [
      "\n",
      "Common characters: ['a']\n"
     ]
    }
   ],
   "source": [
    "size = int(input(\"Enter size of list: \"))\n",
    "print()\n",
    "\n",
    "strings = []\n",
    "for i in range(size):\n",
    "    word = input(f\"Enter string {i+1}: \")\n",
    "    strings.append(word) \n",
    "\n",
    "common = []\n",
    "for char in strings[0]:\n",
    "    if all(char in word for word in strings[1:]):\n",
    "        if char not in common:\n",
    "            common.append(char)\n",
    "\n",
    "print(\"\\nCommon characters:\", common)"
   ]
  },
  {
   "cell_type": "code",
   "execution_count": null,
   "id": "98b559cb-1391-487e-b6a4-6a4aedd5df0a",
   "metadata": {},
   "outputs": [],
   "source": []
  }
 ],
 "metadata": {
  "kernelspec": {
   "display_name": "Python 3 (ipykernel)",
   "language": "python",
   "name": "python3"
  },
  "language_info": {
   "codemirror_mode": {
    "name": "ipython",
    "version": 3
   },
   "file_extension": ".py",
   "mimetype": "text/x-python",
   "name": "python",
   "nbconvert_exporter": "python",
   "pygments_lexer": "ipython3",
   "version": "3.12.1"
  }
 },
 "nbformat": 4,
 "nbformat_minor": 5
}
