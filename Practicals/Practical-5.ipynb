{
 "cells": [
  {
   "cell_type": "markdown",
   "id": "6ee6e4f8-3f6c-4258-921e-08431d063d1e",
   "metadata": {},
   "source": [
    "## Practical 5 :-\n",
    "**Name:** Sarthak Sanay\\\n",
    "**Enrollment No:** 230031101611051"
   ]
  },
  {
   "cell_type": "markdown",
   "id": "b1c46ebc-f6ef-419f-8681-0a284d064b69",
   "metadata": {},
   "source": [
    "### Pattern 1 :-"
   ]
  },
  {
   "cell_type": "code",
   "execution_count": 6,
   "id": "b8fb45b5-828f-41cd-9865-10312345fbd4",
   "metadata": {},
   "outputs": [
    {
     "name": "stdin",
     "output_type": "stream",
     "text": [
      "Enter size:  10\n"
     ]
    },
    {
     "name": "stdout",
     "output_type": "stream",
     "text": [
      "A A A A A A A A A A \n",
      "B B B B B B B B B \n",
      "C C C C C C C C \n",
      "D D D D D D D \n",
      "E E E E E E \n",
      "F F F F F \n",
      "G G G G \n",
      "H H H \n",
      "I I \n",
      "J \n"
     ]
    }
   ],
   "source": [
    "size = int(input(\"Enter size: \"))\n",
    "i = 0\n",
    "while i < size:\n",
    "    # 65 is the ASCII value of 'A'\n",
    "    ch = 65 + i\n",
    "    j = 0\n",
    "    while j < (size - i):\n",
    "        print(chr(ch), end = \" \")\n",
    "        j += 1\n",
    "    i += 1\n",
    "    print()"
   ]
  },
  {
   "cell_type": "markdown",
   "id": "36879a14-bf41-40fd-b5c6-029327bea0bc",
   "metadata": {},
   "source": [
    "### Pattern 2 :-"
   ]
  },
  {
   "cell_type": "code",
   "execution_count": 9,
   "id": "bbfad9e2-787d-4e1c-b558-4257b280ab84",
   "metadata": {},
   "outputs": [
    {
     "name": "stdin",
     "output_type": "stream",
     "text": [
      "Enter size:  10\n"
     ]
    },
    {
     "name": "stdout",
     "output_type": "stream",
     "text": [
      "1 \n",
      "2 3 \n",
      "4 5 6 \n",
      "7 8 9 10 \n",
      "11 12 13 14 15 \n",
      "16 17 18 19 20 21 \n",
      "22 23 24 25 26 27 28 \n",
      "29 30 31 32 33 34 35 36 \n",
      "37 38 39 40 41 42 43 44 45 \n",
      "46 47 48 49 50 51 52 53 54 55 \n"
     ]
    }
   ],
   "source": [
    "size = int(input(\"Enter size: \"))\n",
    "count, i = 1, 0\n",
    "while i < size:\n",
    "    j = 0\n",
    "    while j < (i + 1):\n",
    "        print(count, end = \" \")\n",
    "        count += 1 \n",
    "        j += 1\n",
    "    i += 1\n",
    "    print()"
   ]
  },
  {
   "cell_type": "code",
   "execution_count": null,
   "id": "50cbf35e-8d32-4e68-baeb-f27feda88ce3",
   "metadata": {},
   "outputs": [],
   "source": []
  }
 ],
 "metadata": {
  "kernelspec": {
   "display_name": "Python 3 (ipykernel)",
   "language": "python",
   "name": "python3"
  },
  "language_info": {
   "codemirror_mode": {
    "name": "ipython",
    "version": 3
   },
   "file_extension": ".py",
   "mimetype": "text/x-python",
   "name": "python",
   "nbconvert_exporter": "python",
   "pygments_lexer": "ipython3",
   "version": "3.12.1"
  }
 },
 "nbformat": 4,
 "nbformat_minor": 5
}
