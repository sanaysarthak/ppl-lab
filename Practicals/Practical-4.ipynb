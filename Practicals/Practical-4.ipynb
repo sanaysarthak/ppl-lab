{
 "cells": [
  {
   "cell_type": "markdown",
   "id": "3a553bb4-9492-49fd-9a21-89616f5174a4",
   "metadata": {},
   "source": [
    "## Practical 4 :-\n",
    "**Name:** Sarthak Sanay\\\n",
    "**Enrollment No:** 230031101611051"
   ]
  },
  {
   "cell_type": "markdown",
   "id": "d26190e3-1587-48f8-b9d6-80c51c6bbb17",
   "metadata": {},
   "source": [
    "### Pattern 1 :-"
   ]
  },
  {
   "cell_type": "code",
   "execution_count": 1,
   "id": "c93ca1b4-3352-486c-b79f-800039fa73fa",
   "metadata": {},
   "outputs": [
    {
     "name": "stdin",
     "output_type": "stream",
     "text": [
      "Enter size:  10\n"
     ]
    },
    {
     "name": "stdout",
     "output_type": "stream",
     "text": [
      "A A A A A A A A A A \n",
      "B B B B B B B B B \n",
      "C C C C C C C C \n",
      "D D D D D D D \n",
      "E E E E E E \n",
      "F F F F F \n",
      "G G G G \n",
      "H H H \n",
      "I I \n",
      "J \n"
     ]
    }
   ],
   "source": [
    "size = int(input(\"Enter size: \"))\n",
    "for i in range(size):\n",
    "    # 65 is the ASCII value of 'A'\n",
    "    ch = 65 + i\n",
    "    for j in range(size - i):\n",
    "        print(chr(ch), end = \" \")\n",
    "    print()"
   ]
  },
  {
   "cell_type": "markdown",
   "id": "00307b51-0368-4ff8-9482-1e1d5591df85",
   "metadata": {},
   "source": [
    "### Pattern 2 :-"
   ]
  },
  {
   "cell_type": "code",
   "execution_count": 2,
   "id": "236d88e8-5cc8-4903-af7f-fc7f6e059140",
   "metadata": {},
   "outputs": [
    {
     "name": "stdin",
     "output_type": "stream",
     "text": [
      "Enter size:  10\n"
     ]
    },
    {
     "name": "stdout",
     "output_type": "stream",
     "text": [
      "1 \n",
      "2 3 \n",
      "4 5 6 \n",
      "7 8 9 10 \n",
      "11 12 13 14 15 \n",
      "16 17 18 19 20 21 \n",
      "22 23 24 25 26 27 28 \n",
      "29 30 31 32 33 34 35 36 \n",
      "37 38 39 40 41 42 43 44 45 \n",
      "46 47 48 49 50 51 52 53 54 55 \n"
     ]
    }
   ],
   "source": [
    "size = int(input(\"Enter size: \"))\n",
    "c = 1\n",
    "for i in range(size):\n",
    "    for j in range(i + 1):\n",
    "        print(c, end = \" \")\n",
    "        c += 1\n",
    "    print()"
   ]
  },
  {
   "cell_type": "markdown",
   "id": "1153b2af-80a6-4345-8c85-dbe07be149e7",
   "metadata": {},
   "source": [
    "### Pattern 3 :-"
   ]
  },
  {
   "cell_type": "code",
   "execution_count": 3,
   "id": "04e5afec-17b8-4b0d-8d55-a65b77fafc1b",
   "metadata": {},
   "outputs": [
    {
     "name": "stdin",
     "output_type": "stream",
     "text": [
      "Enter size:  10\n"
     ]
    },
    {
     "name": "stdout",
     "output_type": "stream",
     "text": [
      "*   *   *   *   *   \n",
      "  *   *   *   *   * \n",
      "*   *   *   *   *   \n",
      "  *   *   *   *   * \n",
      "*   *   *   *   *   \n",
      "  *   *   *   *   * \n",
      "*   *   *   *   *   \n",
      "  *   *   *   *   * \n",
      "*   *   *   *   *   \n",
      "  *   *   *   *   * \n"
     ]
    }
   ],
   "source": [
    "size = int(input(\"Enter size: \"))\n",
    "for i in range(size):\n",
    "    for j in range(size):\n",
    "        if i%2 == 0 and j%2 != 0:\n",
    "            print(\" \", end = \" \")\n",
    "        elif i%2 != 0 and j%2 == 0:\n",
    "            print(\" \", end = \" \")\n",
    "        else:\n",
    "            print(\"*\", end = \" \")\n",
    "    print()"
   ]
  },
  {
   "cell_type": "markdown",
   "id": "8db99ca1-6992-44b6-bc62-0bc20ad1a3c9",
   "metadata": {},
   "source": [
    "### Pattern 4 :-"
   ]
  },
  {
   "cell_type": "code",
   "execution_count": 4,
   "id": "f88bf370-efcb-4207-8c0d-78c5f6df8284",
   "metadata": {},
   "outputs": [
    {
     "name": "stdin",
     "output_type": "stream",
     "text": [
      "Enter size:  10\n"
     ]
    },
    {
     "name": "stdout",
     "output_type": "stream",
     "text": [
      "         * \n",
      "        * * \n",
      "       * * * \n",
      "      * * * * \n",
      "     * * * * * \n",
      "    * * * * * * \n",
      "   * * * * * * * \n",
      "  * * * * * * * * \n",
      " * * * * * * * * * \n",
      "* * * * * * * * * * \n"
     ]
    }
   ],
   "source": [
    "size = int(input(\"Enter size: \"))\n",
    "\n",
    "for i in range(size):\n",
    "    # logic to print blank spaces\n",
    "    print(\" \" * (size - (i+1)), end = \"\")\n",
    "    # logic to print stars along with spaces\n",
    "    print(\"* \" * (i+1))"
   ]
  },
  {
   "cell_type": "markdown",
   "id": "dddc34a8-4bbf-4e58-b2b6-de0bf0deff30",
   "metadata": {},
   "source": [
    "### Pattern 5 :-"
   ]
  },
  {
   "cell_type": "code",
   "execution_count": 5,
   "id": "fa18b527-31ca-4943-a67e-86ee694e9ceb",
   "metadata": {},
   "outputs": [
    {
     "name": "stdin",
     "output_type": "stream",
     "text": [
      "Enter size:  10\n"
     ]
    },
    {
     "name": "stdout",
     "output_type": "stream",
     "text": [
      "* \n",
      "* * \n",
      "*   * \n",
      "*     * \n",
      "*       * \n",
      "*         * \n",
      "*           * \n",
      "*             * \n",
      "*               * \n",
      "* * * * * * * * * * \n"
     ]
    }
   ],
   "source": [
    "size = int(input(\"Enter size: \"))\n",
    "\n",
    "for i in range(size):\n",
    "    for j in range(i + 1):\n",
    "        if j == 0 or j == i or i == 0 or i == size-1:\n",
    "            print(\"*\", end = \" \")\n",
    "        else:\n",
    "            print(\" \", end = \" \")\n",
    "    print()"
   ]
  },
  {
   "cell_type": "markdown",
   "id": "c421f662-0b44-41c3-9f48-aa772a92d235",
   "metadata": {},
   "source": [
    "### Pattern 6 :-"
   ]
  },
  {
   "cell_type": "code",
   "execution_count": 6,
   "id": "51407c0e-0fb1-42c7-a71c-97fa70ed7d75",
   "metadata": {},
   "outputs": [
    {
     "name": "stdin",
     "output_type": "stream",
     "text": [
      "Enter size:  10\n"
     ]
    },
    {
     "name": "stdout",
     "output_type": "stream",
     "text": [
      "**********\n",
      "         *\n",
      "**********\n",
      "         *\n",
      "**********\n",
      "         *\n",
      "**********\n",
      "         *\n",
      "**********\n",
      "         *\n"
     ]
    }
   ],
   "source": [
    "size = int(input(\"Enter size: \"))\n",
    "\n",
    "for i in range(size):\n",
    "    if i%2 == 0:\n",
    "        print(\"*\" * size)\n",
    "    else:\n",
    "        print(\" \" * (size-1) + \"*\")   "
   ]
  },
  {
   "cell_type": "markdown",
   "id": "12c83e22-cf3d-4ad8-a17c-3de72ba265df",
   "metadata": {},
   "source": [
    "### Pattern 7 :-"
   ]
  },
  {
   "cell_type": "code",
   "execution_count": 7,
   "id": "cc74fe13-a456-4dc1-ad97-4bfc1b0f47d8",
   "metadata": {},
   "outputs": [
    {
     "name": "stdin",
     "output_type": "stream",
     "text": [
      "Enter size:  10\n"
     ]
    },
    {
     "name": "stdout",
     "output_type": "stream",
     "text": [
      "1 \n",
      "1 2 \n",
      "1 2 3 \n",
      "1 2 3 4 \n",
      "1 2 3 4 5 \n",
      "1 2 3 4 5 6 \n",
      "1 2 3 4 5 6 7 \n",
      "1 2 3 4 5 6 7 8 \n",
      "1 2 3 4 5 6 7 8 9 \n",
      "1 2 3 4 5 6 7 8 9 10 \n"
     ]
    }
   ],
   "source": [
    "size = int(input(\"Enter size: \"))\n",
    "\n",
    "for i in range(size):\n",
    "    count = 1\n",
    "    for j in range(i+1):\n",
    "        print(count, end = \" \")\n",
    "        count += 1\n",
    "    print()"
   ]
  },
  {
   "cell_type": "code",
   "execution_count": null,
   "id": "33689a2a-7eca-4514-a389-93aa8fc74d15",
   "metadata": {},
   "outputs": [],
   "source": []
  }
 ],
 "metadata": {
  "kernelspec": {
   "display_name": "Python 3 (ipykernel)",
   "language": "python",
   "name": "python3"
  },
  "language_info": {
   "codemirror_mode": {
    "name": "ipython",
    "version": 3
   },
   "file_extension": ".py",
   "mimetype": "text/x-python",
   "name": "python",
   "nbconvert_exporter": "python",
   "pygments_lexer": "ipython3",
   "version": "3.12.1"
  }
 },
 "nbformat": 4,
 "nbformat_minor": 5
}
