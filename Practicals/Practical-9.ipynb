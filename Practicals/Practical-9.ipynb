{
 "cells": [
  {
   "cell_type": "markdown",
   "id": "4a938c6e-9181-4dae-8916-9cbc1cb31e62",
   "metadata": {},
   "source": [
    "## Practical 9 :-\n",
    "**Name:** Sarthak Sanay\\\n",
    "**Enrollment No:** 230031101611051"
   ]
  },
  {
   "cell_type": "markdown",
   "id": "787d8332-e319-4d11-9c8d-9ea4ba1d9c23",
   "metadata": {},
   "source": [
    "### Problem Statement 1:-\n",
    "You are developing a data processing tool where you receive a list of mixed data types. You must filter out non-numeric values and convert the remaining values to integers. Write a Python function ```filter_and_convert_to_integers(data)``` that takes a list of mixed data types as input, filters out non-numeric values, and returns a new list with the remaining values converted to integers."
   ]
  },
  {
   "cell_type": "code",
   "execution_count": 8,
   "id": "db0df24f-f7db-44f9-9773-4a1a377bff07",
   "metadata": {},
   "outputs": [
    {
     "name": "stdout",
     "output_type": "stream",
     "text": [
      "[10, 7, 100, 51, 500]\n"
     ]
    }
   ],
   "source": [
    "def filter_and_convert_to_integers(data):\n",
    "    filtered_list = []\n",
    "    for ele in data:\n",
    "        if type(ele) == int:\n",
    "            filtered_list.append(ele)\n",
    "        if type(ele) == float:\n",
    "            x = int(ele)\n",
    "            filtered_list.append(x)\n",
    "    return filtered_list\n",
    "    \n",
    "data = [\"hi\", 10, 7.2, 100.55, 51, True, False, 'a', \"Sarthak Sanay\", 500.446789]\n",
    "print(filter_and_convert_to_integers(data))"
   ]
  }
 ],
 "metadata": {
  "kernelspec": {
   "display_name": "Python 3 (ipykernel)",
   "language": "python",
   "name": "python3"
  },
  "language_info": {
   "codemirror_mode": {
    "name": "ipython",
    "version": 3
   },
   "file_extension": ".py",
   "mimetype": "text/x-python",
   "name": "python",
   "nbconvert_exporter": "python",
   "pygments_lexer": "ipython3",
   "version": "3.12.1"
  }
 },
 "nbformat": 4,
 "nbformat_minor": 5
}
