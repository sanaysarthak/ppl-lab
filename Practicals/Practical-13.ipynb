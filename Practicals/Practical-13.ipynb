{
 "cells": [
  {
   "cell_type": "markdown",
   "id": "d912aa10-f469-4f16-bb1c-8f3f18202d3c",
   "metadata": {},
   "source": [
    "## Practical 13 :-\n",
    "**Name:** Sarthak Sanay\\\n",
    "**Enrollment No:** 230031101611051"
   ]
  },
  {
   "cell_type": "markdown",
   "id": "48280fb2-26c4-4d03-bb44-d34d499820cc",
   "metadata": {},
   "source": [
    "##### Suppose we have a text file named config.txt attached. "
   ]
  },
  {
   "cell_type": "markdown",
   "id": "8c80f0f5-e225-4ae7-a7e8-46ec6902937f",
   "metadata": {},
   "source": [
    "### Problem Statement 1:-\n",
    "Write a Python code to convert a dictionary containing configuration data that we want to write to a text file. \n",
    "\n",
    "**Example usage:** \\\n",
    "new_config = { \\\n",
    "\"username\": \"new_user\", \\\n",
    "\"password\": \"new_password\", \\\n",
    "\"database\": \"new_db\", \\\n",
    "\"host\": \"localhost\", \\\n",
    "\"port\": \"5432\"}"
   ]
  },
  {
   "cell_type": "markdown",
   "id": "abf9cc42-d434-4016-a782-d65b613982d2",
   "metadata": {},
   "source": [
    "```config.txt``` \\\n",
    "username=old_user \\\n",
    "password=old_pass \\\n",
    "database=old_db \\\n",
    "host=localhost \\\n",
    "port=8080 \n"
   ]
  },
  {
   "cell_type": "code",
   "execution_count": 4,
   "id": "f634cf9d-2d81-44b5-8e84-c4b4ca0c702b",
   "metadata": {},
   "outputs": [
    {
     "name": "stdout",
     "output_type": "stream",
     "text": [
      "Config dictionary from file: {'username': 'new_user', 'password': 'new_password', 'database': 'new_db', 'host': 'localhost', 'port': '5432'}\n",
      "New Config dictionary written to config.txt\n"
     ]
    }
   ],
   "source": [
    "# read config.txt and convert it into a dictionary\n",
    "config_dict = {}\n",
    "\n",
    "with open(\"config.txt\", \"r\") as file:\n",
    "    for line in file:\n",
    "        if \"=\" in line:\n",
    "            key, value = line.strip().split(\"=\", 1)\n",
    "            config_dict[key] = value\n",
    "\n",
    "print(\"Config dictionary from file:\", config_dict)\n",
    "\n",
    "# write a dictionary to a file in key:value format\n",
    "new_config = {\n",
    "    \"username\": \"new_user\",\n",
    "    \"password\": \"new_password\",\n",
    "    \"database\": \"new_db\",\n",
    "    \"host\": \"localhost\",\n",
    "    \"port\": \"5432\"\n",
    "}\n",
    "\n",
    "with open(\"config.txt\", \"w\") as file:\n",
    "    for key, value in new_config.items():\n",
    "        file.write(f\"{key}={value}\\n\")\n",
    "\n",
    "print(\"New Config dictionary written to config.txt\")\n"
   ]
  },
  {
   "cell_type": "code",
   "execution_count": null,
   "id": "6a2c3299-bf22-4b6e-94da-677dd28e4c5a",
   "metadata": {},
   "outputs": [],
   "source": []
  }
 ],
 "metadata": {
  "kernelspec": {
   "display_name": "Python 3 (ipykernel)",
   "language": "python",
   "name": "python3"
  },
  "language_info": {
   "codemirror_mode": {
    "name": "ipython",
    "version": 3
   },
   "file_extension": ".py",
   "mimetype": "text/x-python",
   "name": "python",
   "nbconvert_exporter": "python",
   "pygments_lexer": "ipython3",
   "version": "3.12.1"
  }
 },
 "nbformat": 4,
 "nbformat_minor": 5
}
