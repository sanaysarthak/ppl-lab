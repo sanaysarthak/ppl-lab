{
 "cells": [
  {
   "cell_type": "markdown",
   "id": "524a6c6f-d3c2-46bf-aabb-57784db440b9",
   "metadata": {},
   "source": [
    "## Practical 7 :-\n",
    "**Name:** Sarthak Sanay\\\n",
    "**Enrollment No:** 230031101611051"
   ]
  },
  {
   "cell_type": "markdown",
   "id": "19d02f07-d891-4032-86ce-10123dc9874b",
   "metadata": {},
   "source": [
    "### Problem Statement 3 :-\n",
    "**Book Collection Sorter:** Write a function to sort books. It should take a list of book titles and sort them by the length of the title, with the shortest title first."
   ]
  },
  {
   "cell_type": "code",
   "execution_count": 6,
   "id": "53bba380-780f-4962-9998-940ac331c463",
   "metadata": {},
   "outputs": [
    {
     "name": "stdout",
     "output_type": "stream",
     "text": [
      "Books before sorting :-\n",
      "\n",
      "1. Software Engineering: a practitioners approach\n",
      "2. Python Programming: Using Problem Solving Approach\n",
      "3. Introduction to ALgorithms\n",
      "4. Algorithm Design\n",
      "5. The Design and Analysis of Computer Algorithms\n",
      "6. Introduction to modern cryptography\n",
      "7. Handbook of Applied Cryptography\n",
      "8. Python Programming - Learn & Practice\n",
      "\n",
      "\n",
      "Books after sorting them by length of their title :-\n",
      "\n",
      "1. Algorithm Design\n",
      "2. Introduction to ALgorithms\n",
      "3. Handbook of Applied Cryptography\n",
      "4. Introduction to modern cryptography\n",
      "5. Python Programming - Learn & Practice\n",
      "6. The Design and Analysis of Computer Algorithms\n",
      "7. Software Engineering: a practitioners approach\n",
      "8. Python Programming: Using Problem Solving Approach\n"
     ]
    }
   ],
   "source": [
    "def sort_booklist(booklist):\n",
    "    # Bubble sort implementation for manual sorting, based on title length\n",
    "    for i in range(len(booklist)):\n",
    "        for j in range(i+1, len(booklist)):\n",
    "            if len(booklist[i]) > len(booklist[j]):\n",
    "                booklist[i], booklist[j] = booklist[j], booklist[i] # Swap operation\n",
    "    return booklist\n",
    "\n",
    "# Runner code\n",
    "booklist = ['Software Engineering: a practitioners approach',\n",
    "           'Python Programming: Using Problem Solving Approach',\n",
    "           'Introduction to ALgorithms',\n",
    "           'Algorithm Design',\n",
    "           'The Design and Analysis of Computer Algorithms',\n",
    "           'Introduction to modern cryptography',\n",
    "           'Handbook of Applied Cryptography',\n",
    "           'Python Programming - Learn & Practice']\n",
    "\n",
    "i = 0\n",
    "print(\"Books before sorting :-\\n\")\n",
    "for book in booklist:\n",
    "    print(f\"{i+1}. {book}\")\n",
    "    i += 1\n",
    "    \n",
    "sorted_len_booklist = sort_booklist(booklist)\n",
    "\n",
    "i = 0\n",
    "print(\"\\n\\nBooks after sorting them by length of their title :-\\n\")\n",
    "for book in booklist:\n",
    "    print(f\"{i+1}. {book}\")\n",
    "    i += 1"
   ]
  },
  {
   "cell_type": "code",
   "execution_count": null,
   "id": "6da1b0f5-d3ba-4111-8af7-3dda73252e5d",
   "metadata": {},
   "outputs": [],
   "source": []
  }
 ],
 "metadata": {
  "kernelspec": {
   "display_name": "Python 3 (ipykernel)",
   "language": "python",
   "name": "python3"
  },
  "language_info": {
   "codemirror_mode": {
    "name": "ipython",
    "version": 3
   },
   "file_extension": ".py",
   "mimetype": "text/x-python",
   "name": "python",
   "nbconvert_exporter": "python",
   "pygments_lexer": "ipython3",
   "version": "3.12.1"
  }
 },
 "nbformat": 4,
 "nbformat_minor": 5
}
