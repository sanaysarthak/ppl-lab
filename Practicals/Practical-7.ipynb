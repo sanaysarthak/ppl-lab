{
 "cells": [
  {
   "cell_type": "markdown",
   "id": "524a6c6f-d3c2-46bf-aabb-57784db440b9",
   "metadata": {},
   "source": [
    "## Practical 7 :-\n",
    "**Name:** Sarthak Sanay\\\n",
    "**Enrollment No:** 230031101611051"
   ]
  },
  {
   "cell_type": "markdown",
   "id": "1cca1816-6791-4a73-bc48-4934c7a262da",
   "metadata": {},
   "source": [
    "### Problem Statement 1 :-\n",
    "**Stock Price Variation Tracker:** Write a function ```track_price_variation``` that takes a list of daily stock prices and returns a list of tuples. Each tuple should contain the day number (starting from 0), the price for that day, and the difference in price from the previous day. For the first day, the difference can be listed as ```None```."
   ]
  },
  {
   "cell_type": "code",
   "execution_count": 15,
   "id": "42621133-30bb-4fc0-b75f-5857da62b3bb",
   "metadata": {},
   "outputs": [
    {
     "name": "stdout",
     "output_type": "stream",
     "text": [
      "Variation in Stock price is as follows :-\n",
      "[(0, 80, None), (1, 88, 8), (2, 90, 2), (3, 94, 4), (4, 86, -8), (5, 91, 5), (6, 100, 9), (7, 105, 5), (8, 96, -9), (9, 98, 2)]\n"
     ]
    }
   ],
   "source": [
    "def track_price_variation(stock_price):\n",
    "    variation = [(0, stock_price[0], None)]\n",
    "    for i in range(1, len(stock_price)):\n",
    "        daily = (i, stock_price[i], (stock_price[i] - stock_price[i-1]))\n",
    "        variation.append(daily)\n",
    "    return variation\n",
    "\n",
    "# Runner code\n",
    "stock_price = [80, 88, 90, 94, 86, 91, 100, 105, 96, 98]\n",
    "variation = track_price_variation(stock_price)\n",
    "print(f\"Variation in Stock price is as follows :-\\n{variation}\")"
   ]
  },
  {
   "cell_type": "markdown",
   "id": "ea7f647d-dfc2-418f-85ec-f2376f99487e",
   "metadata": {},
   "source": [
    "### Problem Statement 2 :-\n",
    "**Todo List Manager:** Create a function ```manage_todo``` that takes a list of to-do items and a command (‘add’, ‘remove’, ‘complete’) and modifies the list based on the command."
   ]
  },
  {
   "cell_type": "code",
   "execution_count": 16,
   "id": "71f51afd-ae52-435e-af12-81a2c8355335",
   "metadata": {},
   "outputs": [
    {
     "name": "stdout",
     "output_type": "stream",
     "text": [
      "\n",
      "Task \"Clean the room\" added successfully in To-Do List!\n",
      "['Finish assignment', 'Buy snacks', 'Workout', 'Clean the room']\n",
      "\n",
      "Task \"Buy snacks\" removed successfully from To-Do List!\n",
      "['Finish assignment', 'Workout', 'Clean the room']\n",
      "\n",
      "Task \"Finish assignment\" marked as completed!\n",
      "['Finish assignment -> (Completed!)', 'Workout', 'Clean the room']\n"
     ]
    }
   ],
   "source": [
    "def manage_todo(todo_list, command, task):\n",
    "    if command == 'add':\n",
    "        todo_list.append(task)\n",
    "        print(f'\\nTask \"{task}\" added successfully in To-Do List!')\n",
    "        return todo_list\n",
    "    \n",
    "    elif command == 'remove':\n",
    "        if task in todo_list:\n",
    "            todo_list.remove(task)\n",
    "            print(f'\\nTask \"{task}\" removed successfully from To-Do List!')\n",
    "        else:\n",
    "            print(f'\\nTask \"{task}\" does not exist in the To Do List!')\n",
    "        return todo_list\n",
    "    \n",
    "    elif command == 'complete':\n",
    "        if task in todo_list:\n",
    "            index = todo_list.index(task)\n",
    "            todo_list[index] = task + \" -> (Completed!)\"\n",
    "            print(f'\\nTask \"{task}\" marked as completed!')\n",
    "            return todo_list\n",
    "        else:\n",
    "            print(f'\\nTask \"{task}\" does not exist in the To Do List!')\n",
    "            return todo_list\n",
    "\n",
    "# Runner code\n",
    "todo_list = ['Finish assignment', 'Buy snacks', 'Workout']\n",
    "print(manage_todo(todo_list, 'add', 'Clean the room'))\n",
    "print(manage_todo(todo_list, 'remove', 'Buy snacks'))\n",
    "print(manage_todo(todo_list, 'complete', 'Finish assignment'))"
   ]
  },
  {
   "cell_type": "markdown",
   "id": "19d02f07-d891-4032-86ce-10123dc9874b",
   "metadata": {},
   "source": [
    "### Problem Statement 3 :-\n",
    "**Book Collection Sorter:** Write a function to sort books. It should take a list of book titles and sort them by the length of the title, with the shortest title first."
   ]
  },
  {
   "cell_type": "code",
   "execution_count": 17,
   "id": "53bba380-780f-4962-9998-940ac331c463",
   "metadata": {},
   "outputs": [
    {
     "name": "stdout",
     "output_type": "stream",
     "text": [
      "Books before sorting :-\n",
      "\n",
      "1. Software Engineering: a practitioners approach\n",
      "2. Python Programming: Using Problem Solving Approach\n",
      "3. Introduction to ALgorithms\n",
      "4. Algorithm Design\n",
      "5. The Design and Analysis of Computer Algorithms\n",
      "6. Introduction to modern cryptography\n",
      "7. Handbook of Applied Cryptography\n",
      "8. Python Programming - Learn & Practice\n",
      "\n",
      "\n",
      "Books after sorting them by length of their title :-\n",
      "\n",
      "1. Algorithm Design\n",
      "2. Introduction to ALgorithms\n",
      "3. Handbook of Applied Cryptography\n",
      "4. Introduction to modern cryptography\n",
      "5. Python Programming - Learn & Practice\n",
      "6. The Design and Analysis of Computer Algorithms\n",
      "7. Software Engineering: a practitioners approach\n",
      "8. Python Programming: Using Problem Solving Approach\n"
     ]
    }
   ],
   "source": [
    "def sort_booklist(booklist):\n",
    "    # Bubble sort implementation for manual sorting, based on title length\n",
    "    for i in range(len(booklist)):\n",
    "        for j in range(i+1, len(booklist)):\n",
    "            if len(booklist[i]) > len(booklist[j]):\n",
    "                booklist[i], booklist[j] = booklist[j], booklist[i] # Swap operation\n",
    "    return booklist\n",
    "\n",
    "# Runner code\n",
    "booklist = ['Software Engineering: a practitioners approach',\n",
    "           'Python Programming: Using Problem Solving Approach',\n",
    "           'Introduction to ALgorithms',\n",
    "           'Algorithm Design',\n",
    "           'The Design and Analysis of Computer Algorithms',\n",
    "           'Introduction to modern cryptography',\n",
    "           'Handbook of Applied Cryptography',\n",
    "           'Python Programming - Learn & Practice']\n",
    "\n",
    "i = 0\n",
    "print(\"Books before sorting :-\\n\")\n",
    "for book in booklist:\n",
    "    print(f\"{i+1}. {book}\")\n",
    "    i += 1\n",
    "    \n",
    "sorted_len_booklist = sort_booklist(booklist)\n",
    "\n",
    "i = 0\n",
    "print(\"\\n\\nBooks after sorting them by length of their title :-\\n\")\n",
    "for book in booklist:\n",
    "    print(f\"{i+1}. {book}\")\n",
    "    i += 1"
   ]
  },
  {
   "cell_type": "markdown",
   "id": "b6fc2759-db35-4921-9157-66ce4ee9f056",
   "metadata": {},
   "source": [
    "### Problem Statement 4 :-\n",
    "**Duplicate Finder:** Implement a function to find duplicates that take a list of numbers and returns a list of all numbers that appear more than once."
   ]
  },
  {
   "cell_type": "code",
   "execution_count": 18,
   "id": "a827a548-48f4-4c18-8cb4-23f7e2564041",
   "metadata": {},
   "outputs": [
    {
     "name": "stdout",
     "output_type": "stream",
     "text": [
      "Original List :-\n",
      "[1, 2, 3, 4, 5, 6, 3, 7, 8, 9, 10, 1, 5]\n",
      "\n",
      "Duplicates in the List are :-\n",
      "[1, 3, 5]\n"
     ]
    }
   ],
   "source": [
    "def duplicate_finder(num_list):\n",
    "    duplicates = []\n",
    "    for num in num_list:\n",
    "        if num not in duplicates:\n",
    "            count = 0\n",
    "            temp = num\n",
    "            for num in num_list:\n",
    "                if num == temp:\n",
    "                    count += 1\n",
    "            if count > 1:\n",
    "                duplicates.append(temp)\n",
    "    return duplicates\n",
    "\n",
    "# Runner code\n",
    "num_list = [1, 2, 3, 4, 5, 6, 3, 7, 8, 9, 10, 1, 5]\n",
    "print(f\"Original List :-\\n{num_list}\")\n",
    "\n",
    "duplicates = duplicate_finder(num_list)\n",
    "print(f\"\\nDuplicates in the List are :-\\n{duplicates}\")"
   ]
  },
  {
   "cell_type": "markdown",
   "id": "3328b02d-06cd-4ac6-83d2-5a5431940ad7",
   "metadata": {},
   "source": [
    "### Problem Statement 5 :-\n",
    "**Data Normalizer:** Write a function to normalize data that takes a list of numbers and normalizes them so that the numbers range from 0 to 1 (inclusive).\\\n",
    "*Use the following formula :-*\\\n",
    "```XNew = (X - X_min) / (X_max - X_min)```"
   ]
  },
  {
   "cell_type": "code",
   "execution_count": 19,
   "id": "2e467bcb-3489-4180-82d4-12f1373d68e2",
   "metadata": {},
   "outputs": [
    {
     "name": "stdout",
     "output_type": "stream",
     "text": [
      "Original Data :-\n",
      "[1, 2, 3, 4, 5, 6, 3, 7, 8, 9, 10, 1, 5]\n",
      "\n",
      "Normalized Data :-\n",
      "['0.0000', '0.1111', '0.2222', '0.3333', '0.4444', '0.5556', '0.2222', '0.6667', '0.7778', '0.8889', '1.0000', '0.0000', '0.4444']\n"
     ]
    }
   ],
   "source": [
    "def data_normalizer(num_list):\n",
    "    num_max = max(num_list)\n",
    "    num_min = min(num_list)\n",
    "    output = []\n",
    "    for num in num_list:\n",
    "        num = (num - num_min) / (num_max - num_min)\n",
    "        output.append(f\"{num:.4f}\")\n",
    "    return output\n",
    "\n",
    "# Runner code\n",
    "num_list = [1, 2, 3, 4, 5, 6, 3, 7, 8, 9, 10, 1, 5]\n",
    "print(f\"Original Data :-\\n{num_list}\")\n",
    "\n",
    "normalized_num_list = data_normalizer(num_list)\n",
    "print(f\"\\nNormalized Data :-\\n{normalized_num_list}\")"
   ]
  },
  {
   "cell_type": "markdown",
   "id": "ec57228d-f2ab-4697-8b9b-f18661e96d9b",
   "metadata": {},
   "source": [
    "### Problem Statement 6 :-\n",
    "**Reversing a Sentence:** You are building a text editor application, and one of the features you want to implement is sentence reversal.\\\n",
    "**Example:**\\\n",
    "Input:  ```hello python.```\\\n",
    "Output: ```olleh .nohtyp```"
   ]
  },
  {
   "cell_type": "code",
   "execution_count": 20,
   "id": "ec50bb9e-3f6e-4816-996d-5ff53d4ab3da",
   "metadata": {},
   "outputs": [
    {
     "name": "stdin",
     "output_type": "stream",
     "text": [
      "Enter a sentence:  hello python.\n"
     ]
    },
    {
     "name": "stdout",
     "output_type": "stream",
     "text": [
      "olleh .nohtyp\n"
     ]
    }
   ],
   "source": [
    "def sentence_reversal(sentence):\n",
    "    words = sentence.split()\n",
    "    rev_word = ''\n",
    "    for word in words:\n",
    "        for i in range(len(word)-1, -1, -1):\n",
    "            rev_word += word[i]\n",
    "        rev_word += ' '\n",
    "    return rev_word.rstrip() # Remove trailing blankspace at end of last word\n",
    "\n",
    "# Runner code\n",
    "sentence = input(\"Enter a sentence: \")\n",
    "reverse = sentence_reversal(sentence)\n",
    "print(reverse)"
   ]
  }
 ],
 "metadata": {
  "kernelspec": {
   "display_name": "Python 3 (ipykernel)",
   "language": "python",
   "name": "python3"
  },
  "language_info": {
   "codemirror_mode": {
    "name": "ipython",
    "version": 3
   },
   "file_extension": ".py",
   "mimetype": "text/x-python",
   "name": "python",
   "nbconvert_exporter": "python",
   "pygments_lexer": "ipython3",
   "version": "3.12.1"
  }
 },
 "nbformat": 4,
 "nbformat_minor": 5
}
