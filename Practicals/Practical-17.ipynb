{
 "cells": [
  {
   "cell_type": "markdown",
   "id": "8d077f88-3752-4110-a3e4-19cdb96ce2c2",
   "metadata": {},
   "source": [
    "## Practical 17 :-\n",
    "**Name:** Sarthak Sanay\\\n",
    "**Enrollment No:** 230031101611051"
   ]
  },
  {
   "cell_type": "markdown",
   "id": "389930b0-4436-4020-9f0d-ec667e4bae13",
   "metadata": {},
   "source": [
    "### Problem Statement 1:-\n",
    "**Inventory Management System:** \\\n",
    "A retail company needs a software solution to streamline inventory management. The system should enable employees to add new products to the inventory, specifying details such as the product name, price, and quantity available. Additionally, the system should support an operation to combine two products, calculating the average price and total quantity of the combined product. \\\n",
    "Python Feature: This solution will utilize Python classes to represent products\n",
    "and operator overloading to perform calculations when combining products."
   ]
  },
  {
   "cell_type": "code",
   "execution_count": 2,
   "id": "75f00058-5511-479f-8c13-507cc228ee0c",
   "metadata": {},
   "outputs": [
    {
     "name": "stdout",
     "output_type": "stream",
     "text": [
      "Add two products to combine them:-\n",
      "\n"
     ]
    },
    {
     "name": "stdin",
     "output_type": "stream",
     "text": [
      "Enter product name:  Sony PlayStation 5\n",
      "Enter product price:  56000\n",
      "Enter product quantity:  12\n",
      "\n",
      "Enter another product name (must be same to combine):  Sony PlayStation 5\n",
      "Enter product price:  44000\n",
      "Enter product quantity:  18\n"
     ]
    },
    {
     "name": "stdout",
     "output_type": "stream",
     "text": [
      "\n",
      "Product 1 :-\n",
      "Product: Sony PlayStation 5\n",
      "Price: ₹56000.0\n",
      "Quantity: 12\n",
      "\n",
      "Product 2 :-\n",
      "Product: Sony PlayStation 5\n",
      "Price: ₹44000.0\n",
      "Quantity: 18\n",
      "\n",
      "Combined Product :-\n",
      "Product: Sony PlayStation 5\n",
      "Price: ₹48800.0\n",
      "Quantity: 30\n",
      "\n"
     ]
    }
   ],
   "source": [
    "class Product:\n",
    "    def __init__(self, name, price, quantity):\n",
    "        self.name = name\n",
    "        self.price = price\n",
    "        self.quantity = quantity\n",
    "\n",
    "    def display(self):\n",
    "        print(f\"Product: {self.name}\")\n",
    "        print(f\"Price: ₹{self.price}\")\n",
    "        print(f\"Quantity: {self.quantity}\\n\")\n",
    "\n",
    "    # Overload '+' to combine two products\n",
    "    def __add__(self, other):\n",
    "        if self.name != other.name:\n",
    "            raise ValueError(\"Cannot combine products with different names.\")\n",
    "        \n",
    "        total_quantity = self.quantity + other.quantity\n",
    "        avg_price = (self.price * self.quantity + other.price * other.quantity) / total_quantity\n",
    "        return Product(self.name, round(avg_price, 2), total_quantity)\n",
    "\n",
    "\n",
    "print(\"Add two products to combine them:-\\n\")\n",
    "\n",
    "# First product\n",
    "name1 = input(\"Enter product name: \")\n",
    "price1 = float(input(\"Enter product price: \"))\n",
    "qty1 = int(input(\"Enter product quantity: \"))\n",
    "product1 = Product(name1, price1, qty1)\n",
    "\n",
    "# Second product\n",
    "name2 = input(\"\\nEnter another product name (must be same to combine): \")\n",
    "price2 = float(input(\"Enter product price: \"))\n",
    "qty2 = int(input(\"Enter product quantity: \"))\n",
    "product2 = Product(name2, price2, qty2)\n",
    "\n",
    "# Display original products\n",
    "print(\"\\nProduct 1 :-\")\n",
    "product1.display()\n",
    "\n",
    "print(\"Product 2 :-\")\n",
    "product2.display()\n",
    "\n",
    "# Combine products\n",
    "try:\n",
    "    combined = product1 + product2\n",
    "    print(\"Combined Product :-\")\n",
    "    combined.display()\n",
    "except ValueError as e:\n",
    "    print(f\"Error: {e}\")\n"
   ]
  },
  {
   "cell_type": "code",
   "execution_count": null,
   "id": "d11a4040-8ce8-4cb3-87a2-dd1e2a3ff35a",
   "metadata": {},
   "outputs": [],
   "source": []
  }
 ],
 "metadata": {
  "kernelspec": {
   "display_name": "Python 3 (ipykernel)",
   "language": "python",
   "name": "python3"
  },
  "language_info": {
   "codemirror_mode": {
    "name": "ipython",
    "version": 3
   },
   "file_extension": ".py",
   "mimetype": "text/x-python",
   "name": "python",
   "nbconvert_exporter": "python",
   "pygments_lexer": "ipython3",
   "version": "3.12.1"
  }
 },
 "nbformat": 4,
 "nbformat_minor": 5
}
