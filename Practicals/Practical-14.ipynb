{
 "cells": [
  {
   "cell_type": "markdown",
   "id": "0914dada-dea2-42e1-ae20-ce11048b1f72",
   "metadata": {},
   "source": [
    "## Practical 14 :-\n",
    "**Name:** Sarthak Sanay\\\n",
    "**Enrollment No:** 230031101611051"
   ]
  },
  {
   "cell_type": "markdown",
   "id": "f0548fbf-8579-4754-b0ff-7e44fc905fc9",
   "metadata": {},
   "source": [
    "### Problem Statement 1:-\n",
    "**Student Grade Management (CSV):** \\\n",
    "You are a teacher at a school and maintain student grade records in a CSV file. The file contains student IDs, names, and grades for different subjects (e.g., Math, Science, English). Develop a Python program to read this CSV file, calculate each student's average grade, display the top-performing students, allow the user to search for a student by ID or name, and update their grades. Provide an option to save the updated data back to the CSV file."
   ]
  },
  {
   "cell_type": "code",
   "execution_count": 1,
   "id": "936948e4-f8c4-469b-bca9-9fda5da56560",
   "metadata": {},
   "outputs": [
    {
     "name": "stdout",
     "output_type": "stream",
     "text": [
      "Top 3 students:\n",
      "104 - Michael Brown: Average = 92.00\n",
      "102 - Jane Smith: Average = 87.33\n",
      "101 - John Doe: Average = 85.00\n"
     ]
    },
    {
     "name": "stdin",
     "output_type": "stream",
     "text": [
      "\n",
      "Options:\n",
      "1. Search student\n",
      "2. Update student grades\n",
      "3. Save and Exit\n",
      "Choose:  1\n",
      "Enter Student ID or Name to search:  103\n"
     ]
    },
    {
     "name": "stdout",
     "output_type": "stream",
     "text": [
      "Found: 103 - Emily Davis\n",
      "Grades: Math=76, Science=85, English=80\n",
      "Average: 80.33\n"
     ]
    },
    {
     "name": "stdin",
     "output_type": "stream",
     "text": [
      "\n",
      "Options:\n",
      "1. Search student\n",
      "2. Update student grades\n",
      "3. Save and Exit\n",
      "Choose:  2\n",
      "Enter Student ID or Name to update:  103\n"
     ]
    },
    {
     "name": "stdout",
     "output_type": "stream",
     "text": [
      "Updating grades for Emily Davis (ID: 103)\n"
     ]
    },
    {
     "name": "stdin",
     "output_type": "stream",
     "text": [
      "Enter new grade for Math (leave blank to keep 76):  \n",
      "Enter new grade for Science (leave blank to keep 85):  \n",
      "Enter new grade for English (leave blank to keep 80):  100\n"
     ]
    },
    {
     "name": "stdout",
     "output_type": "stream",
     "text": [
      "Grades updated.\n"
     ]
    },
    {
     "name": "stdin",
     "output_type": "stream",
     "text": [
      "\n",
      "Options:\n",
      "1. Search student\n",
      "2. Update student grades\n",
      "3. Save and Exit\n",
      "Choose:  1\n",
      "Enter Student ID or Name to search:  103\n"
     ]
    },
    {
     "name": "stdout",
     "output_type": "stream",
     "text": [
      "Found: 103 - Emily Davis\n",
      "Grades: Math=76, Science=85, English=100\n",
      "Average: 87.00\n"
     ]
    },
    {
     "name": "stdin",
     "output_type": "stream",
     "text": [
      "\n",
      "Options:\n",
      "1. Search student\n",
      "2. Update student grades\n",
      "3. Save and Exit\n",
      "Choose:  3\n"
     ]
    },
    {
     "name": "stdout",
     "output_type": "stream",
     "text": [
      "Data saved to students.csv\n"
     ]
    }
   ],
   "source": [
    "import csv\n",
    "\n",
    "FILENAME = 'students.csv'\n",
    "\n",
    "def read_students(filename):\n",
    "    students = []\n",
    "    with open(filename, newline='') as csvfile:\n",
    "        reader = csv.DictReader(csvfile)\n",
    "        for row in reader:\n",
    "            \n",
    "            for subject in ['Math', 'Science', 'English']:\n",
    "                row[subject] = int(row[subject])\n",
    "            students.append(row)\n",
    "    return students\n",
    "\n",
    "def calculate_averages(students):\n",
    "    for student in students:\n",
    "        grades = [student[subj] for subj in ['Math', 'Science', 'English']]\n",
    "        student['Average'] = sum(grades) / len(grades)\n",
    "\n",
    "def display_top_students(students, top_n=3):\n",
    "    sorted_students = sorted(students, key=lambda x: x['Average'], reverse=True)\n",
    "    print(f\"Top {top_n} students:\")\n",
    "    for s in sorted_students[:top_n]:\n",
    "        print(f\"{s['StudentID']} - {s['Name']}: Average = {s['Average']:.2f}\")\n",
    "\n",
    "def search_student(students, query):\n",
    "    query = query.lower()\n",
    "    for student in students:\n",
    "        if student['StudentID'] == query or student['Name'].lower() == query:\n",
    "            return student\n",
    "    return None\n",
    "\n",
    "def update_grades(student):\n",
    "    print(f\"Updating grades for {student['Name']} (ID: {student['StudentID']})\")\n",
    "    for subject in ['Math', 'Science', 'English']:\n",
    "        new_grade = input(f\"Enter new grade for {subject} (leave blank to keep {student[subject]}): \")\n",
    "        if new_grade.strip():\n",
    "            student[subject] = int(new_grade)\n",
    "    \n",
    "    grades = [student[subj] for subj in ['Math', 'Science', 'English']]\n",
    "    student['Average'] = sum(grades) / len(grades)\n",
    "    print(\"Grades updated.\")\n",
    "\n",
    "def save_students(filename, students):\n",
    "    with open(filename, 'w', newline='') as csvfile:\n",
    "        fieldnames = ['StudentID', 'Name', 'Math', 'Science', 'English']\n",
    "        writer = csv.DictWriter(csvfile, fieldnames=fieldnames)\n",
    "        writer.writeheader()\n",
    "        for s in students:\n",
    "            \n",
    "            writer.writerow({\n",
    "                'StudentID': s['StudentID'],\n",
    "                'Name': s['Name'],\n",
    "                'Math': s['Math'],\n",
    "                'Science': s['Science'],\n",
    "                'English': s['English']\n",
    "            })\n",
    "    print(f\"Data saved to {filename}\")\n",
    "\n",
    "def main():\n",
    "    students = read_students(FILENAME)\n",
    "    calculate_averages(students)\n",
    "    display_top_students(students)\n",
    "\n",
    "    while True:\n",
    "        choice = input(\"\\nOptions:\\n1. Search student\\n2. Update student grades\\n3. Save and Exit\\nChoose: \")\n",
    "\n",
    "        if choice == '1':\n",
    "            query = input(\"Enter Student ID or Name to search: \")\n",
    "            student = search_student(students, query)\n",
    "            if student:\n",
    "                print(f\"Found: {student['StudentID']} - {student['Name']}\")\n",
    "                print(f\"Grades: Math={student['Math']}, Science={student['Science']}, English={student['English']}\")\n",
    "                print(f\"Average: {student['Average']:.2f}\")\n",
    "            else:\n",
    "                print(\"Student not found.\")\n",
    "        \n",
    "        elif choice == '2':\n",
    "            query = input(\"Enter Student ID or Name to update: \")\n",
    "            student = search_student(students, query)\n",
    "            if student:\n",
    "                update_grades(student)\n",
    "            else:\n",
    "                print(\"Student not found.\")\n",
    "\n",
    "        elif choice == '3':\n",
    "            save_students(FILENAME, students)\n",
    "            break\n",
    "        else:\n",
    "            print(\"Invalid choice, try again.\")\n",
    "\n",
    "if __name__ == '__main__':\n",
    "    main()\n"
   ]
  },
  {
   "cell_type": "markdown",
   "id": "29696ed5-6019-4932-955d-5a8c385e8b4e",
   "metadata": {},
   "source": [
    "### Problem Statement 2:-\n",
    "**Product Inventory Tracking (JSON):** \\\n",
    "Your company manages a product inventory using a JSON file. Each product entry includes details such as product ID, name, quantity in stock, and unit price. Write a Python program to read this JSON file, display the list of available products, allow the user to search for a product by name or ID, update the quantity of a product after purchase, and generate a report showing low-stock items (products with quantity below a certain threshold)."
   ]
  },
  {
   "cell_type": "code",
   "execution_count": 2,
   "id": "5db1b171-4530-4511-9757-600921f99a76",
   "metadata": {},
   "outputs": [
    {
     "name": "stdout",
     "output_type": "stream",
     "text": [
      "\n",
      "Options:\n",
      "1. Display all products\n",
      "2. Search for a product\n",
      "3. Update product quantity after purchase\n",
      "4. Generate low-stock report\n",
      "5. Save and Exit\n"
     ]
    },
    {
     "name": "stdin",
     "output_type": "stream",
     "text": [
      "Choose an option:  1\n"
     ]
    },
    {
     "name": "stdout",
     "output_type": "stream",
     "text": [
      "Available Products:\n",
      "P001 - Laptop | Quantity: 15 | Price: $800\n",
      "P002 - Mouse | Quantity: 50 | Price: $20\n",
      "P003 - Keyboard | Quantity: 30 | Price: $35\n",
      "P004 - Monitor | Quantity: 10 | Price: $150\n",
      "P005 - USB Cable | Quantity: 5 | Price: $10\n",
      "\n",
      "Options:\n",
      "1. Display all products\n",
      "2. Search for a product\n",
      "3. Update product quantity after purchase\n",
      "4. Generate low-stock report\n",
      "5. Save and Exit\n"
     ]
    },
    {
     "name": "stdin",
     "output_type": "stream",
     "text": [
      "Choose an option:  2\n",
      "Enter Product ID or Name to search:  P003\n"
     ]
    },
    {
     "name": "stdout",
     "output_type": "stream",
     "text": [
      "Found: P003 - Keyboard | Quantity: 30 | Price: $35\n",
      "\n",
      "Options:\n",
      "1. Display all products\n",
      "2. Search for a product\n",
      "3. Update product quantity after purchase\n",
      "4. Generate low-stock report\n",
      "5. Save and Exit\n"
     ]
    },
    {
     "name": "stdin",
     "output_type": "stream",
     "text": [
      "Choose an option:  3\n",
      "Enter Product ID or Name to update quantity:  P003\n"
     ]
    },
    {
     "name": "stdout",
     "output_type": "stream",
     "text": [
      "Current quantity of Keyboard: 30\n"
     ]
    },
    {
     "name": "stdin",
     "output_type": "stream",
     "text": [
      "Enter quantity purchased (to reduce stock):  10\n"
     ]
    },
    {
     "name": "stdout",
     "output_type": "stream",
     "text": [
      "Updated quantity: 20\n",
      "\n",
      "Options:\n",
      "1. Display all products\n",
      "2. Search for a product\n",
      "3. Update product quantity after purchase\n",
      "4. Generate low-stock report\n",
      "5. Save and Exit\n"
     ]
    },
    {
     "name": "stdin",
     "output_type": "stream",
     "text": [
      "Choose an option:  2\n",
      "Enter Product ID or Name to search:  P003\n"
     ]
    },
    {
     "name": "stdout",
     "output_type": "stream",
     "text": [
      "Found: P003 - Keyboard | Quantity: 20 | Price: $35\n",
      "\n",
      "Options:\n",
      "1. Display all products\n",
      "2. Search for a product\n",
      "3. Update product quantity after purchase\n",
      "4. Generate low-stock report\n",
      "5. Save and Exit\n"
     ]
    },
    {
     "name": "stdin",
     "output_type": "stream",
     "text": [
      "Choose an option:  4\n",
      "Enter low stock threshold (default 10):  8\n"
     ]
    },
    {
     "name": "stdout",
     "output_type": "stream",
     "text": [
      "\n",
      "Products with stock below 8:\n",
      "P005 - USB Cable | Quantity: 5\n",
      "\n",
      "Options:\n",
      "1. Display all products\n",
      "2. Search for a product\n",
      "3. Update product quantity after purchase\n",
      "4. Generate low-stock report\n",
      "5. Save and Exit\n"
     ]
    },
    {
     "name": "stdin",
     "output_type": "stream",
     "text": [
      "Choose an option:  5\n"
     ]
    },
    {
     "name": "stdout",
     "output_type": "stream",
     "text": [
      "Inventory saved to inventory.json\n"
     ]
    }
   ],
   "source": [
    "import json\n",
    "\n",
    "FILENAME = 'inventory.json'\n",
    "\n",
    "def load_products(filename):\n",
    "    with open(filename, 'r') as f:\n",
    "        return json.load(f)\n",
    "\n",
    "def save_products(filename, products):\n",
    "    with open(filename, 'w') as f:\n",
    "        json.dump(products, f, indent=4)\n",
    "    print(f\"Inventory saved to {filename}\")\n",
    "\n",
    "def display_products(products):\n",
    "    print(\"Available Products:\")\n",
    "    for p in products:\n",
    "        print(f\"{p['ProductID']} - {p['Name']} | Quantity: {p['Quantity']} | Price: ${p['UnitPrice']}\")\n",
    "\n",
    "def search_product(products, query):\n",
    "    query = query.lower()\n",
    "    for p in products:\n",
    "        if p['ProductID'].lower() == query or p['Name'].lower() == query:\n",
    "            return p\n",
    "    return None\n",
    "\n",
    "def update_quantity(product):\n",
    "    print(f\"Current quantity of {product['Name']}: {product['Quantity']}\")\n",
    "    try:\n",
    "        qty = int(input(\"Enter quantity purchased (to reduce stock): \"))\n",
    "        if qty > 0 and qty <= product['Quantity']:\n",
    "            product['Quantity'] -= qty\n",
    "            print(f\"Updated quantity: {product['Quantity']}\")\n",
    "        else:\n",
    "            print(\"Invalid quantity. Purchase quantity must be positive and no more than current stock.\")\n",
    "    except ValueError:\n",
    "        print(\"Please enter a valid number.\")\n",
    "\n",
    "def low_stock_report(products, threshold=10):\n",
    "    print(f\"\\nProducts with stock below {threshold}:\")\n",
    "    low_stock_items = [p for p in products if p['Quantity'] < threshold]\n",
    "    if low_stock_items:\n",
    "        for p in low_stock_items:\n",
    "            print(f\"{p['ProductID']} - {p['Name']} | Quantity: {p['Quantity']}\")\n",
    "    else:\n",
    "        print(\"No products with low stock.\")\n",
    "\n",
    "\n",
    "products = load_products(FILENAME)\n",
    "\n",
    "while True:\n",
    "    print(\"\\nOptions:\")\n",
    "    print(\"1. Display all products\")\n",
    "    print(\"2. Search for a product\")\n",
    "    print(\"3. Update product quantity after purchase\")\n",
    "    print(\"4. Generate low-stock report\")\n",
    "    print(\"5. Save and Exit\")\n",
    "\n",
    "    choice = input(\"Choose an option: \")\n",
    "\n",
    "    if choice == '1':\n",
    "        display_products(products)\n",
    "\n",
    "    elif choice == '2':\n",
    "        query = input(\"Enter Product ID or Name to search: \")\n",
    "        product = search_product(products, query)\n",
    "        if product:\n",
    "            print(f\"Found: {product['ProductID']} - {product['Name']} | Quantity: {product['Quantity']} | Price: ${product['UnitPrice']}\")\n",
    "        else:\n",
    "            print(\"Product not found.\")\n",
    "\n",
    "    elif choice == '3':\n",
    "        query = input(\"Enter Product ID or Name to update quantity: \")\n",
    "        product = search_product(products, query)\n",
    "        if product:\n",
    "            update_quantity(product)\n",
    "        else:\n",
    "            print(\"Product not found.\")\n",
    "\n",
    "    elif choice == '4':\n",
    "        threshold = input(\"Enter low stock threshold (default 10): \")\n",
    "        if threshold.isdigit():\n",
    "            threshold = int(threshold)\n",
    "        else:\n",
    "            threshold = 10\n",
    "        low_stock_report(products, threshold)\n",
    "\n",
    "    elif choice == '5':\n",
    "        save_products(FILENAME, products)\n",
    "        break\n",
    "\n",
    "    else:\n",
    "        print(\"Invalid choice, please try again.\")"
   ]
  },
  {
   "cell_type": "markdown",
   "id": "c3697031-51e2-4628-b8f1-5c6642d0fd78",
   "metadata": {},
   "source": [
    "### Problem Statement 3:-\n",
    "**Customer Database Management (CSV):** \\\n",
    "You are working for a small retail business that maintains a customer database in a CSV file. The file contains customer information such as name, email, phone number, and purchase history. Develop a Python program to read this CSV file, allow the user to search for a customer by name or email, and update their purchase history. Additionally, provide an option to add new customers to the database and save the updated data back to the CSV file."
   ]
  },
  {
   "cell_type": "code",
   "execution_count": 2,
   "id": "12fe68f7-6ccf-4e4b-b203-9311e0081855",
   "metadata": {},
   "outputs": [
    {
     "name": "stdout",
     "output_type": "stream",
     "text": [
      "\n",
      "Options:\n",
      "1. Search customer\n",
      "2. Update purchase history\n",
      "3. Add new customer\n",
      "4. Save and Exit\n"
     ]
    },
    {
     "name": "stdin",
     "output_type": "stream",
     "text": [
      "Choose an option:  1\n",
      "Enter customer Name or Email to search:  bobsmith@example.com\n"
     ]
    },
    {
     "name": "stdout",
     "output_type": "stream",
     "text": [
      "Found: Bob Smith | Email: bobsmith@example.com | Phone: 555-5678\n",
      "Purchase History: Keyboard\n",
      "\n",
      "Options:\n",
      "1. Search customer\n",
      "2. Update purchase history\n",
      "3. Add new customer\n",
      "4. Save and Exit\n"
     ]
    },
    {
     "name": "stdin",
     "output_type": "stream",
     "text": [
      "Choose an option:  1\n",
      "Enter customer Name or Email to search:  elonmusk@example.com\n"
     ]
    },
    {
     "name": "stdout",
     "output_type": "stream",
     "text": [
      "Customer not found.\n",
      "\n",
      "Options:\n",
      "1. Search customer\n",
      "2. Update purchase history\n",
      "3. Add new customer\n",
      "4. Save and Exit\n"
     ]
    },
    {
     "name": "stdin",
     "output_type": "stream",
     "text": [
      "Choose an option:  2\n",
      "Enter customer Name or Email to update purchase history:  bobsmith@example.com\n"
     ]
    },
    {
     "name": "stdout",
     "output_type": "stream",
     "text": [
      "Current purchase history: Keyboard\n"
     ]
    },
    {
     "name": "stdin",
     "output_type": "stream",
     "text": [
      "Enter new purchase item(s) to add (comma separated):  iPhone, Playstation\n"
     ]
    },
    {
     "name": "stdout",
     "output_type": "stream",
     "text": [
      "Purchase history updated.\n",
      "\n",
      "Options:\n",
      "1. Search customer\n",
      "2. Update purchase history\n",
      "3. Add new customer\n",
      "4. Save and Exit\n"
     ]
    },
    {
     "name": "stdin",
     "output_type": "stream",
     "text": [
      "Choose an option:  1\n",
      "Enter customer Name or Email to search:  bobsmith@example.com\n"
     ]
    },
    {
     "name": "stdout",
     "output_type": "stream",
     "text": [
      "Found: Bob Smith | Email: bobsmith@example.com | Phone: 555-5678\n",
      "Purchase History: Keyboard, iPhone, Playstation\n",
      "\n",
      "Options:\n",
      "1. Search customer\n",
      "2. Update purchase history\n",
      "3. Add new customer\n",
      "4. Save and Exit\n"
     ]
    },
    {
     "name": "stdin",
     "output_type": "stream",
     "text": [
      "Choose an option:  3\n"
     ]
    },
    {
     "name": "stdout",
     "output_type": "stream",
     "text": [
      "Add New Customer:\n"
     ]
    },
    {
     "name": "stdin",
     "output_type": "stream",
     "text": [
      "Name:  Elon Musk\n",
      "Email:  elonmusk@example.com\n",
      "Phone:  555-1234\n",
      "Purchase history (comma separated):  Twitter\n"
     ]
    },
    {
     "name": "stdout",
     "output_type": "stream",
     "text": [
      "New customer added.\n",
      "\n",
      "Options:\n",
      "1. Search customer\n",
      "2. Update purchase history\n",
      "3. Add new customer\n",
      "4. Save and Exit\n"
     ]
    },
    {
     "name": "stdin",
     "output_type": "stream",
     "text": [
      "Choose an option:  1\n",
      "Enter customer Name or Email to search:  elonmusk@example.com\n"
     ]
    },
    {
     "name": "stdout",
     "output_type": "stream",
     "text": [
      "Found: Elon Musk | Email: elonmusk@example.com | Phone: 555-1234\n",
      "Purchase History: Twitter\n",
      "\n",
      "Options:\n",
      "1. Search customer\n",
      "2. Update purchase history\n",
      "3. Add new customer\n",
      "4. Save and Exit\n"
     ]
    },
    {
     "name": "stdin",
     "output_type": "stream",
     "text": [
      "Choose an option:  4\n"
     ]
    },
    {
     "name": "stdout",
     "output_type": "stream",
     "text": [
      "Data saved to customers.csv\n"
     ]
    }
   ],
   "source": [
    "import csv\n",
    "\n",
    "FILENAME = 'customers.csv'\n",
    "\n",
    "def read_customers(filename):\n",
    "    customers = []\n",
    "    with open(filename, newline='') as csvfile:\n",
    "        reader = csv.DictReader(csvfile)\n",
    "        for row in reader:\n",
    "            customers.append(row)\n",
    "    return customers\n",
    "\n",
    "def save_customers(filename, customers):\n",
    "    with open(filename, 'w', newline='') as csvfile:\n",
    "        fieldnames = ['Name', 'Email', 'Phone', 'PurchaseHistory']\n",
    "        writer = csv.DictWriter(csvfile, fieldnames=fieldnames)\n",
    "        writer.writeheader()\n",
    "        for c in customers:\n",
    "            writer.writerow(c)\n",
    "    print(f\"Data saved to {filename}\")\n",
    "\n",
    "def search_customer(customers, query):\n",
    "    query = query.lower()\n",
    "    for customer in customers:\n",
    "        if customer['Name'].lower() == query or customer['Email'].lower() == query:\n",
    "            return customer\n",
    "    return None\n",
    "\n",
    "def update_purchase_history(customer):\n",
    "    print(f\"Current purchase history: {customer['PurchaseHistory']}\")\n",
    "    new_purchase = input(\"Enter new purchase item(s) to add (comma separated): \").strip()\n",
    "    if new_purchase:\n",
    "        if customer['PurchaseHistory']:\n",
    "            customer['PurchaseHistory'] += ', ' + new_purchase\n",
    "        else:\n",
    "            customer['PurchaseHistory'] = new_purchase\n",
    "        print(\"Purchase history updated.\")\n",
    "    else:\n",
    "        print(\"No update made.\")\n",
    "\n",
    "def add_customer(customers):\n",
    "    print(\"Add New Customer:\")\n",
    "    name = input(\"Name: \").strip()\n",
    "    email = input(\"Email: \").strip()\n",
    "    phone = input(\"Phone: \").strip()\n",
    "    purchase_history = input(\"Purchase history (comma separated): \").strip()\n",
    "\n",
    "    for c in customers:\n",
    "        if c['Email'].lower() == email.lower():\n",
    "            print(\"Customer with this email already exists.\")\n",
    "            return\n",
    "\n",
    "    new_customer = {\n",
    "        'Name': name,\n",
    "        'Email': email,\n",
    "        'Phone': phone,\n",
    "        'PurchaseHistory': purchase_history\n",
    "    }\n",
    "    customers.append(new_customer)\n",
    "    print(\"New customer added.\")\n",
    "\n",
    "\n",
    "customers = read_customers(FILENAME)\n",
    "\n",
    "while True:\n",
    "    print(\"\\nOptions:\")\n",
    "    print(\"1. Search customer\")\n",
    "    print(\"2. Update purchase history\")\n",
    "    print(\"3. Add new customer\")\n",
    "    print(\"4. Save and Exit\")\n",
    "\n",
    "    choice = input(\"Choose an option: \")\n",
    "\n",
    "    if choice == '1':\n",
    "        query = input(\"Enter customer Name or Email to search: \")\n",
    "        customer = search_customer(customers, query)\n",
    "        if customer:\n",
    "            print(f\"Found: {customer['Name']} | Email: {customer['Email']} | Phone: {customer['Phone']}\")\n",
    "            print(f\"Purchase History: {customer['PurchaseHistory']}\")\n",
    "        else:\n",
    "            print(\"Customer not found.\")\n",
    "\n",
    "    elif choice == '2':\n",
    "        query = input(\"Enter customer Name or Email to update purchase history: \")\n",
    "        customer = search_customer(customers, query)\n",
    "        if customer:\n",
    "            update_purchase_history(customer)\n",
    "        else:\n",
    "            print(\"Customer not found.\")\n",
    "\n",
    "    elif choice == '3':\n",
    "        add_customer(customers)\n",
    "\n",
    "    elif choice == '4':\n",
    "        save_customers(FILENAME, customers)\n",
    "        break\n",
    "\n",
    "    else:\n",
    "        print(\"Invalid choice, please try again.\")\n"
   ]
  },
  {
   "cell_type": "code",
   "execution_count": null,
   "id": "10c19625-1484-42d8-8cf2-cba1376cf75a",
   "metadata": {},
   "outputs": [],
   "source": []
  }
 ],
 "metadata": {
  "kernelspec": {
   "display_name": "Python 3 (ipykernel)",
   "language": "python",
   "name": "python3"
  },
  "language_info": {
   "codemirror_mode": {
    "name": "ipython",
    "version": 3
   },
   "file_extension": ".py",
   "mimetype": "text/x-python",
   "name": "python",
   "nbconvert_exporter": "python",
   "pygments_lexer": "ipython3",
   "version": "3.12.1"
  }
 },
 "nbformat": 4,
 "nbformat_minor": 5
}
