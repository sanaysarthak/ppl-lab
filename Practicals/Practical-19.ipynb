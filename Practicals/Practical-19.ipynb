{
 "cells": [
  {
   "cell_type": "markdown",
   "id": "8d077f88-3752-4110-a3e4-19cdb96ce2c2",
   "metadata": {},
   "source": [
    "## Practical 19 :-\n",
    "**Name:** Sarthak Sanay\\\n",
    "**Enrollment No:** 230031101611051"
   ]
  },
  {
   "cell_type": "markdown",
   "id": "389930b0-4436-4020-9f0d-ec667e4bae13",
   "metadata": {},
   "source": [
    "### Problem Statement 1:-\n",
    "**Division with Multiple Exception Types:** \\\n",
    "Write a function safe_divide(a, b) that takes two arguments and performs division. Handle the following exceptions: \\\n",
    "```ZeroDivisionError```: When b is zero, print \"Cannot divide by zero\" and return None. \\\n",
    "```TypeError```: When either a or b is not a number, print \"Invalid input type\" and return None."
   ]
  },
  {
   "cell_type": "code",
   "execution_count": 1,
   "id": "75f00058-5511-479f-8c13-507cc228ee0c",
   "metadata": {},
   "outputs": [
    {
     "name": "stdout",
     "output_type": "stream",
     "text": [
      "5.0\n",
      "Cannot divide by zero\n",
      "None\n",
      "Invalid input type\n",
      "None\n"
     ]
    }
   ],
   "source": [
    "def safe_divide(a, b):\n",
    "    try:\n",
    "        result = a / b\n",
    "        return result\n",
    "    except ZeroDivisionError:\n",
    "        print(\"Cannot divide by zero\")\n",
    "        return None\n",
    "    except TypeError:\n",
    "        print(\"Invalid input type\")\n",
    "        return None\n",
    "\n",
    "print(safe_divide(10, 2))     \n",
    "print(safe_divide(10, 0))     \n",
    "print(safe_divide(10, \"a\"))   "
   ]
  },
  {
   "cell_type": "markdown",
   "id": "3c8af90e-0a29-45f4-9667-dfc9a99893a5",
   "metadata": {},
   "source": [
    "### Problem Statement 2:-\n",
    "**File Processing with Specific Exceptions:** \\\n",
    "Create a function process_file(filename) that attempts to open and read a file. Handle exceptions for: \\\n",
    "```FileNotFoundError```: Print \"File not found\" \\\n",
    "```PermissionError```: Print \"Permission denied\" \\\n",
    "```IOError```: Print \"An IOError occurred\"."
   ]
  },
  {
   "cell_type": "code",
   "execution_count": 2,
   "id": "c96de962-9ac0-4b98-b6c5-883cdfbb50e5",
   "metadata": {},
   "outputs": [
    {
     "name": "stdin",
     "output_type": "stream",
     "text": [
      "Enter the filename:  samplefile.txt\n"
     ]
    },
    {
     "name": "stdout",
     "output_type": "stream",
     "text": [
      "File not found\n"
     ]
    }
   ],
   "source": [
    "def process_file(filename):\n",
    "    try:\n",
    "        with open(filename, 'r') as file:\n",
    "            content = file.read()\n",
    "            print(content)\n",
    "    except FileNotFoundError:\n",
    "        print(\"File not found\")\n",
    "    except PermissionError:\n",
    "        print(\"Permission denied\")\n",
    "    except IOError:\n",
    "        print(\"An IOError occurred\")\n",
    "\n",
    "filename = input(\"Enter the filename: \")\n",
    "process_file(filename)"
   ]
  },
  {
   "cell_type": "markdown",
   "id": "095296c1-a737-4114-899d-ce838915f2dc",
   "metadata": {},
   "source": [
    "### Problem Statement 3:-\n",
    "**Custom Exception for Age Validation:** \\\n",
    "Define a custom exception ```InvalidAgeError``` and write a function ```validate_age(age)``` that raises this exception if the age is not between 0 and 120 (inclusive). Use this function to check a list of ages and handle the exception by printing an appropriate message."
   ]
  },
  {
   "cell_type": "code",
   "execution_count": 3,
   "id": "d2c8f139-ce51-4ffe-9cec-18d7180d4a7f",
   "metadata": {},
   "outputs": [
    {
     "name": "stdout",
     "output_type": "stream",
     "text": [
      "Age 25 is valid.\n",
      "Invalid age: -5. Age must be between 0 and 120.\n",
      "Invalid age: 130. Age must be between 0 and 120.\n",
      "Age 50 is valid.\n",
      "Age 0 is valid.\n",
      "Age 120 is valid.\n"
     ]
    }
   ],
   "source": [
    "class InvalidAgeError(Exception):\n",
    "    pass\n",
    "\n",
    "def validate_age(age):\n",
    "    if age < 0 or age > 120:\n",
    "        raise InvalidAgeError(f\"Invalid age: {age}. Age must be between 0 and 120.\")\n",
    "\n",
    "ages = [25, -5, 130, 50, 0, 120]\n",
    "\n",
    "for age in ages:\n",
    "    try:\n",
    "        validate_age(age)\n",
    "        print(f\"Age {age} is valid.\")\n",
    "    except InvalidAgeError as e:\n",
    "        print(e)"
   ]
  },
  {
   "cell_type": "markdown",
   "id": "c621e273-71a0-4831-9b60-66f07ba5bb27",
   "metadata": {},
   "source": [
    "### Problem Statement 4:-\n",
    "**Nested Exception Handling:** \\\n",
    "Write a function nested_exception_handling() that performs the following: \\\n",
    "Tries to open a file and read an integer from it. \\\n",
    "Catches exceptions for file-related errors (```FileNotFoundError```, ```IOError```). \\\n",
    "Within the same try block, convert the read value to an integer and handle potential ValueError. \\\n",
    "Print specific error messages for each exception and ensure the file is closed\n",
    "properly using a final block."
   ]
  },
  {
   "cell_type": "code",
   "execution_count": null,
   "id": "e6d151bd-274e-4bf7-940f-d5770c7b65ed",
   "metadata": {},
   "outputs": [],
   "source": []
  }
 ],
 "metadata": {
  "kernelspec": {
   "display_name": "Python 3 (ipykernel)",
   "language": "python",
   "name": "python3"
  },
  "language_info": {
   "codemirror_mode": {
    "name": "ipython",
    "version": 3
   },
   "file_extension": ".py",
   "mimetype": "text/x-python",
   "name": "python",
   "nbconvert_exporter": "python",
   "pygments_lexer": "ipython3",
   "version": "3.12.1"
  }
 },
 "nbformat": 4,
 "nbformat_minor": 5
}
