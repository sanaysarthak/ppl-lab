{
 "cells": [
  {
   "cell_type": "markdown",
   "id": "7977f529-65c6-427c-b10e-7c33ffda1ff7",
   "metadata": {},
   "source": [
    "## Practical 6 :-\n",
    "**Name:** Sarthak Sanay\\\n",
    "**Enrollment No:** 230031101611051"
   ]
  },
  {
   "cell_type": "markdown",
   "id": "00a7893c-52e4-45c3-98d0-964022ff379b",
   "metadata": {},
   "source": [
    "**Online Shopping Cart:** Imagine you’re developing an online shopping platform. Create a Python program that simulates a user’s shopping cart.\n",
    "- Allow the user to add product names and prices to their cart.\n",
    "- Display the current items in the cart.\n",
    "- Allow the user to remove items from the cart.\n",
    "- Calculate the total price and display the total number of items in the cart."
   ]
  },
  {
   "cell_type": "code",
   "execution_count": 7,
   "id": "f0e0d272-1981-457b-a8a9-5fefbafc182b",
   "metadata": {},
   "outputs": [
    {
     "name": "stdout",
     "output_type": "stream",
     "text": [
      "\n",
      "SHOPPING CART OPERATIONS :- \n",
      "1. Add product to cart. \n",
      "2. Display items in cart. \n",
      "3. Remove item from cart. \n",
      "4. Calculate cart total. \n",
      "0. Exit the program.\n"
     ]
    },
    {
     "name": "stdin",
     "output_type": "stream",
     "text": [
      "Enter choice:  1\n",
      "\n",
      "Enter product name to add:  iPhone 16\n",
      "Enter product price:  79900\n"
     ]
    },
    {
     "name": "stdout",
     "output_type": "stream",
     "text": [
      "iPhone 16 added to cart successfully!\n",
      "\n",
      "\n",
      "SHOPPING CART OPERATIONS :- \n",
      "1. Add product to cart. \n",
      "2. Display items in cart. \n",
      "3. Remove item from cart. \n",
      "4. Calculate cart total. \n",
      "0. Exit the program.\n"
     ]
    },
    {
     "name": "stdin",
     "output_type": "stream",
     "text": [
      "Enter choice:  1\n",
      "\n",
      "Enter product name to add:  Apple Airpods\n",
      "Enter product price:  12900\n"
     ]
    },
    {
     "name": "stdout",
     "output_type": "stream",
     "text": [
      "Apple Airpods added to cart successfully!\n",
      "\n",
      "\n",
      "SHOPPING CART OPERATIONS :- \n",
      "1. Add product to cart. \n",
      "2. Display items in cart. \n",
      "3. Remove item from cart. \n",
      "4. Calculate cart total. \n",
      "0. Exit the program.\n"
     ]
    },
    {
     "name": "stdin",
     "output_type": "stream",
     "text": [
      "Enter choice:  1\n",
      "\n",
      "Enter product name to add:  Apple Watch\n",
      "Enter product price:  29900\n"
     ]
    },
    {
     "name": "stdout",
     "output_type": "stream",
     "text": [
      "Apple Watch added to cart successfully!\n",
      "\n",
      "\n",
      "SHOPPING CART OPERATIONS :- \n",
      "1. Add product to cart. \n",
      "2. Display items in cart. \n",
      "3. Remove item from cart. \n",
      "4. Calculate cart total. \n",
      "0. Exit the program.\n"
     ]
    },
    {
     "name": "stdin",
     "output_type": "stream",
     "text": [
      "Enter choice:  2\n"
     ]
    },
    {
     "name": "stdout",
     "output_type": "stream",
     "text": [
      "\n",
      "Items in your cart are :-\n",
      "iPhone 16\t\tRs. 79900.00\n",
      "Apple Airpods\t\tRs. 12900.00\n",
      "Apple Watch\t\tRs. 29900.00\n",
      "\n",
      "\n",
      "SHOPPING CART OPERATIONS :- \n",
      "1. Add product to cart. \n",
      "2. Display items in cart. \n",
      "3. Remove item from cart. \n",
      "4. Calculate cart total. \n",
      "0. Exit the program.\n"
     ]
    },
    {
     "name": "stdin",
     "output_type": "stream",
     "text": [
      "Enter choice:  4\n"
     ]
    },
    {
     "name": "stdout",
     "output_type": "stream",
     "text": [
      "\n",
      "Total no. of items in cart:\t 3\n",
      "Total price of items in cart:\t Rs. 122700.00\n",
      "\n",
      "\n",
      "SHOPPING CART OPERATIONS :- \n",
      "1. Add product to cart. \n",
      "2. Display items in cart. \n",
      "3. Remove item from cart. \n",
      "4. Calculate cart total. \n",
      "0. Exit the program.\n"
     ]
    },
    {
     "name": "stdin",
     "output_type": "stream",
     "text": [
      "Enter choice:  3\n",
      "\n",
      "Enter product name to remove:  Apple Watch\n"
     ]
    },
    {
     "name": "stdout",
     "output_type": "stream",
     "text": [
      "Apple Watch removed from cart!\n",
      "\n",
      "\n",
      "SHOPPING CART OPERATIONS :- \n",
      "1. Add product to cart. \n",
      "2. Display items in cart. \n",
      "3. Remove item from cart. \n",
      "4. Calculate cart total. \n",
      "0. Exit the program.\n"
     ]
    },
    {
     "name": "stdin",
     "output_type": "stream",
     "text": [
      "Enter choice:  2\n"
     ]
    },
    {
     "name": "stdout",
     "output_type": "stream",
     "text": [
      "\n",
      "Items in your cart are :-\n",
      "iPhone 16\t\tRs. 79900.00\n",
      "Apple Airpods\t\tRs. 12900.00\n",
      "\n",
      "\n",
      "SHOPPING CART OPERATIONS :- \n",
      "1. Add product to cart. \n",
      "2. Display items in cart. \n",
      "3. Remove item from cart. \n",
      "4. Calculate cart total. \n",
      "0. Exit the program.\n"
     ]
    },
    {
     "name": "stdin",
     "output_type": "stream",
     "text": [
      "Enter choice:  4\n"
     ]
    },
    {
     "name": "stdout",
     "output_type": "stream",
     "text": [
      "\n",
      "Total no. of items in cart:\t 2\n",
      "Total price of items in cart:\t Rs. 92800.00\n",
      "\n",
      "\n",
      "SHOPPING CART OPERATIONS :- \n",
      "1. Add product to cart. \n",
      "2. Display items in cart. \n",
      "3. Remove item from cart. \n",
      "4. Calculate cart total. \n",
      "0. Exit the program.\n"
     ]
    },
    {
     "name": "stdin",
     "output_type": "stream",
     "text": [
      "Enter choice:  0\n"
     ]
    },
    {
     "name": "stdout",
     "output_type": "stream",
     "text": [
      "\n",
      "Exited the program successfully!\n"
     ]
    }
   ],
   "source": [
    "# Approach using list of tuples, where each product name and price is inserted as a tuple into the list cart.\n",
    "\n",
    "cart = [] # initialize empty list of tuples\n",
    "\n",
    "while True:\n",
    "\n",
    "    print(\"\\nSHOPPING CART OPERATIONS :- \\n1. Add product to cart. \\n2. Display items in cart. \\n3. Remove item from cart. \\n4. Calculate cart total. \\n0. Exit the program.\")\n",
    "    ch = int(input(\"Enter choice: \"))\n",
    "    \n",
    "    if ch == 1:\n",
    "        product_name = input(\"\\nEnter product name to add: \")\n",
    "        product_price = float(input(\"Enter product price: \"))\n",
    "        cart.append((product_name, product_price))\n",
    "        print(f\"{product_name} added to cart successfully!\\n\")\n",
    "    \n",
    "    elif ch == 2:\n",
    "        if len(cart) == 0:\n",
    "            print(\"\\nYour cart is empty!\\n\")\n",
    "        else:\n",
    "            print(\"\\nItems in your cart are :-\")\n",
    "            for item in cart:\n",
    "                print(f\"{item[0]}\\t\\tRs. {item[1]:.2f}\")\n",
    "            print() # to add a newline\n",
    "    \n",
    "    elif ch == 3:\n",
    "        product_name = input(\"\\nEnter product name to remove: \")\n",
    "        product_in_cart = False\n",
    "        for item in cart:\n",
    "            if item[0] == product_name:\n",
    "                product_in_cart = True\n",
    "                cart.remove(item)\n",
    "                # break # to remove only first occurence of the product\n",
    "        if product_in_cart:\n",
    "            print(f\"{product_name} removed from cart!\\n\")\n",
    "        else:\n",
    "            print(f\"{product_name} does not exist in the cart!\\n\")\n",
    "                \n",
    "    elif ch == 4:\n",
    "        total_price = 0\n",
    "        for item in cart:\n",
    "            total_price += item[1]\n",
    "        print(\"\\nTotal no. of items in cart:\\t\", len(cart))\n",
    "        print(f\"Total price of items in cart:\\t Rs. {total_price:.2f}\\n\")\n",
    "            \n",
    "    elif ch == 0:\n",
    "        print(\"\\nExited the program successfully!\")\n",
    "        break\n",
    "    \n",
    "    else:\n",
    "        print(\"\\nEnter correct choice.\\n\")"
   ]
  },
  {
   "cell_type": "code",
   "execution_count": null,
   "id": "9ebc5108-2ded-4aa2-b6cd-e21ce4f53daf",
   "metadata": {},
   "outputs": [],
   "source": []
  }
 ],
 "metadata": {
  "kernelspec": {
   "display_name": "Python 3 (ipykernel)",
   "language": "python",
   "name": "python3"
  },
  "language_info": {
   "codemirror_mode": {
    "name": "ipython",
    "version": 3
   },
   "file_extension": ".py",
   "mimetype": "text/x-python",
   "name": "python",
   "nbconvert_exporter": "python",
   "pygments_lexer": "ipython3",
   "version": "3.12.1"
  }
 },
 "nbformat": 4,
 "nbformat_minor": 5
}
