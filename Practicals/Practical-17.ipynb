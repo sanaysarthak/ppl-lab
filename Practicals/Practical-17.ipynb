{
 "cells": [
  {
   "cell_type": "markdown",
   "id": "8d077f88-3752-4110-a3e4-19cdb96ce2c2",
   "metadata": {},
   "source": [
    "## Practical 17 :-\n",
    "**Name:** Sarthak Sanay\\\n",
    "**Enrollment No:** 230031101611051"
   ]
  },
  {
   "cell_type": "markdown",
   "id": "389930b0-4436-4020-9f0d-ec667e4bae13",
   "metadata": {},
   "source": [
    "### Problem Statement 1:-\n",
    "**Inventory Management System:** \\\n",
    "A retail company needs a software solution to streamline inventory management. The system should enable employees to add new products to the inventory, specifying details such as the product name, price, and quantity available. Additionally, the system should support an operation to combine two products, calculating the average price and total quantity of the combined product. \\\n",
    "**Python Feature:** This solution will utilize Python classes to represent products\n",
    "and operator overloading to perform calculations when combining products."
   ]
  },
  {
   "cell_type": "code",
   "execution_count": 2,
   "id": "75f00058-5511-479f-8c13-507cc228ee0c",
   "metadata": {},
   "outputs": [
    {
     "name": "stdout",
     "output_type": "stream",
     "text": [
      "Add two products to combine them:-\n",
      "\n"
     ]
    },
    {
     "name": "stdin",
     "output_type": "stream",
     "text": [
      "Enter product name:  Sony PlayStation 5\n",
      "Enter product price:  56000\n",
      "Enter product quantity:  12\n",
      "\n",
      "Enter another product name (must be same to combine):  Sony PlayStation 5\n",
      "Enter product price:  44000\n",
      "Enter product quantity:  18\n"
     ]
    },
    {
     "name": "stdout",
     "output_type": "stream",
     "text": [
      "\n",
      "Product 1 :-\n",
      "Product: Sony PlayStation 5\n",
      "Price: ₹56000.0\n",
      "Quantity: 12\n",
      "\n",
      "Product 2 :-\n",
      "Product: Sony PlayStation 5\n",
      "Price: ₹44000.0\n",
      "Quantity: 18\n",
      "\n",
      "Combined Product :-\n",
      "Product: Sony PlayStation 5\n",
      "Price: ₹48800.0\n",
      "Quantity: 30\n",
      "\n"
     ]
    }
   ],
   "source": [
    "class Product:\n",
    "    def __init__(self, name, price, quantity):\n",
    "        self.name = name\n",
    "        self.price = price\n",
    "        self.quantity = quantity\n",
    "\n",
    "    def display(self):\n",
    "        print(f\"Product: {self.name}\")\n",
    "        print(f\"Price: ₹{self.price}\")\n",
    "        print(f\"Quantity: {self.quantity}\\n\")\n",
    "\n",
    "    # Overload '+' to combine two products\n",
    "    def __add__(self, other):\n",
    "        if self.name != other.name:\n",
    "            raise ValueError(\"Cannot combine products with different names.\")\n",
    "        \n",
    "        total_quantity = self.quantity + other.quantity\n",
    "        avg_price = (self.price * self.quantity + other.price * other.quantity) / total_quantity\n",
    "        return Product(self.name, round(avg_price, 2), total_quantity)\n",
    "\n",
    "\n",
    "print(\"Add two products to combine them:-\\n\")\n",
    "\n",
    "# First product\n",
    "name1 = input(\"Enter product name: \")\n",
    "price1 = float(input(\"Enter product price: \"))\n",
    "qty1 = int(input(\"Enter product quantity: \"))\n",
    "product1 = Product(name1, price1, qty1)\n",
    "\n",
    "# Second product\n",
    "name2 = input(\"\\nEnter another product name (must be same to combine): \")\n",
    "price2 = float(input(\"Enter product price: \"))\n",
    "qty2 = int(input(\"Enter product quantity: \"))\n",
    "product2 = Product(name2, price2, qty2)\n",
    "\n",
    "# Display original products\n",
    "print(\"\\nProduct 1 :-\")\n",
    "product1.display()\n",
    "\n",
    "print(\"Product 2 :-\")\n",
    "product2.display()\n",
    "\n",
    "# Combine products\n",
    "try:\n",
    "    combined = product1 + product2\n",
    "    print(\"Combined Product :-\")\n",
    "    combined.display()\n",
    "except ValueError as e:\n",
    "    print(f\"Error: {e}\")\n"
   ]
  },
  {
   "cell_type": "markdown",
   "id": "2f7def1b-ded8-4839-b447-3acd28ceb674",
   "metadata": {},
   "source": [
    "### Problem Statement 2:-\n",
    "**Student Record Management:** \\\n",
    "A school administration requires a digital tool to efficiently manage student records. The program should allow administrators to create individual student profiles, including information such as the student's name, age, and academic grades for different subjects. Moreover, the system should provide functionality to dynamically add new grades for specific subjects and retrieve grades for any subject as needed. \\\n",
    "**Python Feature:** Python classes will be used to represent student profiles, with methods to add and retrieve grades dynamically."
   ]
  },
  {
   "cell_type": "code",
   "execution_count": 6,
   "id": "ebd9c8f7-0666-4618-a13a-8d36153f2309",
   "metadata": {},
   "outputs": [
    {
     "name": "stdout",
     "output_type": "stream",
     "text": [
      "Create a Student Profile:\n"
     ]
    },
    {
     "name": "stdin",
     "output_type": "stream",
     "text": [
      "Enter student's name:  Thomas Edison\n",
      "Enter student's age:  21\n"
     ]
    },
    {
     "name": "stdout",
     "output_type": "stream",
     "text": [
      "\n",
      "Options:\n",
      "1. Add Grade\n",
      "2. Get Grade for Subject\n",
      "3. Display Student Profile\n",
      "4. Exit\n"
     ]
    },
    {
     "name": "stdin",
     "output_type": "stream",
     "text": [
      "Enter your choice (1-4):  1\n",
      "Enter subject name:  DSA\n",
      "Enter grade:  A\n"
     ]
    },
    {
     "name": "stdout",
     "output_type": "stream",
     "text": [
      "Grade added: DSA = A\n",
      "\n",
      "Options:\n",
      "1. Add Grade\n",
      "2. Get Grade for Subject\n",
      "3. Display Student Profile\n",
      "4. Exit\n"
     ]
    },
    {
     "name": "stdin",
     "output_type": "stream",
     "text": [
      "Enter your choice (1-4):  1\n",
      "Enter subject name:  OOPC\n",
      "Enter grade:  B\n"
     ]
    },
    {
     "name": "stdout",
     "output_type": "stream",
     "text": [
      "Grade added: OOPC = B\n",
      "\n",
      "Options:\n",
      "1. Add Grade\n",
      "2. Get Grade for Subject\n",
      "3. Display Student Profile\n",
      "4. Exit\n"
     ]
    },
    {
     "name": "stdin",
     "output_type": "stream",
     "text": [
      "Enter your choice (1-4):  1\n",
      "Enter subject name:  OS\n",
      "Enter grade:  A\n"
     ]
    },
    {
     "name": "stdout",
     "output_type": "stream",
     "text": [
      "Grade added: OS = A\n",
      "\n",
      "Options:\n",
      "1. Add Grade\n",
      "2. Get Grade for Subject\n",
      "3. Display Student Profile\n",
      "4. Exit\n"
     ]
    },
    {
     "name": "stdin",
     "output_type": "stream",
     "text": [
      "Enter your choice (1-4):  2\n",
      "Enter subject name to retrieve grade:  OOPC\n"
     ]
    },
    {
     "name": "stdout",
     "output_type": "stream",
     "text": [
      "OOPC: B\n",
      "\n",
      "Options:\n",
      "1. Add Grade\n",
      "2. Get Grade for Subject\n",
      "3. Display Student Profile\n",
      "4. Exit\n"
     ]
    },
    {
     "name": "stdin",
     "output_type": "stream",
     "text": [
      "Enter your choice (1-4):  3\n"
     ]
    },
    {
     "name": "stdout",
     "output_type": "stream",
     "text": [
      "\n",
      "Student Name: Thomas Edison\n",
      "Age: 21\n",
      "Grades:\n",
      "  DSA: A\n",
      "  OOPC: B\n",
      "  OS: A\n",
      "\n",
      "Options:\n",
      "1. Add Grade\n",
      "2. Get Grade for Subject\n",
      "3. Display Student Profile\n",
      "4. Exit\n"
     ]
    },
    {
     "name": "stdin",
     "output_type": "stream",
     "text": [
      "Enter your choice (1-4):  4\n"
     ]
    },
    {
     "name": "stdout",
     "output_type": "stream",
     "text": [
      "Program terminated successfully!\n"
     ]
    }
   ],
   "source": [
    "class Student:\n",
    "    def __init__(self, name, age):\n",
    "        self.name = name\n",
    "        self.age = age\n",
    "        self.grades = {}  # subject:grade pairs\n",
    "\n",
    "    def add_grade(self, subject, grade):\n",
    "        self.grades[subject] = grade\n",
    "        print(f\"Grade added: {subject} = {grade}\")\n",
    "\n",
    "    def get_grade(self, subject):\n",
    "        return self.grades.get(subject, \"Grade not found for this subject.\")\n",
    "\n",
    "    def display_profile(self):\n",
    "        print(f\"\\nStudent Name: {self.name}\")\n",
    "        print(f\"Age: {self.age}\")\n",
    "        print(\"Grades:\")\n",
    "        if self.grades:\n",
    "            for subject, grade in self.grades.items():\n",
    "                print(f\"  {subject}: {grade}\")\n",
    "        else:\n",
    "            print(\"  No grades available.\")\n",
    "\n",
    "\n",
    "print(\"Create a Student Profile:\")\n",
    "name = input(\"Enter student's name: \")\n",
    "age = int(input(\"Enter student's age: \"))\n",
    "\n",
    "student = Student(name, age)\n",
    "\n",
    "while True:\n",
    "    print(\"\\nOptions:\")\n",
    "    print(\"1. Add Grade\")\n",
    "    print(\"2. Get Grade for Subject\")\n",
    "    print(\"3. Display Student Profile\")\n",
    "    print(\"4. Exit\")\n",
    "\n",
    "    choice = input(\"Enter your choice (1-4): \")\n",
    "\n",
    "    if choice == '1':\n",
    "        subject = input(\"Enter subject name: \")\n",
    "        grade = input(\"Enter grade: \")\n",
    "        student.add_grade(subject, grade)\n",
    "\n",
    "    elif choice == '2':\n",
    "        subject = input(\"Enter subject name to retrieve grade: \")\n",
    "        print(f\"{subject}: {student.get_grade(subject)}\")\n",
    "\n",
    "    elif choice == '3':\n",
    "        student.display_profile()\n",
    "\n",
    "    elif choice == '4':\n",
    "        print(\"Program terminated successfully!\")\n",
    "        break\n",
    "\n",
    "    else:\n",
    "        print(\"Invalid choice. Please enter a number from 1 to 4.\")\n"
   ]
  },
  {
   "cell_type": "code",
   "execution_count": null,
   "id": "62aafd15-1383-4a9f-bfd2-116289be40ab",
   "metadata": {},
   "outputs": [],
   "source": []
  }
 ],
 "metadata": {
  "kernelspec": {
   "display_name": "Python 3 (ipykernel)",
   "language": "python",
   "name": "python3"
  },
  "language_info": {
   "codemirror_mode": {
    "name": "ipython",
    "version": 3
   },
   "file_extension": ".py",
   "mimetype": "text/x-python",
   "name": "python",
   "nbconvert_exporter": "python",
   "pygments_lexer": "ipython3",
   "version": "3.12.1"
  }
 },
 "nbformat": 4,
 "nbformat_minor": 5
}
