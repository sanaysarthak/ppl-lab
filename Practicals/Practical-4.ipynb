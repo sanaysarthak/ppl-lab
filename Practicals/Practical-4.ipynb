{
 "cells": [
  {
   "cell_type": "markdown",
   "id": "3a553bb4-9492-49fd-9a21-89616f5174a4",
   "metadata": {},
   "source": [
    "## Practical 4 :-\n",
    "**Name:** Sarthak Sanay\\\n",
    "**Enrollment No:** 230031101611051"
   ]
  },
  {
   "cell_type": "markdown",
   "id": "d26190e3-1587-48f8-b9d6-80c51c6bbb17",
   "metadata": {},
   "source": [
    "### Pattern 1 :-\n",
    "**If input = 5** \\\n",
    "A A A A A \\\n",
    "B B B B \\\n",
    "C C C \\\n",
    "D D \\\n",
    "E"
   ]
  },
  {
   "cell_type": "code",
   "execution_count": 9,
   "id": "c93ca1b4-3352-486c-b79f-800039fa73fa",
   "metadata": {},
   "outputs": [
    {
     "name": "stdin",
     "output_type": "stream",
     "text": [
      "Enter size:  7\n"
     ]
    },
    {
     "name": "stdout",
     "output_type": "stream",
     "text": [
      "A A A A A A A \n",
      "B B B B B B \n",
      "C C C C C \n",
      "D D D D \n",
      "E E E \n",
      "F F \n",
      "G \n"
     ]
    }
   ],
   "source": [
    "size = int(input(\"Enter size: \"))\n",
    "for i in range(size):\n",
    "    # 65 is the ASCII value of 'A'\n",
    "    ch = 65 + i\n",
    "    for j in range(size - i):\n",
    "        print(chr(ch), end = \" \")\n",
    "    print()"
   ]
  },
  {
   "cell_type": "markdown",
   "id": "00307b51-0368-4ff8-9482-1e1d5591df85",
   "metadata": {},
   "source": [
    "### Pattern 2 :-\n",
    "**If input = 5** \\\n",
    "1 \\\n",
    "2 3 \\\n",
    "4 5 6 \\\n",
    "7 8 9 10 \\\n",
    "11 12 13 14 15"
   ]
  },
  {
   "cell_type": "code",
   "execution_count": 12,
   "id": "236d88e8-5cc8-4903-af7f-fc7f6e059140",
   "metadata": {},
   "outputs": [
    {
     "name": "stdin",
     "output_type": "stream",
     "text": [
      "Enter size:  7\n"
     ]
    },
    {
     "name": "stdout",
     "output_type": "stream",
     "text": [
      "1 \n",
      "2 3 \n",
      "4 5 6 \n",
      "7 8 9 10 \n",
      "11 12 13 14 15 \n",
      "16 17 18 19 20 21 \n",
      "22 23 24 25 26 27 28 \n"
     ]
    }
   ],
   "source": [
    "size = int(input(\"Enter size: \"))\n",
    "c = 1\n",
    "for i in range(size):\n",
    "    for j in range(i + 1):\n",
    "        print(c, end = \" \")\n",
    "        c += 1\n",
    "    print()"
   ]
  },
  {
   "cell_type": "markdown",
   "id": "1153b2af-80a6-4345-8c85-dbe07be149e7",
   "metadata": {},
   "source": [
    "### Pattern 3 :-\n",
    "**If input = 5** \\\n",
    "\\* \\- * \\- * \\\n",
    "\\- * \\- * \\- \\\n",
    "\\* \\- * \\- * \\\n",
    "\\- * \\- * \\- \\\n",
    "\\* \\- * \\- *"
   ]
  },
  {
   "cell_type": "code",
   "execution_count": 15,
   "id": "04e5afec-17b8-4b0d-8d55-a65b77fafc1b",
   "metadata": {},
   "outputs": [
    {
     "name": "stdin",
     "output_type": "stream",
     "text": [
      "Enter size:  5\n"
     ]
    },
    {
     "name": "stdout",
     "output_type": "stream",
     "text": [
      "* _ * _ * \n",
      "_ * _ * _ \n",
      "* _ * _ * \n",
      "_ * _ * _ \n",
      "* _ * _ * \n"
     ]
    }
   ],
   "source": [
    "size = int(input(\"Enter size: \"))\n",
    "for i in range(size):\n",
    "    for j in range(size):\n",
    "        if i%2 == 0 and j%2 != 0:\n",
    "            print(\"_\", end = \" \")\n",
    "        elif i%2 != 0 and j%2 == 0:\n",
    "            print(\"_\", end = \" \")\n",
    "        else:\n",
    "            print(\"*\", end = \" \")\n",
    "    print()"
   ]
  },
  {
   "cell_type": "code",
   "execution_count": null,
   "id": "fc53a564-2294-4719-ae62-057c5fcdd280",
   "metadata": {},
   "outputs": [],
   "source": []
  }
 ],
 "metadata": {
  "kernelspec": {
   "display_name": "Python 3 (ipykernel)",
   "language": "python",
   "name": "python3"
  },
  "language_info": {
   "codemirror_mode": {
    "name": "ipython",
    "version": 3
   },
   "file_extension": ".py",
   "mimetype": "text/x-python",
   "name": "python",
   "nbconvert_exporter": "python",
   "pygments_lexer": "ipython3",
   "version": "3.12.1"
  }
 },
 "nbformat": 4,
 "nbformat_minor": 5
}
