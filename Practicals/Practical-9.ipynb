{
 "cells": [
  {
   "cell_type": "markdown",
   "id": "4a938c6e-9181-4dae-8916-9cbc1cb31e62",
   "metadata": {},
   "source": [
    "## Practical 9 :-\n",
    "**Name:** Sarthak Sanay\\\n",
    "**Enrollment No:** 230031101611051"
   ]
  },
  {
   "cell_type": "markdown",
   "id": "787d8332-e319-4d11-9c8d-9ea4ba1d9c23",
   "metadata": {},
   "source": [
    "### Problem Statement 1:-\n",
    "You are developing a data processing tool where you receive a list of mixed data types. You must filter out non-numeric values and convert the remaining values to integers. Write a Python function ```filter_and_convert_to_integers(data)``` that takes a list of mixed data types as input, filters out non-numeric values, and returns a new list with the remaining values converted to integers."
   ]
  },
  {
   "cell_type": "code",
   "execution_count": 8,
   "id": "db0df24f-f7db-44f9-9773-4a1a377bff07",
   "metadata": {},
   "outputs": [
    {
     "name": "stdout",
     "output_type": "stream",
     "text": [
      "[10, 7, 100, 51, 500]\n"
     ]
    }
   ],
   "source": [
    "def filter_and_convert_to_integers(data):\n",
    "    filtered_list = []\n",
    "    for ele in data:\n",
    "        if type(ele) == int:\n",
    "            filtered_list.append(ele)\n",
    "        if type(ele) == float:\n",
    "            x = int(ele)\n",
    "            filtered_list.append(x)\n",
    "    return filtered_list\n",
    "    \n",
    "data = [\"hi\", 10, 7.2, 100.55, 51, True, False, 'a', \"Sarthak Sanay\", 500.446789]\n",
    "print(filter_and_convert_to_integers(data))"
   ]
  },
  {
   "cell_type": "markdown",
   "id": "600b6541-8e9b-46b3-a58e-4cb54514fee4",
   "metadata": {},
   "source": [
    "### Problem Statement 2:-\n",
    "You're building a music playlist manager and need to merge two playlists into one sorted playlist. Write a Python function ```merge_and_sort_playlists(playlist1, playlist2)``` that takes two lists of songs as input, merges them into one list, and sorts the merged list alphabetically."
   ]
  },
  {
   "cell_type": "code",
   "execution_count": 9,
   "id": "18a06e5a-9852-4bab-9c47-c7c34de500f4",
   "metadata": {},
   "outputs": [
    {
     "name": "stdout",
     "output_type": "stream",
     "text": [
      "Merged Playlist: ['Song 1', 'Song 2', 'Song 3', 'Song 4', 'Song 5', 'Song 6']\n"
     ]
    }
   ],
   "source": [
    "def merge_and_sort_playlists(playlist1, playlist2):\n",
    "    playlist1.extend(playlist2)\n",
    "    playlist1.sort()\n",
    "    return playlist1\n",
    "\n",
    "playlist1 = ['Song 1', 'Song 2', 'Song 3']\n",
    "playlist2 = ['Song 4', 'Song 5', 'Song 6']\n",
    "merged_playlist = merge_and_sort_playlists(playlist1, playlist2)\n",
    "print(\"Merged Playlist:\", merged_playlist)"
   ]
  },
  {
   "cell_type": "markdown",
   "id": "d7fe8d58-938d-48dd-8dc0-39e865a82205",
   "metadata": {},
   "source": [
    "### Problem Statement 3:-\n",
    "You're analyzing sales data and need to group sales amounts by product category and calculate the total sales for each category. Write a Python function ```calculate_total_sales(sales_data)``` that takes a list of tuples (product, amount) as input, where the product is the product category and the amount is the sales amount. It should return a dictionary where keys are product categories and values are the total sales amounts for each category."
   ]
  },
  {
   "cell_type": "code",
   "execution_count": 4,
   "id": "92efdac4-f372-4c25-82d2-6d055363aa17",
   "metadata": {},
   "outputs": [
    {
     "name": "stdout",
     "output_type": "stream",
     "text": [
      "{'electronics': 12500, 'toys': 2100, 'groceries': 2000, 'clothing': 5850, 'furniture': 24500}\n"
     ]
    }
   ],
   "source": [
    "def calculate_total_sales(sales_data):\n",
    "    dictionary = {}\n",
    "    for data in sales_data:\n",
    "        if data[0] not in dictionary:\n",
    "            dictionary[data[0]] = data[1]\n",
    "        else:\n",
    "            dictionary[data[0]] += data[1]\n",
    "    return dictionary\n",
    "    \n",
    "sales_data = [(\"electronics\", 8000), (\"toys\", 450), (\"groceries\", 1250), (\"clothing\", 2400), (\"furniture\", 24500), (\"toys\", 1650), (\"groceries\", 750), (\"electronics\", 4500), (\"clothing\", 3450)]\n",
    "print( calculate_total_sales(sales_data))"
   ]
  },
  {
   "cell_type": "markdown",
   "id": "b5fa9d7a-9f2b-40ed-91b6-685b6b9c7836",
   "metadata": {},
   "source": [
    "### Problem Statement 4:-\n",
    "You're implementing a game where players can rotate a list of numbers to the left by a given number of positions. Write a Python function ```rotate_list_left(numbers, positions)``` that takes a list of numbers and the number of positions to rotate as input, and returns a new list with the elements rotated to the left by the specified number of positions.Z"
   ]
  },
  {
   "cell_type": "code",
   "execution_count": 8,
   "id": "59aceff5-211b-4113-81f2-6ca2af484417",
   "metadata": {},
   "outputs": [
    {
     "name": "stdout",
     "output_type": "stream",
     "text": [
      "[4, 5, 6, 7, 8, 9, 1, 2, 3]\n"
     ]
    }
   ],
   "source": [
    "def rotate_list_left(numbers, positions):\n",
    "    positions = positions % len(numbers)  # To handle cases where positions > len(numbers)\n",
    "\n",
    "    for i in range(positions):\n",
    "        temp0 = numbers[0]\n",
    "        for j in range(len(numbers) - 1):\n",
    "            numbers[j] = numbers[j + 1]\n",
    "        numbers[-1] = temp0  # To move the first element to the end\n",
    "\n",
    "    return numbers\n",
    "\n",
    "numbers = [1, 2, 3, 4, 5, 6, 7, 8, 9]\n",
    "print(rotate_list_left(numbers, 3))"
   ]
  }
 ],
 "metadata": {
  "kernelspec": {
   "display_name": "Python 3 (ipykernel)",
   "language": "python",
   "name": "python3"
  },
  "language_info": {
   "codemirror_mode": {
    "name": "ipython",
    "version": 3
   },
   "file_extension": ".py",
   "mimetype": "text/x-python",
   "name": "python",
   "nbconvert_exporter": "python",
   "pygments_lexer": "ipython3",
   "version": "3.12.1"
  }
 },
 "nbformat": 4,
 "nbformat_minor": 5
}
