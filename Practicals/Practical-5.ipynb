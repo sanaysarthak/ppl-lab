{
 "cells": [
  {
   "cell_type": "markdown",
   "id": "6ee6e4f8-3f6c-4258-921e-08431d063d1e",
   "metadata": {},
   "source": [
    "## Practical 5 :-\n",
    "**Name:** Sarthak Sanay\\\n",
    "**Enrollment No:** 230031101611051"
   ]
  },
  {
   "cell_type": "markdown",
   "id": "b1c46ebc-f6ef-419f-8681-0a284d064b69",
   "metadata": {},
   "source": [
    "### Pattern 1 :-"
   ]
  },
  {
   "cell_type": "code",
   "execution_count": 6,
   "id": "b8fb45b5-828f-41cd-9865-10312345fbd4",
   "metadata": {},
   "outputs": [
    {
     "name": "stdin",
     "output_type": "stream",
     "text": [
      "Enter size:  10\n"
     ]
    },
    {
     "name": "stdout",
     "output_type": "stream",
     "text": [
      "A A A A A A A A A A \n",
      "B B B B B B B B B \n",
      "C C C C C C C C \n",
      "D D D D D D D \n",
      "E E E E E E \n",
      "F F F F F \n",
      "G G G G \n",
      "H H H \n",
      "I I \n",
      "J \n"
     ]
    }
   ],
   "source": [
    "size = int(input(\"Enter size: \"))\n",
    "i = 0\n",
    "while i < size:\n",
    "    # 65 is the ASCII value of 'A'\n",
    "    ch = 65 + i\n",
    "    j = 0\n",
    "    while j < (size - i):\n",
    "        print(chr(ch), end = \" \")\n",
    "        j += 1\n",
    "    i += 1\n",
    "    print()"
   ]
  },
  {
   "cell_type": "code",
   "execution_count": null,
   "id": "c0606876-0662-493e-a363-f5e75009b631",
   "metadata": {},
   "outputs": [],
   "source": []
  }
 ],
 "metadata": {
  "kernelspec": {
   "display_name": "Python 3 (ipykernel)",
   "language": "python",
   "name": "python3"
  },
  "language_info": {
   "codemirror_mode": {
    "name": "ipython",
    "version": 3
   },
   "file_extension": ".py",
   "mimetype": "text/x-python",
   "name": "python",
   "nbconvert_exporter": "python",
   "pygments_lexer": "ipython3",
   "version": "3.12.1"
  }
 },
 "nbformat": 4,
 "nbformat_minor": 5
}
