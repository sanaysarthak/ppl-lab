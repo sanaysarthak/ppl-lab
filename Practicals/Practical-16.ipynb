{
 "cells": [
  {
   "cell_type": "markdown",
   "id": "9688a1d2-6bb2-4065-8774-8126eaef1623",
   "metadata": {},
   "source": [
    "## Practical 16 :-\n",
    "**Name:** Sarthak Sanay\\\n",
    "**Enrollment No:** 230031101611051"
   ]
  },
  {
   "cell_type": "markdown",
   "id": "7f5c4b3a-95b1-4991-8a07-8ef14095b8f5",
   "metadata": {},
   "source": [
    "### Problem Statement 1:-\n",
    "**Employee Management System:** \\\n",
    "Create a base class Employee with public, private, and protected attributes representing employee details such as name, employee ID, and salary. Implement methods to display employee details and calculate salary. Then create subclasses Manager and Developer that inherit from Employee and demonstrate access to different types of attributes and methods."
   ]
  },
  {
   "cell_type": "code",
   "execution_count": null,
   "id": "373a57c7-26f4-4932-827a-af2df87be589",
   "metadata": {},
   "outputs": [],
   "source": [
    "# Base class\n",
    "class Employee:\n",
    "    def __init__(self, name, emp_id, salary):\n",
    "        self.name = name                # public\n",
    "        self.__emp_id = emp_id          # private\n",
    "        self._salary = salary           # protected\n",
    "\n",
    "    def display_details(self):\n",
    "        print(\"Name:\", self.name)\n",
    "        print(\"Employee ID:\", self.__emp_id)\n",
    "        print(\"Salary:\", self._salary)\n",
    "\n",
    "    def calculate_salary(self):\n",
    "        return self._salary\n",
    "\n",
    "# Manager subclass\n",
    "class Manager(Employee):\n",
    "    def __init__(self, name, emp_id, salary, bonus):\n",
    "        super().__init__(name, emp_id, salary)\n",
    "        self.bonus = bonus\n",
    "\n",
    "    def total_salary(self):\n",
    "        return self._salary + self.bonus  # accessing protected attribute\n",
    "\n",
    "# Developer subclass\n",
    "class Developer(Employee):\n",
    "    def __init__(self, name, emp_id, salary, project):\n",
    "        super().__init__(name, emp_id, salary)\n",
    "        self.project = project\n",
    "\n",
    "    def show_project(self):\n",
    "        print(f\"{self.name} is working on {self.project}\")\n",
    "\n",
    "\n",
    "m1 = Manager(\"Raj\", \"M123\", 70000, 10000)\n",
    "m1.display_details()\n",
    "print(\"Total Salary:\", m1.total_salary())\n",
    "\n",
    "print()\n",
    "\n",
    "d1 = Developer(\"Dhoni\", \"D456\", 60000, \"AI Tool\")\n",
    "d1.display_details()\n",
    "d1.show_project()\n"
   ]
  },
  {
   "cell_type": "markdown",
   "id": "c9d7c0be-1343-4a1b-8b17-db420ea79197",
   "metadata": {},
   "source": [
    "### Problem Statement 2:-\n",
    "**Bank Account System:** \\\n",
    "Create a base class Account with public, private, and protected attributes representing account details such as account number, balance, and interest rate. Implement methods to deposit, withdraw, and calculate interest. Then create subclasses SavingsAccount and CheckingAccount that inherit from Account and demonstrate access to different types of attributes and methods."
   ]
  },
  {
   "cell_type": "code",
   "execution_count": 3,
   "id": "9b088f5f-3bf9-41a0-b087-75f4b7de8b7c",
   "metadata": {},
   "outputs": [
    {
     "name": "stdout",
     "output_type": "stream",
     "text": [
      "Name: Raj\n",
      "Employee ID: M123\n",
      "Salary: 70000\n",
      "Total Salary: 80000\n",
      "\n",
      "Name: Dhoni\n",
      "Employee ID: D456\n",
      "Salary: 60000\n",
      "Dhoni is working on AI Tool\n"
     ]
    }
   ],
   "source": [
    "# Base class\n",
    "class Employee:\n",
    "    def __init__(self, name, emp_id, salary):\n",
    "        self.name = name                # public\n",
    "        self.__emp_id = emp_id          # private\n",
    "        self._salary = salary           # protected\n",
    "\n",
    "    def display_details(self):\n",
    "        print(\"Name:\", self.name)\n",
    "        print(\"Employee ID:\", self.__emp_id)\n",
    "        print(\"Salary:\", self._salary)\n",
    "\n",
    "    def calculate_salary(self):\n",
    "        return self._salary\n",
    "\n",
    "# Manager subclass\n",
    "class Manager(Employee):\n",
    "    def __init__(self, name, emp_id, salary, bonus):\n",
    "        super().__init__(name, emp_id, salary)\n",
    "        self.bonus = bonus\n",
    "\n",
    "    def total_salary(self):\n",
    "        return self._salary + self.bonus  # accessing protected attribute\n",
    "\n",
    "# Developer subclass\n",
    "class Developer(Employee):\n",
    "    def __init__(self, name, emp_id, salary, project):\n",
    "        super().__init__(name, emp_id, salary)\n",
    "        self.project = project\n",
    "\n",
    "    def show_project(self):\n",
    "        print(f\"{self.name} is working on {self.project}\")\n",
    "\n",
    "\n",
    "m1 = Manager(\"Raj\", \"M123\", 70000, 10000)\n",
    "m1.display_details()\n",
    "print(\"Total Salary:\", m1.total_salary())\n",
    "\n",
    "print()\n",
    "\n",
    "d1 = Developer(\"Dhoni\", \"D456\", 60000, \"AI Tool\")\n",
    "d1.display_details()\n",
    "d1.show_project()"
   ]
  },
  {
   "cell_type": "markdown",
   "id": "0ec5ccc3-f4fc-4d78-930b-fbe844846566",
   "metadata": {},
   "source": [
    "### Problem Statement 3:-\n",
    "**Vehicle Management System:** \\\n",
    "Create a base class Vehicle with public, private, and protected attributes representing vehicle details such as make, model, and year. Implement methods to display vehicle information. Then create subclasses Car and Motorcycle that inherit from Vehicle and demonstrate access to different types of attributes and methods."
   ]
  },
  {
   "cell_type": "code",
   "execution_count": 5,
   "id": "bd59428c-cf3c-4ccd-ae66-64df17994ccf",
   "metadata": {},
   "outputs": [
    {
     "name": "stdout",
     "output_type": "stream",
     "text": [
      "Vehicle Management :-\n",
      "\n",
      "Make: Mahindra\n",
      "Model: XUV7OO\n",
      "Year: 2024\n",
      "Car has 7 doors and model is XUV7OO\n",
      "\n",
      "Make: Bajaj Motors\n",
      "Model: Avenger\n",
      "Year: 2015\n",
      "Motorcycle has 220cc and make is Bajaj Motors\n"
     ]
    }
   ],
   "source": [
    "# Base class\n",
    "class Vehicle:\n",
    "    def __init__(self, make, model, year):\n",
    "        self.make = make             # public\n",
    "        self._model = model          # protected\n",
    "        self.__year = year           # private\n",
    "\n",
    "    def display_info(self):\n",
    "        print(\"Make:\", self.make)\n",
    "        print(\"Model:\", self._model)\n",
    "        print(\"Year:\", self.__year)\n",
    "\n",
    "# Subclass Car\n",
    "class Car(Vehicle):\n",
    "    def __init__(self, make, model, year, doors):\n",
    "        super().__init__(make, model, year)\n",
    "        self.doors = doors\n",
    "\n",
    "    def show_car(self):\n",
    "        print(f\"Car has {self.doors} doors and model is {self._model}\")\n",
    "\n",
    "# Subclass Motorcycle\n",
    "class Motorcycle(Vehicle):\n",
    "    def __init__(self, make, model, year, cc):\n",
    "        super().__init__(make, model, year)\n",
    "        self.cc = cc\n",
    "\n",
    "    def show_motorcycle(self):\n",
    "        print(f\"Motorcycle has {self.cc}cc and make is {self.make}\")\n",
    "\n",
    "\n",
    "print(\"Vehicle Management :-\\n\")\n",
    "car1 = Car(\"Mahindra\", \"XUV7OO\", 2024, 7)\n",
    "car1.display_info()\n",
    "car1.show_car()\n",
    "print()\n",
    "bike1 = Motorcycle(\"Bajaj Motors\", \"Avenger\", 2015, 220)\n",
    "bike1.display_info()\n",
    "bike1.show_motorcycle()\n"
   ]
  },
  {
   "cell_type": "markdown",
   "id": "003cc93c-410e-4edc-b498-2ba9d39c05a8",
   "metadata": {},
   "source": [
    "### Problem Statement 4:-\n",
    "**School Management System:** \\\n",
    "Create a base class Student with public, private, and protected attributes representing student details such as name, roll number, and marks. Implement methods to display student details and calculate grades. Then create subclasses ClassMonitor and Topper that inherit from Student and demonstrate access to different types of attributes and methods."
   ]
  },
  {
   "cell_type": "code",
   "execution_count": 7,
   "id": "159d68c4-5be5-4d1a-ae0c-a08c5b17bea5",
   "metadata": {},
   "outputs": [
    {
     "name": "stdout",
     "output_type": "stream",
     "text": [
      "School Management :-\n",
      "\n",
      "Name: Roshan\n",
      "Roll No: 101\n",
      "Marks: 78\n",
      "Roshan is the class monitor with grade B.\n",
      "\n",
      "Name: Pankaj\n",
      "Roll No: 102\n",
      "Marks: 95\n",
      "Pankaj is the Topper of the class!\n"
     ]
    }
   ],
   "source": [
    "# Base class\n",
    "class Student:\n",
    "    def __init__(self, name, roll, marks):\n",
    "        self.name = name             # public\n",
    "        self._marks = marks          # protected\n",
    "        self.__roll = roll           # private\n",
    "\n",
    "    def display_details(self):\n",
    "        print(\"Name:\", self.name)\n",
    "        print(\"Roll No:\", self.__roll)\n",
    "        print(\"Marks:\", self._marks)\n",
    "\n",
    "    def calculate_grade(self):\n",
    "        if self._marks >= 90:\n",
    "            return \"A\"\n",
    "        elif self._marks >= 75:\n",
    "            return \"B\"\n",
    "        elif self._marks >= 60:\n",
    "            return \"C\"\n",
    "        else:\n",
    "            return \"D\"\n",
    "\n",
    "# Subclass ClassMonitor\n",
    "class ClassMonitor(Student):\n",
    "    def show_role(self):\n",
    "        print(f\"{self.name} is the class monitor with grade {self.calculate_grade()}.\")\n",
    "\n",
    "# Subclass Topper\n",
    "class Topper(Student):\n",
    "    def praise(self):\n",
    "        if self._marks >= 90:\n",
    "            print(f\"{self.name} is the Topper of the class!\")\n",
    "\n",
    "\n",
    "print(\"School Management :-\\n\")\n",
    "s1 = ClassMonitor(\"Roshan\", 101, 78)\n",
    "s1.display_details()\n",
    "s1.show_role()\n",
    "print()\n",
    "s2 = Topper(\"Pankaj\", 102, 95)\n",
    "s2.display_details()\n",
    "s2.praise()\n"
   ]
  },
  {
   "cell_type": "markdown",
   "id": "ec063d6e-108e-498b-8785-8162f847954a",
   "metadata": {},
   "source": [
    "### Problem Statement 5:-\n",
    "**Product Inventory Management:** \\\n",
    "Create a base class Product with public, private, and protected attributes representing product details such as name, ID, and price. Implement methods to display product information. Then create subclasses ElectronicProduct and ClothingProduct that inherit from Product and demonstrate access to different types of attributes and methods."
   ]
  },
  {
   "cell_type": "code",
   "execution_count": null,
   "id": "4c6e305f-a502-45a3-9a49-738585181922",
   "metadata": {},
   "outputs": [],
   "source": []
  }
 ],
 "metadata": {
  "kernelspec": {
   "display_name": "Python 3 (ipykernel)",
   "language": "python",
   "name": "python3"
  },
  "language_info": {
   "codemirror_mode": {
    "name": "ipython",
    "version": 3
   },
   "file_extension": ".py",
   "mimetype": "text/x-python",
   "name": "python",
   "nbconvert_exporter": "python",
   "pygments_lexer": "ipython3",
   "version": "3.12.1"
  }
 },
 "nbformat": 4,
 "nbformat_minor": 5
}
