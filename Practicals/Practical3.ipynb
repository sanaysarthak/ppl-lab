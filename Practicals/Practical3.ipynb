{
 "cells": [
  {
   "cell_type": "markdown",
   "id": "3a553bb4-9492-49fd-9a21-89616f5174a4",
   "metadata": {},
   "source": [
    "## Practical 3 :-\n",
    "**Name:** Sarthak Sanay\\\n",
    "**Enrollment No:** 230031101611051"
   ]
  },
  {
   "cell_type": "markdown",
   "id": "d26190e3-1587-48f8-b9d6-80c51c6bbb17",
   "metadata": {},
   "source": [
    "### Problem Statement :-\n",
    "You are building an e-commerce website, and you need to keep track of items in a user’s shopping cart. Implement the following:\n",
    "- Create an empty list called shopping_cart.\n",
    "- Allow the user to add items (product names) to the cart.\n",
    "- Display the current items in the cart.\n",
    "- Allow the user to remove items from the cart.\n",
    "- Calculate the total number of items in the cart."
   ]
  },
  {
   "cell_type": "code",
   "execution_count": 1,
   "id": "82661a17-d66c-49ff-b2dc-74dd11543d67",
   "metadata": {},
   "outputs": [
    {
     "name": "stdout",
     "output_type": "stream",
     "text": [
      "Enter 1 to add items to the cart. \n",
      "Enter 2 to display the current items in the cart. \n",
      "Enter 3 to remove items from the cart. \n",
      "Enter 4 to calculate the total no. of items in the cart. \n",
      "Enter 0 to exit.\n"
     ]
    },
    {
     "name": "stdout",
     "output_type": "stream",
     "text": [
      "Enter your choice:  1\n",
      "\n",
      "Enter product name:  Mechanical Keyboard\n"
     ]
    },
    {
     "name": "stdout",
     "output_type": "stream",
     "text": [
      "Item \"Mechanical Keyboard\" inserted into the cart successfully.\n",
      "\n",
      "\n",
      "Enter 1 to add items to the cart. \n",
      "Enter 2 to display the current items in the cart. \n",
      "Enter 3 to remove items from the cart. \n",
      "Enter 4 to calculate the total no. of items in the cart. \n",
      "Enter 0 to exit.\n"
     ]
    },
    {
     "name": "stdout",
     "output_type": "stream",
     "text": [
      "Enter your choice:  1\n",
      "\n",
      "Enter product name:  Sony A7 Camera\n"
     ]
    },
    {
     "name": "stdout",
     "output_type": "stream",
     "text": [
      "Item \"Sony A7 Camera\" inserted into the cart successfully.\n",
      "\n",
      "\n",
      "Enter 1 to add items to the cart. \n",
      "Enter 2 to display the current items in the cart. \n",
      "Enter 3 to remove items from the cart. \n",
      "Enter 4 to calculate the total no. of items in the cart. \n",
      "Enter 0 to exit.\n"
     ]
    },
    {
     "name": "stdout",
     "output_type": "stream",
     "text": [
      "Enter your choice:  1\n",
      "\n",
      "Enter product name:  Airpods\n"
     ]
    },
    {
     "name": "stdout",
     "output_type": "stream",
     "text": [
      "Item \"Airpods\" inserted into the cart successfully.\n",
      "\n",
      "\n",
      "Enter 1 to add items to the cart. \n",
      "Enter 2 to display the current items in the cart. \n",
      "Enter 3 to remove items from the cart. \n",
      "Enter 4 to calculate the total no. of items in the cart. \n",
      "Enter 0 to exit.\n"
     ]
    },
    {
     "name": "stdout",
     "output_type": "stream",
     "text": [
      "Enter your choice:  2\n"
     ]
    },
    {
     "name": "stdout",
     "output_type": "stream",
     "text": [
      "\n",
      "Items in the cart are as follows :-\n",
      "\n",
      "1. Mechanical Keyboard\n",
      "2. Sony A7 Camera\n",
      "3. Airpods\n",
      "\n",
      "\n",
      "Enter 1 to add items to the cart. \n",
      "Enter 2 to display the current items in the cart. \n",
      "Enter 3 to remove items from the cart. \n",
      "Enter 4 to calculate the total no. of items in the cart. \n",
      "Enter 0 to exit.\n"
     ]
    },
    {
     "name": "stdout",
     "output_type": "stream",
     "text": [
      "Enter your choice:  3\n",
      "\n",
      "Enter the postion which you want to delete:  3\n"
     ]
    },
    {
     "name": "stdout",
     "output_type": "stream",
     "text": [
      "Item \"Airpods\" removed successfully.\n",
      "\n",
      "\n",
      "Enter 1 to add items to the cart. \n",
      "Enter 2 to display the current items in the cart. \n",
      "Enter 3 to remove items from the cart. \n",
      "Enter 4 to calculate the total no. of items in the cart. \n",
      "Enter 0 to exit.\n"
     ]
    },
    {
     "name": "stdout",
     "output_type": "stream",
     "text": [
      "Enter your choice:  2\n"
     ]
    },
    {
     "name": "stdout",
     "output_type": "stream",
     "text": [
      "\n",
      "Items in the cart are as follows :-\n",
      "\n",
      "1. Mechanical Keyboard\n",
      "2. Sony A7 Camera\n",
      "\n",
      "\n",
      "Enter 1 to add items to the cart. \n",
      "Enter 2 to display the current items in the cart. \n",
      "Enter 3 to remove items from the cart. \n",
      "Enter 4 to calculate the total no. of items in the cart. \n",
      "Enter 0 to exit.\n"
     ]
    },
    {
     "name": "stdout",
     "output_type": "stream",
     "text": [
      "Enter your choice:  4\n"
     ]
    },
    {
     "name": "stdout",
     "output_type": "stream",
     "text": [
      "\n",
      "The total no. of items in the cart are 2.\n",
      "\n",
      "\n",
      "Enter 1 to add items to the cart. \n",
      "Enter 2 to display the current items in the cart. \n",
      "Enter 3 to remove items from the cart. \n",
      "Enter 4 to calculate the total no. of items in the cart. \n",
      "Enter 0 to exit.\n"
     ]
    },
    {
     "name": "stdout",
     "output_type": "stream",
     "text": [
      "Enter your choice:  0\n"
     ]
    },
    {
     "name": "stdout",
     "output_type": "stream",
     "text": [
      "\n",
      "Exited the program successfully!\n"
     ]
    }
   ],
   "source": [
    "shopping_cart = [] # initializing an empty list\n",
    "ch = 1 # intializing the choice variable.\n",
    "\n",
    "while ch != 0:\n",
    "    print(\"Enter 1 to add items to the cart. \\nEnter 2 to display the current items in the cart. \\nEnter 3 to remove items from the cart. \\nEnter 4 to calculate the total no. of items in the cart. \\nEnter 0 to exit.\")\n",
    "    ch = int(input(\"Enter your choice: \"))\n",
    "    \n",
    "    if ch == 1:\n",
    "        product_name = str(input(\"\\nEnter product name: \"))\n",
    "        shopping_cart.append(product_name)\n",
    "        print(f\"Item \\\"{product_name}\\\" inserted into the cart successfully.\\n\\n\")\n",
    "        \n",
    "    elif ch == 2:\n",
    "        print(\"\\nItems in the cart are as follows :-\\n\")\n",
    "        for i in range(0, len(shopping_cart)):\n",
    "            print(f\"{i+1}. {shopping_cart[i]}\")\n",
    "        print(\"\\n\")\n",
    "        \n",
    "    elif ch == 3:\n",
    "        if len(shopping_cart) > 0:\n",
    "            pos = int(input(\"\\nEnter the postion which you want to delete: \"))\n",
    "            print(f\"Item \\\"{shopping_cart[pos-1]}\\\" removed successfully.\\n\\n\")\n",
    "            shopping_cart.pop(pos-1)\n",
    "        else:\n",
    "            print(\"Shopping cart is already empty.\")\n",
    "\n",
    "    elif ch == 4:\n",
    "        print(f\"\\nThe total no. of items in the cart are {len(shopping_cart)}.\\n\\n\")\n",
    "\n",
    "    else:\n",
    "        print(\"\\nExited the program successfully!\")"
   ]
  }
 ],
 "metadata": {
  "kernelspec": {
   "display_name": "Python 3 (ipykernel)",
   "language": "python",
   "name": "python3"
  },
  "language_info": {
   "codemirror_mode": {
    "name": "ipython",
    "version": 3
   },
   "file_extension": ".py",
   "mimetype": "text/x-python",
   "name": "python",
   "nbconvert_exporter": "python",
   "pygments_lexer": "ipython3",
   "version": "3.12.8"
  }
 },
 "nbformat": 4,
 "nbformat_minor": 5
}
