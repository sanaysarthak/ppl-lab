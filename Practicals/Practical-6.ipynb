{
 "cells": [
  {
   "cell_type": "markdown",
   "id": "7977f529-65c6-427c-b10e-7c33ffda1ff7",
   "metadata": {},
   "source": [
    "## Practical 6 :-\n",
    "**Name:** Sarthak Sanay\\\n",
    "**Enrollment No:** 230031101611051"
   ]
  },
  {
   "cell_type": "markdown",
   "id": "00a7893c-52e4-45c3-98d0-964022ff379b",
   "metadata": {},
   "source": [
    "## Problem Statement 1 :-\n",
    "**Online Shopping Cart:** Imagine you’re developing an online shopping platform. Create a Python program that simulates a user’s shopping cart.\n",
    "- Allow the user to add product names and prices to their cart.\n",
    "- Display the current items in the cart.\n",
    "- Allow the user to remove items from the cart.\n",
    "- Calculate the total price and display the total number of items in the cart."
   ]
  },
  {
   "cell_type": "code",
   "execution_count": 7,
   "id": "f0e0d272-1981-457b-a8a9-5fefbafc182b",
   "metadata": {},
   "outputs": [
    {
     "name": "stdout",
     "output_type": "stream",
     "text": [
      "\n",
      "SHOPPING CART OPERATIONS :- \n",
      "1. Add product to cart. \n",
      "2. Display items in cart. \n",
      "3. Remove item from cart. \n",
      "4. Calculate cart total. \n",
      "0. Exit the program.\n"
     ]
    },
    {
     "name": "stdin",
     "output_type": "stream",
     "text": [
      "Enter choice:  1\n",
      "\n",
      "Enter product name to add:  iPhone 16\n",
      "Enter product price:  79900\n"
     ]
    },
    {
     "name": "stdout",
     "output_type": "stream",
     "text": [
      "iPhone 16 added to cart successfully!\n",
      "\n",
      "\n",
      "SHOPPING CART OPERATIONS :- \n",
      "1. Add product to cart. \n",
      "2. Display items in cart. \n",
      "3. Remove item from cart. \n",
      "4. Calculate cart total. \n",
      "0. Exit the program.\n"
     ]
    },
    {
     "name": "stdin",
     "output_type": "stream",
     "text": [
      "Enter choice:  1\n",
      "\n",
      "Enter product name to add:  Apple Airpods\n",
      "Enter product price:  12900\n"
     ]
    },
    {
     "name": "stdout",
     "output_type": "stream",
     "text": [
      "Apple Airpods added to cart successfully!\n",
      "\n",
      "\n",
      "SHOPPING CART OPERATIONS :- \n",
      "1. Add product to cart. \n",
      "2. Display items in cart. \n",
      "3. Remove item from cart. \n",
      "4. Calculate cart total. \n",
      "0. Exit the program.\n"
     ]
    },
    {
     "name": "stdin",
     "output_type": "stream",
     "text": [
      "Enter choice:  1\n",
      "\n",
      "Enter product name to add:  Apple Watch\n",
      "Enter product price:  29900\n"
     ]
    },
    {
     "name": "stdout",
     "output_type": "stream",
     "text": [
      "Apple Watch added to cart successfully!\n",
      "\n",
      "\n",
      "SHOPPING CART OPERATIONS :- \n",
      "1. Add product to cart. \n",
      "2. Display items in cart. \n",
      "3. Remove item from cart. \n",
      "4. Calculate cart total. \n",
      "0. Exit the program.\n"
     ]
    },
    {
     "name": "stdin",
     "output_type": "stream",
     "text": [
      "Enter choice:  2\n"
     ]
    },
    {
     "name": "stdout",
     "output_type": "stream",
     "text": [
      "\n",
      "Items in your cart are :-\n",
      "iPhone 16\t\tRs. 79900.00\n",
      "Apple Airpods\t\tRs. 12900.00\n",
      "Apple Watch\t\tRs. 29900.00\n",
      "\n",
      "\n",
      "SHOPPING CART OPERATIONS :- \n",
      "1. Add product to cart. \n",
      "2. Display items in cart. \n",
      "3. Remove item from cart. \n",
      "4. Calculate cart total. \n",
      "0. Exit the program.\n"
     ]
    },
    {
     "name": "stdin",
     "output_type": "stream",
     "text": [
      "Enter choice:  4\n"
     ]
    },
    {
     "name": "stdout",
     "output_type": "stream",
     "text": [
      "\n",
      "Total no. of items in cart:\t 3\n",
      "Total price of items in cart:\t Rs. 122700.00\n",
      "\n",
      "\n",
      "SHOPPING CART OPERATIONS :- \n",
      "1. Add product to cart. \n",
      "2. Display items in cart. \n",
      "3. Remove item from cart. \n",
      "4. Calculate cart total. \n",
      "0. Exit the program.\n"
     ]
    },
    {
     "name": "stdin",
     "output_type": "stream",
     "text": [
      "Enter choice:  3\n",
      "\n",
      "Enter product name to remove:  Apple Watch\n"
     ]
    },
    {
     "name": "stdout",
     "output_type": "stream",
     "text": [
      "Apple Watch removed from cart!\n",
      "\n",
      "\n",
      "SHOPPING CART OPERATIONS :- \n",
      "1. Add product to cart. \n",
      "2. Display items in cart. \n",
      "3. Remove item from cart. \n",
      "4. Calculate cart total. \n",
      "0. Exit the program.\n"
     ]
    },
    {
     "name": "stdin",
     "output_type": "stream",
     "text": [
      "Enter choice:  2\n"
     ]
    },
    {
     "name": "stdout",
     "output_type": "stream",
     "text": [
      "\n",
      "Items in your cart are :-\n",
      "iPhone 16\t\tRs. 79900.00\n",
      "Apple Airpods\t\tRs. 12900.00\n",
      "\n",
      "\n",
      "SHOPPING CART OPERATIONS :- \n",
      "1. Add product to cart. \n",
      "2. Display items in cart. \n",
      "3. Remove item from cart. \n",
      "4. Calculate cart total. \n",
      "0. Exit the program.\n"
     ]
    },
    {
     "name": "stdin",
     "output_type": "stream",
     "text": [
      "Enter choice:  4\n"
     ]
    },
    {
     "name": "stdout",
     "output_type": "stream",
     "text": [
      "\n",
      "Total no. of items in cart:\t 2\n",
      "Total price of items in cart:\t Rs. 92800.00\n",
      "\n",
      "\n",
      "SHOPPING CART OPERATIONS :- \n",
      "1. Add product to cart. \n",
      "2. Display items in cart. \n",
      "3. Remove item from cart. \n",
      "4. Calculate cart total. \n",
      "0. Exit the program.\n"
     ]
    },
    {
     "name": "stdin",
     "output_type": "stream",
     "text": [
      "Enter choice:  0\n"
     ]
    },
    {
     "name": "stdout",
     "output_type": "stream",
     "text": [
      "\n",
      "Exited the program successfully!\n"
     ]
    }
   ],
   "source": [
    "# Approach using list of tuples, where each product name and price is inserted as a tuple into the list cart.\n",
    "\n",
    "cart = [] # initialize empty list of tuples\n",
    "\n",
    "while True:\n",
    "\n",
    "    print(\"\\nSHOPPING CART OPERATIONS :- \\n1. Add product to cart. \\n2. Display items in cart. \\n3. Remove item from cart. \\n4. Calculate cart total. \\n0. Exit the program.\")\n",
    "    ch = int(input(\"Enter choice: \"))\n",
    "    \n",
    "    if ch == 1:\n",
    "        product_name = input(\"\\nEnter product name to add: \")\n",
    "        product_price = float(input(\"Enter product price: \"))\n",
    "        cart.append((product_name, product_price))\n",
    "        print(f\"{product_name} added to cart successfully!\\n\")\n",
    "    \n",
    "    elif ch == 2:\n",
    "        if len(cart) == 0:\n",
    "            print(\"\\nYour cart is empty!\\n\")\n",
    "        else:\n",
    "            print(\"\\nItems in your cart are :-\")\n",
    "            for item in cart:\n",
    "                print(f\"{item[0]}\\t\\tRs. {item[1]:.2f}\")\n",
    "            print() # to add a newline\n",
    "    \n",
    "    elif ch == 3:\n",
    "        product_name = input(\"\\nEnter product name to remove: \")\n",
    "        product_in_cart = False\n",
    "        for item in cart:\n",
    "            if item[0] == product_name:\n",
    "                product_in_cart = True\n",
    "                cart.remove(item)\n",
    "                # break # to remove only first occurence of the product\n",
    "        if product_in_cart:\n",
    "            print(f\"{product_name} removed from cart!\\n\")\n",
    "        else:\n",
    "            print(f\"{product_name} does not exist in the cart!\\n\")\n",
    "                \n",
    "    elif ch == 4:\n",
    "        total_price = 0\n",
    "        for item in cart:\n",
    "            total_price += item[1]\n",
    "        print(\"\\nTotal no. of items in cart:\\t\", len(cart))\n",
    "        print(f\"Total price of items in cart:\\t Rs. {total_price:.2f}\\n\")\n",
    "            \n",
    "    elif ch == 0:\n",
    "        print(\"\\nExited the program successfully!\")\n",
    "        break\n",
    "    \n",
    "    else:\n",
    "        print(\"\\nEnter correct choice.\\n\")"
   ]
  },
  {
   "cell_type": "markdown",
   "id": "94e0ff28-7b5f-4732-a274-be09763dece7",
   "metadata": {},
   "source": [
    "## Problem Statement 2 :-\n",
    "**Student Grade Analyzer:**  As a teacher, you have a list of student names and scores (out of 100) for a test.\n",
    "- Write a Python program that calculates the average score and identifies students who scored above the average."
   ]
  },
  {
   "cell_type": "code",
   "execution_count": 12,
   "id": "1bb39907-daec-4f5f-bd95-554488590bcd",
   "metadata": {},
   "outputs": [
    {
     "name": "stdout",
     "output_type": "stream",
     "text": [
      "Average marks: 72.2\n",
      "\n",
      "Students who have scored above 72.2 are :-\n",
      "\n",
      "Sarthak Sanay\n",
      "Arnav Singh\n",
      "Abhishek Tripathi\n",
      "Aman Yadav\n",
      "Vaibhav Raj\n",
      "Harsh Rathore\n"
     ]
    }
   ],
   "source": [
    "# list of tuples containing student_name and student_marks as tuple pair\n",
    "list = [(\"Sarthak Sanay\", 89),\n",
    "       (\"Arnav Singh\", 75),\n",
    "       (\"Kunal Mishra\", 65),\n",
    "       (\"Rahul Singal\", 52),\n",
    "       (\"Abhishek Tripathi\", 94),\n",
    "       (\"Hardik Sharma\", 44),\n",
    "       (\"Arjun Kumar\", 33),\n",
    "       (\"Aman Yadav\", 86),\n",
    "       (\"Vaibhav Raj\", 96),\n",
    "       (\"Harsh Rathore\", 88)]\n",
    "\n",
    "# to find average marks of students\n",
    "total = 0\n",
    "for marks in list:\n",
    "    total += marks[1]\n",
    "average_marks = total / len(list) \n",
    "\n",
    "# printing names of students who have scored above the average marks\n",
    "print(\"Average marks:\", average_marks)\n",
    "print(f\"\\nStudents who have scored above {average_marks} are :-\\n\")\n",
    "for student in list:\n",
    "    if student[1] > average_marks:\n",
    "        print(student[0])"
   ]
  },
  {
   "cell_type": "markdown",
   "id": "83b8d974-3851-41d9-881b-7a2203b1c0fe",
   "metadata": {},
   "source": [
    "### Problem Statement 3 :-\n",
    "**Temperature Converter:**  You’re building a weather app. Create a Python program that converts temperatures between Celsius and Fahrenheit.\n",
    "- Prompt the user to enter a temperature value and a unit (C or F).\n",
    "- Calculate and display the converted temperature.\n",
    "- Example: If the user enters 32 C, the program should output 89.6 F."
   ]
  },
  {
   "cell_type": "code",
   "execution_count": 1,
   "id": "e73007e5-e0da-4ae4-8f3f-df36bffd175b",
   "metadata": {},
   "outputs": [
    {
     "name": "stdout",
     "output_type": "stream",
     "text": [
      "TEMPERATURE CONVERTER :- \n",
      "Enter 'EXIT' to terminate the program.\n",
      "\n"
     ]
    },
    {
     "name": "stdin",
     "output_type": "stream",
     "text": [
      "Enter temperature value and a unit (C or F):  24 C\n"
     ]
    },
    {
     "name": "stdout",
     "output_type": "stream",
     "text": [
      "Temperature in Fahrenheit: 75.20 F\n",
      "\n"
     ]
    },
    {
     "name": "stdin",
     "output_type": "stream",
     "text": [
      "Enter temperature value and a unit (C or F):  31 C\n"
     ]
    },
    {
     "name": "stdout",
     "output_type": "stream",
     "text": [
      "Temperature in Fahrenheit: 87.80 F\n",
      "\n"
     ]
    },
    {
     "name": "stdin",
     "output_type": "stream",
     "text": [
      "Enter temperature value and a unit (C or F):  33 F\n"
     ]
    },
    {
     "name": "stdout",
     "output_type": "stream",
     "text": [
      "Temperature in Celsius: 0.56 C\n",
      "\n"
     ]
    },
    {
     "name": "stdin",
     "output_type": "stream",
     "text": [
      "Enter temperature value and a unit (C or F):  20 F\n"
     ]
    },
    {
     "name": "stdout",
     "output_type": "stream",
     "text": [
      "Temperature in Celsius: -6.67 C\n",
      "\n"
     ]
    },
    {
     "name": "stdin",
     "output_type": "stream",
     "text": [
      "Enter temperature value and a unit (C or F):  EXIT\n"
     ]
    },
    {
     "name": "stdout",
     "output_type": "stream",
     "text": [
      "\n",
      "Exited the program successfully!\n"
     ]
    }
   ],
   "source": [
    "print(\"TEMPERATURE CONVERTER :- \\nEnter 'EXIT' to terminate the program.\\n\")\n",
    "\n",
    "while True:\n",
    "    user_temp = input(\"Enter temperature value and a unit (C or F): \")\n",
    "    \n",
    "    if user_temp == \"EXIT\":\n",
    "        print(\"\\nExited the program successfully!\")\n",
    "        break\n",
    "    \n",
    "    temperature = float(user_temp[ :user_temp.find(\" \")])\n",
    "    unit = user_temp[(user_temp.find(\" \")) + 1: ]\n",
    "    unit = unit.upper()\n",
    "    \n",
    "    if unit == 'C':\n",
    "        temp_fahr = (temperature * (9/5)) + 32\n",
    "        print(f\"Temperature in Fahrenheit: {temp_fahr:.2f} F\\n\")\n",
    "\n",
    "    elif unit == 'F':\n",
    "        temp_cel = (temperature - 32) * (5/9)\n",
    "        print(f\"Temperature in Celsius: {temp_cel:.2f} C\\n\")\n",
    "\n",
    "    else:\n",
    "        print(\"Enter correct unit for temperature.\\n\")"
   ]
  },
  {
   "cell_type": "markdown",
   "id": "72355d70-4fb0-42b3-99a9-ef9a4bc344ae",
   "metadata": {},
   "source": [
    "### Problem Statement 4 :-\n",
    "**Vowel Counter:**  You’re developing a text analysis tool. Write a Python program that reads a sentence from the user.\n",
    "- Count the number of vowels (a, e, i, o, u) in the sentence.\n",
    "- Display the total count of each vowel."
   ]
  },
  {
   "cell_type": "code",
   "execution_count": 2,
   "id": "496cd8a3-dcf6-4ff8-8a89-67a44d392458",
   "metadata": {},
   "outputs": [
    {
     "name": "stdout",
     "output_type": "stream",
     "text": [
      "Text Analysis Tool :-\n",
      "\n"
     ]
    },
    {
     "name": "stdin",
     "output_type": "stream",
     "text": [
      "Enter a sentence:  The quick brown fox jumps over the lazy dog\n"
     ]
    },
    {
     "name": "stdout",
     "output_type": "stream",
     "text": [
      "\n",
      "Count of each vowel is as follows:-\n",
      "A: 1\n",
      "E: 3\n",
      "I: 1\n",
      "O: 4\n",
      "U: 2\n",
      "\n",
      "Total count of vowels in the sentence: 11\n"
     ]
    }
   ],
   "source": [
    "print(\"Text Analysis Tool :-\\n\")\n",
    "\n",
    "sentence = input(\"Enter a sentence: \")\n",
    "sentence = sentence.upper()\n",
    "\n",
    "# dictionary having key-value pair with vowels as keys, and the values being each of their specific count\n",
    "vowels = {'A':0, 'E':0, 'I':0, 'O':0, 'U':0}\n",
    "\n",
    "# checks if a char in the str is vowel, and increments the particular vowel accordingly where required\n",
    "for char in sentence:\n",
    "    if char in vowels:\n",
    "        vowels[char] += 1\n",
    "\n",
    "# to print the total no. of vowels as well as the count of each vowel\n",
    "print(\"\\nCount of each vowel is as follows:-\")\n",
    "total_vowels = 0\n",
    "for vowel, count in vowels.items():\n",
    "    print(f\"{vowel}: {count}\")\n",
    "    total_vowels += count\n",
    "print(\"\\nTotal count of vowels in the sentence:\", total_vowels)"
   ]
  },
  {
   "cell_type": "markdown",
   "id": "c434dc97-72e9-483c-85ef-aabe966c9db1",
   "metadata": {},
   "source": [
    "### Problem Statement 5 :-\n",
    "**Bookstore Inventory:**  As a bookstore manager, you create a list of book titles and their corresponding quantities in stock.\n",
    "- Write a Python program that asks if the user is a manager or a normal user.\n",
    "- Then allow the manager to create and update the list of books.\n",
    "- Allow other users to search for a book title and check its availability.\n",
    "- Prompt the user to enter a book title.\n",
    "- If the book is in stock, display the quantity available; otherwise, show an appropriate message."
   ]
  },
  {
   "cell_type": "code",
   "execution_count": 2,
   "id": "315ef575-caf3-46f3-a33f-ec60c8196705",
   "metadata": {},
   "outputs": [
    {
     "name": "stdout",
     "output_type": "stream",
     "text": [
      "BOOKSTORE INVENTORY :- \n",
      "Enter 'EXIT' to terminate the program.\n",
      "\n"
     ]
    },
    {
     "name": "stdin",
     "output_type": "stream",
     "text": [
      "Enter M for 'Manager' or U for 'User' \n",
      "Enter choice:  M\n",
      "Enter 1 to add a new book. \n",
      "Enter 2 to remove a book. \n",
      "Enter 3 to update quantity. \n",
      "Enter choice:  1\n",
      "\n",
      "Enter book title:  Oliver Twist\n",
      "Enter quantity:  4\n"
     ]
    },
    {
     "name": "stdout",
     "output_type": "stream",
     "text": [
      "Book 'Oliver Twist' with 4 quantity successfully added to inventory.\n",
      "\n"
     ]
    },
    {
     "name": "stdin",
     "output_type": "stream",
     "text": [
      "Enter M for 'Manager' or U for 'User' \n",
      "Enter choice:  M\n",
      "Enter 1 to add a new book. \n",
      "Enter 2 to remove a book. \n",
      "Enter 3 to update quantity. \n",
      "Enter choice:  1\n",
      "\n",
      "Enter book title:  Wings of Fire\n",
      "Enter quantity:  8\n"
     ]
    },
    {
     "name": "stdout",
     "output_type": "stream",
     "text": [
      "Book 'Wings of Fire' with 8 quantity successfully added to inventory.\n",
      "\n"
     ]
    },
    {
     "name": "stdin",
     "output_type": "stream",
     "text": [
      "Enter M for 'Manager' or U for 'User' \n",
      "Enter choice:  U\n",
      "\n",
      "Enter a book title:  Oliver Twist\n"
     ]
    },
    {
     "name": "stdout",
     "output_type": "stream",
     "text": [
      "Book 'Oliver Twist' is available in the inventory!\n",
      "Quantity: 4\n",
      "\n"
     ]
    },
    {
     "name": "stdin",
     "output_type": "stream",
     "text": [
      "Enter M for 'Manager' or U for 'User' \n",
      "Enter choice:  M\n",
      "Enter 1 to add a new book. \n",
      "Enter 2 to remove a book. \n",
      "Enter 3 to update quantity. \n",
      "Enter choice:  3\n",
      "\n",
      "Enter book title:  Oliver Twist\n",
      "Enter new quantity value:  10\n"
     ]
    },
    {
     "name": "stdout",
     "output_type": "stream",
     "text": [
      "Quantity of book 'Oliver Twist' updated successfully!\n",
      "\n"
     ]
    },
    {
     "name": "stdin",
     "output_type": "stream",
     "text": [
      "Enter M for 'Manager' or U for 'User' \n",
      "Enter choice:  U\n",
      "\n",
      "Enter a book title:  Oliver Twist\n"
     ]
    },
    {
     "name": "stdout",
     "output_type": "stream",
     "text": [
      "Book 'Oliver Twist' is available in the inventory!\n",
      "Quantity: 10\n",
      "\n"
     ]
    },
    {
     "name": "stdin",
     "output_type": "stream",
     "text": [
      "Enter M for 'Manager' or U for 'User' \n",
      "Enter choice:  M\n",
      "Enter 1 to add a new book. \n",
      "Enter 2 to remove a book. \n",
      "Enter 3 to update quantity. \n",
      "Enter choice:  2\n",
      "\n",
      "Enter book title:  Oliver Twist\n"
     ]
    },
    {
     "name": "stdout",
     "output_type": "stream",
     "text": [
      "Book 'Oliver Twist' removed from inventory!\n",
      "\n"
     ]
    },
    {
     "name": "stdin",
     "output_type": "stream",
     "text": [
      "Enter M for 'Manager' or U for 'User' \n",
      "Enter choice:  U\n",
      "\n",
      "Enter a book title:  Oliver Twist\n"
     ]
    },
    {
     "name": "stdout",
     "output_type": "stream",
     "text": [
      "Book 'Oliver Twist' is not available in the inventory!\n",
      "\n"
     ]
    },
    {
     "name": "stdin",
     "output_type": "stream",
     "text": [
      "Enter M for 'Manager' or U for 'User' \n",
      "Enter choice:  Wings of Fire\n"
     ]
    },
    {
     "name": "stdout",
     "output_type": "stream",
     "text": [
      "\n",
      "Enter correct choice.\n",
      "\n"
     ]
    },
    {
     "name": "stdin",
     "output_type": "stream",
     "text": [
      "Enter M for 'Manager' or U for 'User' \n",
      "Enter choice:  U\n",
      "\n",
      "Enter a book title:  Wings of Fire\n"
     ]
    },
    {
     "name": "stdout",
     "output_type": "stream",
     "text": [
      "Book 'Wings of Fire' is available in the inventory!\n",
      "Quantity: 8\n",
      "\n"
     ]
    },
    {
     "name": "stdin",
     "output_type": "stream",
     "text": [
      "Enter M for 'Manager' or U for 'User' \n",
      "Enter choice:  EXIT\n"
     ]
    },
    {
     "name": "stdout",
     "output_type": "stream",
     "text": [
      "\n",
      "Exited the program successfully!\n"
     ]
    }
   ],
   "source": [
    "# Approach using two lists (one to maintain the book titles, and the other one to maintain the corresponding quantities)\n",
    "\n",
    "print(\"BOOKSTORE INVENTORY :- \\nEnter 'EXIT' to terminate the program.\\n\")\n",
    "\n",
    "# added few books as example\n",
    "book_titles = [\"Harry Potter\", \"Famous Five\", \"Merchant of Venice\"]\n",
    "book_quantity = [12, 5, 3]\n",
    "\n",
    "while True:\n",
    "    user_type = input(\"Enter M for 'Manager' or U for 'User' \\nEnter choice: \")\n",
    "    user_type = user_type.upper()\n",
    "    \n",
    "    if user_type == 'M':\n",
    "        ch = int(input(\"Enter 1 to add a new book. \\nEnter 2 to remove a book. \\nEnter 3 to update quantity. \\nEnter choice: \"))\n",
    "        \n",
    "        if ch == 1:\n",
    "            book_add = input(\"\\nEnter book title: \")\n",
    "            quantity_add = int(input(\"Enter quantity: \"))\n",
    "            book_titles.append(book_add)\n",
    "            book_quantity.append(quantity_add)\n",
    "            print(f\"Book '{book_add}' with {quantity_add} quantity successfully added to inventory.\\n\")\n",
    "            \n",
    "        elif ch == 2:\n",
    "            book_remove = input(\"\\nEnter book title: \")\n",
    "            book_found = False\n",
    "            for index, book in enumerate(book_titles):\n",
    "                if book == book_remove:\n",
    "                    book_titles.remove(book_remove)\n",
    "                    book_quantity.pop(index)\n",
    "                    book_found = True\n",
    "                    break\n",
    "            if book_found:\n",
    "                print(f\"Book '{book_remove}' removed from inventory!\\n\")\n",
    "            else:\n",
    "                print(f\"Book '{book_remove}' not found in inventory!\\n\")\n",
    "\n",
    "        elif ch == 3:\n",
    "            book_update = input(\"\\nEnter book title: \")\n",
    "            book_found = False\n",
    "            for index, book in enumerate(book_titles):\n",
    "                if book == book_update:\n",
    "                    quantity_update = int(input(\"Enter new quantity value: \"))\n",
    "                    book_quantity[index] = quantity_update\n",
    "                    book_found = True\n",
    "                    break\n",
    "            if book_found:\n",
    "                print(f\"Quantity of book '{book_update}' updated successfully!\\n\")\n",
    "            else:\n",
    "                print(f\"Book '{book_update}' not found in inventory!\\n\")\n",
    "            \n",
    "        else:\n",
    "            print(\"\\nEnter correct choice.\\n\")\n",
    "\n",
    "            \n",
    "    elif user_type == 'U':\n",
    "        book_user = input(\"\\nEnter a book title: \")\n",
    "        book_found = False\n",
    "        for index, book in enumerate(book_titles):\n",
    "            if book == book_user:\n",
    "                print(f\"Book '{book_user}' is available in the inventory!\")\n",
    "                print(f\"Quantity: {book_quantity[index]}\\n\")\n",
    "                book_found = True\n",
    "                break\n",
    "        if book_found == False:\n",
    "            print(f\"Book '{book_user}' is not available in the inventory!\\n\")\n",
    "\n",
    "    elif user_type == \"EXIT\":\n",
    "        print(\"\\nExited the program successfully!\")\n",
    "        break\n",
    "\n",
    "    else:\n",
    "        print(\"\\nEnter correct choice.\\n\")\n",
    "        continue\n",
    "        "
   ]
  },
  {
   "cell_type": "code",
   "execution_count": null,
   "id": "c06ecd71-03ca-46b4-bd6b-c839e75cbdfc",
   "metadata": {},
   "outputs": [],
   "source": []
  }
 ],
 "metadata": {
  "kernelspec": {
   "display_name": "Python 3 (ipykernel)",
   "language": "python",
   "name": "python3"
  },
  "language_info": {
   "codemirror_mode": {
    "name": "ipython",
    "version": 3
   },
   "file_extension": ".py",
   "mimetype": "text/x-python",
   "name": "python",
   "nbconvert_exporter": "python",
   "pygments_lexer": "ipython3",
   "version": "3.12.1"
  }
 },
 "nbformat": 4,
 "nbformat_minor": 5
}
