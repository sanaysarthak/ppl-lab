{
 "cells": [
  {
   "cell_type": "markdown",
   "id": "7977f529-65c6-427c-b10e-7c33ffda1ff7",
   "metadata": {},
   "source": [
    "## Practical 6 :-\n",
    "**Name:** Sarthak Sanay\\\n",
    "**Enrollment No:** 230031101611051"
   ]
  },
  {
   "cell_type": "markdown",
   "id": "00a7893c-52e4-45c3-98d0-964022ff379b",
   "metadata": {},
   "source": [
    "### Problem Statement 1 :-\n",
    "**Online Shopping Cart:** Imagine you’re developing an online shopping platform. Create a Python program that simulates a user’s shopping cart.\n",
    "- Allow the user to add product names and prices to their cart.\n",
    "- Display the current items in the cart.\n",
    "- Allow the user to remove items from the cart.\n",
    "- Calculate the total price and display the total number of items in the cart."
   ]
  },
  {
   "cell_type": "code",
   "execution_count": 3,
   "id": "8faf0f73-b2fb-4c1b-977f-89ba1fd0817e",
   "metadata": {},
   "outputs": [
    {
     "name": "stdout",
     "output_type": "stream",
     "text": [
      "\n",
      "SHOPPING CART OPERATIONS :- \n",
      "1. Add product to cart. \n",
      "2. Display items in cart. \n",
      "3. Remove item from cart. \n",
      "4. Calculate cart total. \n",
      "0. Exit the program.\n"
     ]
    },
    {
     "name": "stdout",
     "output_type": "stream",
     "text": [
      "Enter choice:  1\n",
      "\n",
      "Enter product name to add:  iPhone 16\n",
      "Enter product price:  79900\n"
     ]
    },
    {
     "name": "stdout",
     "output_type": "stream",
     "text": [
      "'iPhone 16' added to cart successfully!\n",
      "\n",
      "\n",
      "SHOPPING CART OPERATIONS :- \n",
      "1. Add product to cart. \n",
      "2. Display items in cart. \n",
      "3. Remove item from cart. \n",
      "4. Calculate cart total. \n",
      "0. Exit the program.\n"
     ]
    },
    {
     "name": "stdout",
     "output_type": "stream",
     "text": [
      "Enter choice:  1\n",
      "\n",
      "Enter product name to add:  Apple Airpods\n",
      "Enter product price:  12900\n"
     ]
    },
    {
     "name": "stdout",
     "output_type": "stream",
     "text": [
      "'Apple Airpods' added to cart successfully!\n",
      "\n",
      "\n",
      "SHOPPING CART OPERATIONS :- \n",
      "1. Add product to cart. \n",
      "2. Display items in cart. \n",
      "3. Remove item from cart. \n",
      "4. Calculate cart total. \n",
      "0. Exit the program.\n"
     ]
    },
    {
     "name": "stdout",
     "output_type": "stream",
     "text": [
      "Enter choice:  1\n",
      "\n",
      "Enter product name to add:  Apple Watch\n",
      "Enter product price:  29900\n"
     ]
    },
    {
     "name": "stdout",
     "output_type": "stream",
     "text": [
      "'Apple Watch' added to cart successfully!\n",
      "\n",
      "\n",
      "SHOPPING CART OPERATIONS :- \n",
      "1. Add product to cart. \n",
      "2. Display items in cart. \n",
      "3. Remove item from cart. \n",
      "4. Calculate cart total. \n",
      "0. Exit the program.\n"
     ]
    },
    {
     "name": "stdout",
     "output_type": "stream",
     "text": [
      "Enter choice:  2\n"
     ]
    },
    {
     "name": "stdout",
     "output_type": "stream",
     "text": [
      "\n",
      "Items in your cart are :-\n",
      "iPhone 16\t\tRs. 79900.00\n",
      "Apple Airpods\t\tRs. 12900.00\n",
      "Apple Watch\t\tRs. 29900.00\n",
      "\n",
      "\n",
      "SHOPPING CART OPERATIONS :- \n",
      "1. Add product to cart. \n",
      "2. Display items in cart. \n",
      "3. Remove item from cart. \n",
      "4. Calculate cart total. \n",
      "0. Exit the program.\n"
     ]
    },
    {
     "name": "stdout",
     "output_type": "stream",
     "text": [
      "Enter choice:  4\n"
     ]
    },
    {
     "name": "stdout",
     "output_type": "stream",
     "text": [
      "\n",
      "Total no. of items in cart:\t 3\n",
      "Total price of items in cart:\t Rs. 122700.00\n",
      "\n",
      "\n",
      "SHOPPING CART OPERATIONS :- \n",
      "1. Add product to cart. \n",
      "2. Display items in cart. \n",
      "3. Remove item from cart. \n",
      "4. Calculate cart total. \n",
      "0. Exit the program.\n"
     ]
    },
    {
     "name": "stdout",
     "output_type": "stream",
     "text": [
      "Enter choice:  3\n",
      "\n",
      "Enter product name to remove:  Apple Watch\n"
     ]
    },
    {
     "name": "stdout",
     "output_type": "stream",
     "text": [
      "'Apple Watch' removed from cart!\n",
      "\n",
      "\n",
      "SHOPPING CART OPERATIONS :- \n",
      "1. Add product to cart. \n",
      "2. Display items in cart. \n",
      "3. Remove item from cart. \n",
      "4. Calculate cart total. \n",
      "0. Exit the program.\n"
     ]
    },
    {
     "name": "stdout",
     "output_type": "stream",
     "text": [
      "Enter choice:  2\n"
     ]
    },
    {
     "name": "stdout",
     "output_type": "stream",
     "text": [
      "\n",
      "Items in your cart are :-\n",
      "iPhone 16\t\tRs. 79900.00\n",
      "Apple Airpods\t\tRs. 12900.00\n",
      "\n",
      "\n",
      "SHOPPING CART OPERATIONS :- \n",
      "1. Add product to cart. \n",
      "2. Display items in cart. \n",
      "3. Remove item from cart. \n",
      "4. Calculate cart total. \n",
      "0. Exit the program.\n"
     ]
    },
    {
     "name": "stdout",
     "output_type": "stream",
     "text": [
      "Enter choice:  4\n"
     ]
    },
    {
     "name": "stdout",
     "output_type": "stream",
     "text": [
      "\n",
      "Total no. of items in cart:\t 2\n",
      "Total price of items in cart:\t Rs. 92800.00\n",
      "\n",
      "\n",
      "SHOPPING CART OPERATIONS :- \n",
      "1. Add product to cart. \n",
      "2. Display items in cart. \n",
      "3. Remove item from cart. \n",
      "4. Calculate cart total. \n",
      "0. Exit the program.\n"
     ]
    },
    {
     "name": "stdout",
     "output_type": "stream",
     "text": [
      "Enter choice:  0\n"
     ]
    },
    {
     "name": "stdout",
     "output_type": "stream",
     "text": [
      "\n",
      "Exited the program successfully!\n"
     ]
    }
   ],
   "source": [
    "# Approach using dictionary, where each product name will be the key and its price will be the value, henceforth establishing a key-value pair.\n",
    "\n",
    "cart = {} # initialize empty dictionary\n",
    "\n",
    "while True:\n",
    "\n",
    "    print(\"\\nSHOPPING CART OPERATIONS :- \\n1. Add product to cart. \\n2. Display items in cart. \\n3. Remove item from cart. \\n4. Calculate cart total. \\n0. Exit the program.\")\n",
    "    ch = int(input(\"Enter choice: \"))\n",
    "\n",
    "    # Add product to cart\n",
    "    if ch == 1:\n",
    "        product_name = input(\"\\nEnter product name to add: \")\n",
    "        product_price = float(input(\"Enter product price: \"))\n",
    "        cart[product_name] = product_price\n",
    "        print(f\"'{product_name}' added to cart successfully!\\n\")\n",
    "\n",
    "    # Display products in the cart\n",
    "    elif ch == 2:\n",
    "        if len(cart) == 0: # testing if cart is empty\n",
    "            print(\"\\nYour cart is empty!\\n\")\n",
    "        else:\n",
    "            print(\"\\nItems in your cart are :-\")\n",
    "            for product, price in cart.items():\n",
    "                print(f\"{product}\\t\\tRs. {price:.2f}\")\n",
    "            print() # to add a newline\n",
    "\n",
    "    # Removing products from cart\n",
    "    elif ch == 3:\n",
    "        product_name = input(\"\\nEnter product name to remove: \")\n",
    "        if product_name in cart:\n",
    "            del cart[product_name]\n",
    "            print(f\"'{product_name}' removed from cart!\\n\")\n",
    "        else:\n",
    "            print(f\"'{product_name}' does not exist in the cart!\\n\")\n",
    "\n",
    "    # Displaying cart total amount and no. of products in cart\n",
    "    elif ch == 4:\n",
    "        total_price = 0\n",
    "        if len(cart) == 0:\n",
    "            print(\"\\nYour cart is empty!\\n\")\n",
    "        else:\n",
    "            for product, price in cart.items():\n",
    "                total_price += price\n",
    "            print(\"\\nTotal no. of items in cart:\\t\", len(cart))\n",
    "            print(f\"Total price of items in cart:\\t Rs. {total_price:.2f}\\n\")\n",
    "            \n",
    "    elif ch == 0:\n",
    "        print(\"\\nExited the program successfully!\")\n",
    "        break\n",
    "    \n",
    "    else:\n",
    "        print(\"\\nEnter correct choice.\\n\")"
   ]
  },
  {
   "cell_type": "markdown",
   "id": "94e0ff28-7b5f-4732-a274-be09763dece7",
   "metadata": {},
   "source": [
    "### Problem Statement 2 :-\n",
    "**Student Grade Analyzer:**  As a teacher, you have a list of student names and scores (out of 100) for a test.\n",
    "- Write a Python program that calculates the average score and identifies students who scored above the average."
   ]
  },
  {
   "cell_type": "code",
   "execution_count": 4,
   "id": "1bb39907-daec-4f5f-bd95-554488590bcd",
   "metadata": {},
   "outputs": [
    {
     "name": "stdout",
     "output_type": "stream",
     "text": [
      "Average marks: 72.2\n",
      "\n",
      "Students who have scored above 72.2 are :-\n",
      "\n",
      "Sarthak Sanay\n",
      "Arnav Singh\n",
      "Abhishek Tripathi\n",
      "Aman Yadav\n",
      "Vaibhav Raj\n",
      "Harsh Rathore\n"
     ]
    }
   ],
   "source": [
    "# dictionary containing student name as key and their marks as value\n",
    "\n",
    "student_marks = {\"Sarthak Sanay\": 89,\n",
    "                 \"Arnav Singh\": 75,\n",
    "                 \"Kunal Mishra\": 65,\n",
    "                 \"Rahul Singal\": 52,\n",
    "                 \"Abhishek Tripathi\": 94,\n",
    "                 \"Hardik Sharma\": 44,\n",
    "                 \"Arjun Kumar\": 33,\n",
    "                 \"Aman Yadav\": 86,\n",
    "                 \"Vaibhav Raj\": 96,\n",
    "                 \"Harsh Rathore\": 88}\n",
    "\n",
    "# to find average marks of students\n",
    "total, count = 0, 0\n",
    "for marks in student_marks.values():\n",
    "    total += marks\n",
    "average_marks = total / len(student_marks) \n",
    "\n",
    "# printing names of students who have scored above the average marks\n",
    "print(\"Average marks:\", average_marks)\n",
    "print(f\"\\nStudents who have scored above {average_marks} are :-\\n\")\n",
    "for student, marks in student_marks.items():\n",
    "    if marks > average_marks:\n",
    "        print(student)"
   ]
  }
 ],
 "metadata": {
  "kernelspec": {
   "display_name": "Python 3 (ipykernel)",
   "language": "python",
   "name": "python3"
  },
  "language_info": {
   "codemirror_mode": {
    "name": "ipython",
    "version": 3
   },
   "file_extension": ".py",
   "mimetype": "text/x-python",
   "name": "python",
   "nbconvert_exporter": "python",
   "pygments_lexer": "ipython3",
   "version": "3.12.1"
  }
 },
 "nbformat": 4,
 "nbformat_minor": 5
}
