{
 "cells": [
  {
   "cell_type": "markdown",
   "id": "6ee6e4f8-3f6c-4258-921e-08431d063d1e",
   "metadata": {},
   "source": [
    "## Practical 5 :-\n",
    "**Name:** Sarthak Sanay\\\n",
    "**Enrollment No:** 230031101611051"
   ]
  },
  {
   "cell_type": "markdown",
   "id": "b1c46ebc-f6ef-419f-8681-0a284d064b69",
   "metadata": {},
   "source": [
    "### Pattern 1 :-"
   ]
  },
  {
   "cell_type": "code",
   "execution_count": 6,
   "id": "b8fb45b5-828f-41cd-9865-10312345fbd4",
   "metadata": {},
   "outputs": [
    {
     "name": "stdin",
     "output_type": "stream",
     "text": [
      "Enter size:  10\n"
     ]
    },
    {
     "name": "stdout",
     "output_type": "stream",
     "text": [
      "A A A A A A A A A A \n",
      "B B B B B B B B B \n",
      "C C C C C C C C \n",
      "D D D D D D D \n",
      "E E E E E E \n",
      "F F F F F \n",
      "G G G G \n",
      "H H H \n",
      "I I \n",
      "J \n"
     ]
    }
   ],
   "source": [
    "size = int(input(\"Enter size: \"))\n",
    "i = 0\n",
    "while i < size:\n",
    "    # 65 is the ASCII value of 'A'\n",
    "    ch = 65 + i\n",
    "    j = 0\n",
    "    while j < (size - i):\n",
    "        print(chr(ch), end = \" \")\n",
    "        j += 1\n",
    "    i += 1\n",
    "    print()"
   ]
  },
  {
   "cell_type": "markdown",
   "id": "36879a14-bf41-40fd-b5c6-029327bea0bc",
   "metadata": {},
   "source": [
    "### Pattern 2 :-"
   ]
  },
  {
   "cell_type": "code",
   "execution_count": 9,
   "id": "bbfad9e2-787d-4e1c-b558-4257b280ab84",
   "metadata": {},
   "outputs": [
    {
     "name": "stdin",
     "output_type": "stream",
     "text": [
      "Enter size:  10\n"
     ]
    },
    {
     "name": "stdout",
     "output_type": "stream",
     "text": [
      "1 \n",
      "2 3 \n",
      "4 5 6 \n",
      "7 8 9 10 \n",
      "11 12 13 14 15 \n",
      "16 17 18 19 20 21 \n",
      "22 23 24 25 26 27 28 \n",
      "29 30 31 32 33 34 35 36 \n",
      "37 38 39 40 41 42 43 44 45 \n",
      "46 47 48 49 50 51 52 53 54 55 \n"
     ]
    }
   ],
   "source": [
    "size = int(input(\"Enter size: \"))\n",
    "count, i = 1, 0\n",
    "while i < size:\n",
    "    j = 0\n",
    "    while j < (i + 1):\n",
    "        print(count, end = \" \")\n",
    "        count += 1 \n",
    "        j += 1\n",
    "    i += 1\n",
    "    print()"
   ]
  },
  {
   "cell_type": "markdown",
   "id": "f59fab51-d15b-4d3e-80bc-66ef38c97b95",
   "metadata": {},
   "source": [
    "### Pattern 3 :-"
   ]
  },
  {
   "cell_type": "code",
   "execution_count": 11,
   "id": "66c85ff4-2768-4542-ace2-a76399c0d007",
   "metadata": {},
   "outputs": [
    {
     "name": "stdin",
     "output_type": "stream",
     "text": [
      "Enter size:  10\n"
     ]
    },
    {
     "name": "stdout",
     "output_type": "stream",
     "text": [
      "*   *   *   *   *   \n",
      "  *   *   *   *   * \n",
      "*   *   *   *   *   \n",
      "  *   *   *   *   * \n",
      "*   *   *   *   *   \n",
      "  *   *   *   *   * \n",
      "*   *   *   *   *   \n",
      "  *   *   *   *   * \n",
      "*   *   *   *   *   \n",
      "  *   *   *   *   * \n"
     ]
    }
   ],
   "source": [
    "size = int(input(\"Enter size: \"))\n",
    "i = 0\n",
    "while i < size:\n",
    "    j = 0\n",
    "    while j < size:\n",
    "        if i%2 == 0 and j%2 != 0:\n",
    "            print(\" \", end = \" \")\n",
    "        elif i%2 != 0 and j%2 == 0:\n",
    "            print(\" \", end = \" \")\n",
    "        else:\n",
    "            print(\"*\", end = \" \")\n",
    "        j += 1\n",
    "    i += 1\n",
    "    print()"
   ]
  },
  {
   "cell_type": "markdown",
   "id": "f63fc597-ee92-43d1-8ae3-f39dad3e0ca6",
   "metadata": {},
   "source": [
    "### Pattern 4 :-"
   ]
  },
  {
   "cell_type": "code",
   "execution_count": 12,
   "id": "2ddd9ecd-3e73-4db5-892a-08025678ff66",
   "metadata": {},
   "outputs": [
    {
     "name": "stdin",
     "output_type": "stream",
     "text": [
      "Enter size:  10\n"
     ]
    },
    {
     "name": "stdout",
     "output_type": "stream",
     "text": [
      "         * \n",
      "        * * \n",
      "       * * * \n",
      "      * * * * \n",
      "     * * * * * \n",
      "    * * * * * * \n",
      "   * * * * * * * \n",
      "  * * * * * * * * \n",
      " * * * * * * * * * \n",
      "* * * * * * * * * * \n"
     ]
    }
   ],
   "source": [
    "size = int(input(\"Enter size: \"))\n",
    "i = 0\n",
    "while i < size:\n",
    "    # logic to print blank spaces\n",
    "    print(\" \" * (size - (i+1)), end = \"\")\n",
    "    # logic to print stars along with spaces\n",
    "    print(\"* \" * (i+1))\n",
    "    i += 1    "
   ]
  },
  {
   "cell_type": "markdown",
   "id": "9784548f-9ee0-4eaa-882d-bcbf9819f98b",
   "metadata": {},
   "source": [
    "### Pattern 5 :-"
   ]
  },
  {
   "cell_type": "code",
   "execution_count": 13,
   "id": "77598917-91e9-4d8d-bc8b-e170d6fd4ae3",
   "metadata": {},
   "outputs": [
    {
     "name": "stdin",
     "output_type": "stream",
     "text": [
      "Enter size:  10\n"
     ]
    },
    {
     "name": "stdout",
     "output_type": "stream",
     "text": [
      "* \n",
      "* * \n",
      "*   * \n",
      "*     * \n",
      "*       * \n",
      "*         * \n",
      "*           * \n",
      "*             * \n",
      "*               * \n",
      "* * * * * * * * * * \n"
     ]
    }
   ],
   "source": [
    "size = int(input(\"Enter size: \"))\n",
    "i = 0\n",
    "while i < size:\n",
    "    j = 0\n",
    "    while j < (i + 1):\n",
    "        if j == 0 or j == i or i == 0 or i == size-1:\n",
    "            print(\"*\", end = \" \")\n",
    "        else:\n",
    "            print(\" \", end = \" \")\n",
    "        j += 1\n",
    "    i += 1\n",
    "    print()"
   ]
  },
  {
   "cell_type": "markdown",
   "id": "a85e6322-2443-408f-b18b-89176680234d",
   "metadata": {},
   "source": [
    "### Pattern 6 :-"
   ]
  },
  {
   "cell_type": "code",
   "execution_count": 2,
   "id": "1e82e76f-8019-4431-a91a-9f2d3a1f44ae",
   "metadata": {},
   "outputs": [
    {
     "name": "stdin",
     "output_type": "stream",
     "text": [
      "Enter size:  10\n"
     ]
    },
    {
     "name": "stdout",
     "output_type": "stream",
     "text": [
      "**********\n",
      "         *\n",
      "**********\n",
      "         *\n",
      "**********\n",
      "         *\n",
      "**********\n",
      "         *\n",
      "**********\n",
      "         *\n"
     ]
    }
   ],
   "source": [
    "size = int(input(\"Enter size: \"))\n",
    "\n",
    "i = 0\n",
    "while i < size:\n",
    "    if i%2 == 0:\n",
    "        print(\"*\" * size)\n",
    "    else:\n",
    "        print(\" \" * (size-1) + \"*\") \n",
    "    i += 1"
   ]
  },
  {
   "cell_type": "code",
   "execution_count": null,
   "id": "7fced542-aee3-439b-af1a-797c36ab515f",
   "metadata": {},
   "outputs": [],
   "source": []
  }
 ],
 "metadata": {
  "kernelspec": {
   "display_name": "Python 3 (ipykernel)",
   "language": "python",
   "name": "python3"
  },
  "language_info": {
   "codemirror_mode": {
    "name": "ipython",
    "version": 3
   },
   "file_extension": ".py",
   "mimetype": "text/x-python",
   "name": "python",
   "nbconvert_exporter": "python",
   "pygments_lexer": "ipython3",
   "version": "3.12.1"
  }
 },
 "nbformat": 4,
 "nbformat_minor": 5
}
