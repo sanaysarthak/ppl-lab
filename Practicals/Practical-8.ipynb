{
 "cells": [
  {
   "cell_type": "markdown",
   "id": "4a938c6e-9181-4dae-8916-9cbc1cb31e62",
   "metadata": {},
   "source": [
    "## Practical 8 :-\n",
    "**Name:** Sarthak Sanay\\\n",
    "**Enrollment No:** 230031101611051"
   ]
  },
  {
   "cell_type": "markdown",
   "id": "787d8332-e319-4d11-9c8d-9ea4ba1d9c23",
   "metadata": {},
   "source": [
    "### Problem Statement 1:-\n",
    "You are building a word game. Write a function that checks whether two given strings are anagrams (contain the same letters, ignoring spaces and capitalization). \\\n",
    "**Test Case 1:-** \\\n",
    "*Input:* (\"listen\", \"silent\") \\\n",
    "*Output:* True \\\n",
    "**Test Case 2:-** \\\n",
    "*Input:* (\"hello\", \"world\") \\\n",
    "*Output:* False"
   ]
  },
  {
   "cell_type": "code",
   "execution_count": 2,
   "id": "db0df24f-f7db-44f9-9773-4a1a377bff07",
   "metadata": {},
   "outputs": [
    {
     "name": "stdin",
     "output_type": "stream",
     "text": [
      "Enter str1:  listen\n",
      "Enter str2:  silent\n"
     ]
    },
    {
     "name": "stdout",
     "output_type": "stream",
     "text": [
      "True\n"
     ]
    }
   ],
   "source": [
    "def is_anagram(s1, s2):\n",
    "    s1 = s1.lower()\n",
    "    s2 = s2.lower()\n",
    "    s1 = s1.replace(\" \", \"\")\n",
    "    s2 = s2.replace(\" \", \"\")\n",
    "    return sorted(s1) == sorted(s2)\n",
    "    \n",
    "s1 = input(\"Enter str1: \")\n",
    "s2 = input(\"Enter str2: \")\n",
    "\n",
    "print(is_anagram(s1, s2))"
   ]
  },
  {
   "cell_type": "markdown",
   "id": "df1fb187-26ed-4a04-9720-1af213d86c36",
   "metadata": {},
   "source": [
    "### Problem Statement 2:-\n",
    "You are working on a code formatter. Write a function that converts a given CamelCase string to snake_case (all lowercase with underscores). \\\n",
    "**Test Case :-** \\\n",
    "*Input:* (\"CamelCaseExample\") \\\n",
    "*Output:* \"camel_case_example\" "
   ]
  },
  {
   "cell_type": "code",
   "execution_count": 3,
   "id": "08fb0890-4b61-446e-a83f-bd75068109a8",
   "metadata": {},
   "outputs": [
    {
     "name": "stdin",
     "output_type": "stream",
     "text": [
      "Enter camel-case string:  CamelCaseExample\n"
     ]
    },
    {
     "name": "stdout",
     "output_type": "stream",
     "text": [
      "camel_case_example\n"
     ]
    }
   ],
   "source": [
    "def code_formatter(camel_str):\n",
    "    snake_str = camel_str[0].lower()\n",
    "    for char in camel_str[1: ]:\n",
    "        if char.isupper():\n",
    "            snake_str += '_' + char.lower()\n",
    "        else:\n",
    "            snake_str += char\n",
    "    return snake_str\n",
    "\n",
    "camel_str = input(\"Enter camel-case string: \")\n",
    "print(code_formatter(camel_str))"
   ]
  },
  {
   "cell_type": "code",
   "execution_count": null,
   "id": "01885944-ca76-474a-b1cf-0124e180d05f",
   "metadata": {},
   "outputs": [],
   "source": []
  }
 ],
 "metadata": {
  "kernelspec": {
   "display_name": "Python 3 (ipykernel)",
   "language": "python",
   "name": "python3"
  },
  "language_info": {
   "codemirror_mode": {
    "name": "ipython",
    "version": 3
   },
   "file_extension": ".py",
   "mimetype": "text/x-python",
   "name": "python",
   "nbconvert_exporter": "python",
   "pygments_lexer": "ipython3",
   "version": "3.12.1"
  }
 },
 "nbformat": 4,
 "nbformat_minor": 5
}
