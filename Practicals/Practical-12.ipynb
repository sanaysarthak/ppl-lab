{
 "cells": [
  {
   "cell_type": "markdown",
   "id": "3aaf0e62-578f-4841-a832-4d212d3ee1c3",
   "metadata": {},
   "source": [
    "## Practical 12 :-\n",
    "**Name:** Sarthak Sanay\\\n",
    "**Enrollment No:** 230031101611051"
   ]
  },
  {
   "cell_type": "markdown",
   "id": "88cbf598-e956-4277-ae8e-327896c0a6ec",
   "metadata": {},
   "source": [
    "### Problem Statement 1:-\n",
    "Given a string and a list of words representing a list, find the longest word in the dictionary that can be formed by deleting some characters of the given string. \n",
    "\n",
    "**Input:** \\\n",
    "s = \"abpcplea\" \\\n",
    "list = [\"ale\", \"apple\", \"monkey\", \"plea\"] \n",
    "\n",
    "**Output:** \\\n",
    "Longest word in list: apple"
   ]
  },
  {
   "cell_type": "code",
   "execution_count": 2,
   "id": "709f45f9-47db-48de-a976-6375ed6eff4a",
   "metadata": {},
   "outputs": [
    {
     "name": "stdin",
     "output_type": "stream",
     "text": [
      "Enter string:  abpcplea\n",
      "Enter size of list:  4\n"
     ]
    },
    {
     "name": "stdout",
     "output_type": "stream",
     "text": [
      "\n"
     ]
    },
    {
     "name": "stdin",
     "output_type": "stream",
     "text": [
      "Enter word 1:  ale\n",
      "Enter word 2:  apple\n",
      "Enter word 3:  monkey\n",
      "Enter word 4:  plea\n"
     ]
    },
    {
     "name": "stdout",
     "output_type": "stream",
     "text": [
      "\n",
      "Longest word in list: apple\n"
     ]
    }
   ],
   "source": [
    "s = input(\"Enter string: \")\n",
    "size = int(input(\"Enter size of list: \"))\n",
    "word_list = []\n",
    "print()\n",
    "for i in range(size):\n",
    "    w = input(f\"Enter word {i+1}: \")\n",
    "    word_list.append(w)\n",
    "\n",
    "longest = \"\"\n",
    "\n",
    "for word in word_list:\n",
    "    word = word.strip()  # remove extra spaces\n",
    "    i = 0  # pointer for word\n",
    "    j = 0  # pointer for s\n",
    "    while i < len(word) and j < len(s):\n",
    "        if word[i] == s[j]:\n",
    "            i += 1\n",
    "        j += 1\n",
    "    if i == len(word):  # word is subsequence of s\n",
    "        if len(word) > len(longest) or (len(word) == len(longest) and word < longest):\n",
    "            longest = word\n",
    "\n",
    "print(\"\\nLongest word in list:\", longest)"
   ]
  },
  {
   "cell_type": "code",
   "execution_count": null,
   "id": "8deda748-08b9-4738-acd6-0631f219f568",
   "metadata": {},
   "outputs": [],
   "source": []
  }
 ],
 "metadata": {
  "kernelspec": {
   "display_name": "Python 3 (ipykernel)",
   "language": "python",
   "name": "python3"
  },
  "language_info": {
   "codemirror_mode": {
    "name": "ipython",
    "version": 3
   },
   "file_extension": ".py",
   "mimetype": "text/x-python",
   "name": "python",
   "nbconvert_exporter": "python",
   "pygments_lexer": "ipython3",
   "version": "3.12.1"
  }
 },
 "nbformat": 4,
 "nbformat_minor": 5
}
