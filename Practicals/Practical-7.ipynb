{
 "cells": [
  {
   "cell_type": "markdown",
   "id": "524a6c6f-d3c2-46bf-aabb-57784db440b9",
   "metadata": {},
   "source": [
    "## Practical 7 :-\n",
    "**Name:** Sarthak Sanay\\\n",
    "**Enrollment No:** 230031101611051"
   ]
  },
  {
   "cell_type": "markdown",
   "id": "19d02f07-d891-4032-86ce-10123dc9874b",
   "metadata": {},
   "source": [
    "### Problem Statement 3 :-\n",
    "**Book Collection Sorter:** Write a function to sort books. It should take a list of book titles and sort them by the length of the title, with the shortest title first."
   ]
  },
  {
   "cell_type": "code",
   "execution_count": 6,
   "id": "53bba380-780f-4962-9998-940ac331c463",
   "metadata": {},
   "outputs": [
    {
     "name": "stdout",
     "output_type": "stream",
     "text": [
      "Books before sorting :-\n",
      "\n",
      "1. Software Engineering: a practitioners approach\n",
      "2. Python Programming: Using Problem Solving Approach\n",
      "3. Introduction to ALgorithms\n",
      "4. Algorithm Design\n",
      "5. The Design and Analysis of Computer Algorithms\n",
      "6. Introduction to modern cryptography\n",
      "7. Handbook of Applied Cryptography\n",
      "8. Python Programming - Learn & Practice\n",
      "\n",
      "\n",
      "Books after sorting them by length of their title :-\n",
      "\n",
      "1. Algorithm Design\n",
      "2. Introduction to ALgorithms\n",
      "3. Handbook of Applied Cryptography\n",
      "4. Introduction to modern cryptography\n",
      "5. Python Programming - Learn & Practice\n",
      "6. The Design and Analysis of Computer Algorithms\n",
      "7. Software Engineering: a practitioners approach\n",
      "8. Python Programming: Using Problem Solving Approach\n"
     ]
    }
   ],
   "source": [
    "def sort_booklist(booklist):\n",
    "    # Bubble sort implementation for manual sorting, based on title length\n",
    "    for i in range(len(booklist)):\n",
    "        for j in range(i+1, len(booklist)):\n",
    "            if len(booklist[i]) > len(booklist[j]):\n",
    "                booklist[i], booklist[j] = booklist[j], booklist[i] # Swap operation\n",
    "    return booklist\n",
    "\n",
    "# Runner code\n",
    "booklist = ['Software Engineering: a practitioners approach',\n",
    "           'Python Programming: Using Problem Solving Approach',\n",
    "           'Introduction to ALgorithms',\n",
    "           'Algorithm Design',\n",
    "           'The Design and Analysis of Computer Algorithms',\n",
    "           'Introduction to modern cryptography',\n",
    "           'Handbook of Applied Cryptography',\n",
    "           'Python Programming - Learn & Practice']\n",
    "\n",
    "i = 0\n",
    "print(\"Books before sorting :-\\n\")\n",
    "for book in booklist:\n",
    "    print(f\"{i+1}. {book}\")\n",
    "    i += 1\n",
    "    \n",
    "sorted_len_booklist = sort_booklist(booklist)\n",
    "\n",
    "i = 0\n",
    "print(\"\\n\\nBooks after sorting them by length of their title :-\\n\")\n",
    "for book in booklist:\n",
    "    print(f\"{i+1}. {book}\")\n",
    "    i += 1"
   ]
  },
  {
   "cell_type": "markdown",
   "id": "b6fc2759-db35-4921-9157-66ce4ee9f056",
   "metadata": {},
   "source": [
    "### Problem Statement 4 :-\n",
    "**Duplicate Finder:** Implement a function to find duplicates that take a list of numbers and returns a list of all numbers that appear more than once."
   ]
  },
  {
   "cell_type": "code",
   "execution_count": 18,
   "id": "a827a548-48f4-4c18-8cb4-23f7e2564041",
   "metadata": {},
   "outputs": [
    {
     "name": "stdout",
     "output_type": "stream",
     "text": [
      "Original List :-\n",
      "[1, 2, 3, 4, 5, 6, 3, 7, 8, 9, 10, 1, 5]\n",
      "\n",
      "Duplicates in the List are :-\n",
      "[1, 3, 5]\n"
     ]
    }
   ],
   "source": [
    "def duplicate_finder(num_list):\n",
    "    duplicates = []\n",
    "    for num in num_list:\n",
    "        if num not in duplicates:\n",
    "            count = 0\n",
    "            temp = num\n",
    "            for num in num_list:\n",
    "                if num == temp:\n",
    "                    count += 1\n",
    "            if count > 1:\n",
    "                duplicates.append(temp)\n",
    "    return duplicates\n",
    "\n",
    "# Runner code\n",
    "num_list = [1, 2, 3, 4, 5, 6, 3, 7, 8, 9, 10, 1, 5]\n",
    "print(f\"Original List :-\\n{num_list}\")\n",
    "\n",
    "duplicates = duplicate_finder(num_list)\n",
    "print(f\"\\nDuplicates in the List are :-\\n{duplicates}\")"
   ]
  },
  {
   "cell_type": "code",
   "execution_count": null,
   "id": "0b73bfe5-76c0-48e8-900c-6ee2f6dd06b1",
   "metadata": {},
   "outputs": [],
   "source": []
  }
 ],
 "metadata": {
  "kernelspec": {
   "display_name": "Python 3 (ipykernel)",
   "language": "python",
   "name": "python3"
  },
  "language_info": {
   "codemirror_mode": {
    "name": "ipython",
    "version": 3
   },
   "file_extension": ".py",
   "mimetype": "text/x-python",
   "name": "python",
   "nbconvert_exporter": "python",
   "pygments_lexer": "ipython3",
   "version": "3.12.1"
  }
 },
 "nbformat": 4,
 "nbformat_minor": 5
}
