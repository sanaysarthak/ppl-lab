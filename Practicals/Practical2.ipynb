{
 "cells": [
  {
   "cell_type": "markdown",
   "id": "46dc5066-4fd2-4d29-b5c5-babec9933f63",
   "metadata": {},
   "source": [
    "## Practical 2 :-\n",
    "**Name:** Sarthak Sanay\\\n",
    "**Enrollment No:** 230031101611051"
   ]
  },
  {
   "cell_type": "markdown",
   "id": "085da4a6-282f-49ad-8186-e537163958bb",
   "metadata": {},
   "source": [
    "### Problem Statement:\n",
    "You are working in a loan approval section of a bank; you need to create a Python script for \"printing loan approval or not\" from the following criteria. (AGE SHOULD BE GREATER THAN 18, SALARY SHOULD BE NO LESS THAN 4 LAKHS, AND CREDIT SCORE SHOULD BE NO LESS THAN 600)."
   ]
  },
  {
   "cell_type": "code",
   "execution_count": 20,
   "id": "cb799579-f7f1-4fce-9566-c651d6f9e5a6",
   "metadata": {},
   "outputs": [
    {
     "name": "stdout",
     "output_type": "stream",
     "text": [
      "Enter your name:  Sarthak\n",
      "Enter your age:  19\n",
      "Enter salary:  2200000\n",
      "Enter your credit score:  735\n",
      "Enter amount of loan you want to take:  350000\n"
     ]
    },
    {
     "name": "stdout",
     "output_type": "stream",
     "text": [
      "\n",
      "Dear Sarthak, your loan amount of Rs. 350000 has been approved!\n"
     ]
    }
   ],
   "source": [
    "# Taking user input\n",
    "name = str(input(\"Enter your name: \"))\n",
    "age = int(input(\"Enter your age: \"))\n",
    "salary = int(input(\"Enter salary: \"))\n",
    "credit_score = int(input(\"Enter your credit score: \"))\n",
    "loan_amount = int(input(\"Enter amount of loan you want to take: \"))\n",
    "\n",
    "# Logic to approve loan or not\n",
    "if (age>18 and salary>400000 and credit_score>600):\n",
    "    print(f\"\\nDear {name}, your loan amount of Rs. {loan_amount} has been approved!\")\n",
    "else:\n",
    "    print(f\"\\nDear {name}, your loan amount of Rs. {loan_amount} has NOT been approved!\")"
   ]
  }
 ],
 "metadata": {
  "kernelspec": {
   "display_name": "Python 3 (ipykernel)",
   "language": "python",
   "name": "python3"
  },
  "language_info": {
   "codemirror_mode": {
    "name": "ipython",
    "version": 3
   },
   "file_extension": ".py",
   "mimetype": "text/x-python",
   "name": "python",
   "nbconvert_exporter": "python",
   "pygments_lexer": "ipython3",
   "version": "3.12.8"
  }
 },
 "nbformat": 4,
 "nbformat_minor": 5
}
