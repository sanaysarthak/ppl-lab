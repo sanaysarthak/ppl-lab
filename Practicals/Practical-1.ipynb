{
 "cells": [
  {
   "cell_type": "markdown",
   "id": "5b6b3145-912c-4576-8316-5e802b6c76a6",
   "metadata": {},
   "source": [
    "## Practical 1 :-\n",
    "**Name:** Sarthak Sanay\\\n",
    "**Enrollment No:** 230031101611051"
   ]
  },
  {
   "cell_type": "markdown",
   "id": "6bcbaa7e-6946-44e2-977d-091bae983bd5",
   "metadata": {},
   "source": [
    "#### Problem Statement: Imagine you are developing a finance application that calculates compound interest for investments. Your task is to create a Python program that takes user input for the principal amount, interest rate, and period and then computes the compound interest using the provided numeric data types. Ensure the program handles various scenarios such as interest rates and periods accurately."
   ]
  },
  {
   "cell_type": "code",
   "execution_count": 1,
   "id": "595422d4-5957-4b01-abe9-5e38f0ad18ac",
   "metadata": {},
   "outputs": [
    {
     "name": "stdin",
     "output_type": "stream",
     "text": [
      "Enter the principal amount:  1000\n",
      "Enter the interest rate:  7.5\n",
      "Enter the time period in years:  5\n"
     ]
    },
    {
     "name": "stdout",
     "output_type": "stream",
     "text": [
      "Compound Interest = Rs. 435.63\n",
      "Final Amount = Rs. 1435.63\n"
     ]
    }
   ],
   "source": [
    "# taking user inputs\n",
    "principal = float(input(\"Enter the principal amount: \"))\n",
    "interest_rate = float(input(\"Enter the interest rate: \"))\n",
    "time_period = float(input(\"Enter the time period in years: \"))\n",
    "\n",
    "# calculating compound interest and final amount\n",
    "final_amount = principal * (1 + (interest_rate / 100)) ** time_period\n",
    "compound_interest = final_amount - principal\n",
    "\n",
    "print(\"Compound Interest = Rs. %.2f\" % compound_interest)\n",
    "print(\"Final Amount = Rs. %.2f\" % final_amount)"
   ]
  },
  {
   "cell_type": "markdown",
   "id": "c3405d7d-4430-4817-accf-c74808d8ec88",
   "metadata": {},
   "source": [
    "#### Problem Statement: You are tasked with building an email automation system for a marketing campaign. Your program must generate personalized email messages for customers based on their names and recent purchases. Develop a Python script that utilizes string operations to construct dynamic email templates by inserting customer names and product details into predefined message formats."
   ]
  },
  {
   "cell_type": "code",
   "execution_count": 2,
   "id": "c4ce1d97-bcec-4ac7-b0b3-839e82161d8e",
   "metadata": {},
   "outputs": [
    {
     "name": "stdin",
     "output_type": "stream",
     "text": [
      "Enter customer name:  Sarthak Sanay\n",
      "Enter product name:  Sony A7 Camera\n"
     ]
    },
    {
     "name": "stdout",
     "output_type": "stream",
     "text": [
      "\n",
      "To: sarthaksanay.51@gmail.com\n",
      "Dear Sarthak Sanay,\n",
      "\tThank you for your recent purchase of 'Sony A7 Camera' from our store! Your order is confirmed and will be shipped shortly within the next 3 days.\n",
      "We are up for any feedbacks or suggestions from your end! Please drop them at our support mail if needed. You can also shop for more items at our website during the Great Indian Festival Sale live right now which is offering huge discounts on tech products.\n",
      "\n",
      "Thank your for shopping with SanZone!\n",
      "Best regards,\n",
      "SanZone Pvt. Ltd.\n"
     ]
    }
   ],
   "source": [
    "customer_name = str(input(\"Enter customer name: \"))\n",
    "product_name = str(input(\"Enter product name: \"))\n",
    "\n",
    "customer_email = customer_name.replace(\" \", \"\").lower() + \".51\" + \"@gmail.com\"\n",
    "\n",
    "# printing the personalized email message\n",
    "print(\"\\nTo:\", customer_email)\n",
    "print(\"Dear \" + customer_name + \",\")\n",
    "print(\"\\tThank you for your recent purchase of \\'\" + product_name + \"\\' from our store! Your order is confirmed and will be shipped shortly within the next 3 days.\")\n",
    "print(\"We are up for any feedbacks or suggestions from your end! Please drop them at our support mail if needed. You can also shop for more items at our website during the Great Indian Festival Sale live right now which is offering huge discounts on tech products.\")\n",
    "print(\"\\nThank your for shopping with SanZone!\")\n",
    "print(\"Best regards,\")\n",
    "print(\"SanZone Pvt. Ltd.\")"
   ]
  },
  {
   "cell_type": "markdown",
   "id": "d6a941d8-a1d6-4fac-b1b5-f1579489345d",
   "metadata": {},
   "source": [
    "#### Problem Statement: You are a cashier at a grocery store. Customers come to your counter with different items. Each item has a specific price (float). You must add up all the prices (float) to get the total bill (float). Write a Python program to calculate the total bill."
   ]
  },
  {
   "cell_type": "code",
   "execution_count": 3,
   "id": "e51e76c4-3605-4fc4-ab8c-d7abcf2f43c4",
   "metadata": {},
   "outputs": [
    {
     "name": "stdin",
     "output_type": "stream",
     "text": [
      "Enter customer's name:  Sarthak Sanay\n"
     ]
    },
    {
     "name": "stdout",
     "output_type": "stream",
     "text": [
      "\n",
      "   RRU GROCERY STORE BILL :-\n",
      "\n",
      "Customer Name:  Sarthak Sanay\n",
      "------------------------------\n",
      "Item\t\tPrice\n",
      "Apples 1kg\tRs. 159.50\n",
      "Milk 1ltr\tRs. 66.45\n",
      "Brown Bread\tRs. 75.55\n",
      "Wheat Flour\tRs. 247.60\n",
      "Carrots 1kg\tRs. 65.50\n",
      "------------------------------\n",
      "Total Bill = Rs. 614.60\n",
      "------------------------------\n"
     ]
    }
   ],
   "source": [
    "customer_name = str(input(\"Enter customer's name: \"))\n",
    "\n",
    "print(\"\\n   RRU GROCERY STORE BILL :-\\n\")\n",
    "print(\"Customer Name: \", customer_name)\n",
    "print(\"-\" * 30)\n",
    "print(\"Item\\t\\tPrice\")\n",
    "print(\"Apples 1kg\\tRs. 159.50\")\n",
    "print(\"Milk 1ltr\\tRs. 66.45\")\n",
    "print(\"Brown Bread\\tRs. 75.55\")\n",
    "print(\"Wheat Flour\\tRs. 247.60\")\n",
    "print(\"Carrots 1kg\\tRs. 65.50\")\n",
    "\n",
    "total_bill = float((159.50 + 66.45 + 75.55 + 247.60 + 65.50))\n",
    "\n",
    "print(\"-\" * 30)\n",
    "print(\"Total Bill = Rs. %.2f\" % total_bill)\n",
    "print(\"-\" * 30)"
   ]
  }
 ],
 "metadata": {
  "kernelspec": {
   "display_name": "Python 3 (ipykernel)",
   "language": "python",
   "name": "python3"
  },
  "language_info": {
   "codemirror_mode": {
    "name": "ipython",
    "version": 3
   },
   "file_extension": ".py",
   "mimetype": "text/x-python",
   "name": "python",
   "nbconvert_exporter": "python",
   "pygments_lexer": "ipython3",
   "version": "3.12.8"
  }
 },
 "nbformat": 4,
 "nbformat_minor": 5
}
