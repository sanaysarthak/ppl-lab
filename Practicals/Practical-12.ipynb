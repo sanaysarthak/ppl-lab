{
 "cells": [
  {
   "cell_type": "markdown",
   "id": "3aaf0e62-578f-4841-a832-4d212d3ee1c3",
   "metadata": {},
   "source": [
    "## Practical 12 :-\n",
    "**Name:** Sarthak Sanay\\\n",
    "**Enrollment No:** 230031101611051"
   ]
  },
  {
   "cell_type": "markdown",
   "id": "88cbf598-e956-4277-ae8e-327896c0a6ec",
   "metadata": {},
   "source": [
    "### Problem Statement 1:-\n",
    "Given a string and a list of words representing a list, find the longest word in the dictionary that can be formed by deleting some characters of the given string. \n",
    "\n",
    "**Input:** \\\n",
    "s = \"abpcplea\" \\\n",
    "list = [\"ale\", \"apple\", \"monkey\", \"plea\"] \n",
    "\n",
    "**Output:** \\\n",
    "Longest word in list: apple"
   ]
  },
  {
   "cell_type": "code",
   "execution_count": 2,
   "id": "709f45f9-47db-48de-a976-6375ed6eff4a",
   "metadata": {},
   "outputs": [
    {
     "name": "stdin",
     "output_type": "stream",
     "text": [
      "Enter string:  abpcplea\n",
      "Enter size of list:  4\n"
     ]
    },
    {
     "name": "stdout",
     "output_type": "stream",
     "text": [
      "\n"
     ]
    },
    {
     "name": "stdin",
     "output_type": "stream",
     "text": [
      "Enter word 1:  ale\n",
      "Enter word 2:  apple\n",
      "Enter word 3:  monkey\n",
      "Enter word 4:  plea\n"
     ]
    },
    {
     "name": "stdout",
     "output_type": "stream",
     "text": [
      "\n",
      "Longest word in list: apple\n"
     ]
    }
   ],
   "source": [
    "s = input(\"Enter string: \")\n",
    "size = int(input(\"Enter size of list: \"))\n",
    "word_list = []\n",
    "print()\n",
    "for i in range(size):\n",
    "    w = input(f\"Enter word {i+1}: \")\n",
    "    word_list.append(w)\n",
    "\n",
    "longest = \"\"\n",
    "\n",
    "for word in word_list:\n",
    "    word = word.strip()  # remove extra spaces\n",
    "    i = 0  # pointer for word\n",
    "    j = 0  # pointer for s\n",
    "    while i < len(word) and j < len(s):\n",
    "        if word[i] == s[j]:\n",
    "            i += 1\n",
    "        j += 1\n",
    "    if i == len(word):  # word is subsequence of s\n",
    "        if len(word) > len(longest) or (len(word) == len(longest) and word < longest):\n",
    "            longest = word\n",
    "\n",
    "print(\"\\nLongest word in list:\", longest)"
   ]
  },
  {
   "cell_type": "markdown",
   "id": "03e7fe8c-013a-4cff-a35d-f9a7225f6275",
   "metadata": {},
   "source": [
    "### Problem Statement 2:-\n",
    "You're tasked with writing a function to determine whether a given sentence is a palindrome, considering only alphanumeric characters and ignoring case sensitivity and other things.\n",
    "\n",
    "**Input:** \\\n",
    "sentence1 = \"A man, a plan, a canal, Panama!\" \\\n",
    "sentence2 = \"race a car\" \n",
    "\n",
    "**Output:** \\\n",
    "Is 'A man, a plan, a canal, Panama!' a palindrome? True \\\n",
    "Is 'race a car' a palindrome? False"
   ]
  },
  {
   "cell_type": "code",
   "execution_count": 1,
   "id": "4f853c94-9747-477f-aa26-830da3ed8344",
   "metadata": {},
   "outputs": [
    {
     "name": "stdin",
     "output_type": "stream",
     "text": [
      "Enter sentence:  A man, a plan, a canal, Panama!\n"
     ]
    },
    {
     "name": "stdout",
     "output_type": "stream",
     "text": [
      "Is 'A man, a plan, a canal, Panama!' a palindrome? True\n"
     ]
    }
   ],
   "source": [
    "def check_palindrome(s):\n",
    "    sentence = \"\"\n",
    "    for char in s:\n",
    "        if char.isalnum():\n",
    "            sentence += char.lower()\n",
    "\n",
    "    return sentence == sentence[::-1]\n",
    "\n",
    "s = input(\"Enter sentence: \")\n",
    "print(f\"Is '{s}' a palindrome? {check_palindrome(s)}\")"
   ]
  },
  {
   "cell_type": "code",
   "execution_count": null,
   "id": "3614f697-87fb-44d8-8a5d-c3ee0f1da185",
   "metadata": {},
   "outputs": [],
   "source": []
  }
 ],
 "metadata": {
  "kernelspec": {
   "display_name": "Python 3 (ipykernel)",
   "language": "python",
   "name": "python3"
  },
  "language_info": {
   "codemirror_mode": {
    "name": "ipython",
    "version": 3
   },
   "file_extension": ".py",
   "mimetype": "text/x-python",
   "name": "python",
   "nbconvert_exporter": "python",
   "pygments_lexer": "ipython3",
   "version": "3.12.1"
  }
 },
 "nbformat": 4,
 "nbformat_minor": 5
}
