{
 "cells": [
  {
   "cell_type": "markdown",
   "metadata": {},
   "source": [
    "## Assignment 1\n",
    "**Name**: Sarthak Sanay\\\n",
    "**Enrollment No:** 230031101611051"
   ]
  },
  {
   "cell_type": "markdown",
   "metadata": {},
   "source": [
    "#### Question 1:\n",
    "You are a librarian and you have a list of books in your library. Each book is represented as a string. Your task is to write a Python program to find out how many books in the library have a title longer than 25 characters."
   ]
  },
  {
   "cell_type": "code",
   "execution_count": 1,
   "metadata": {},
   "outputs": [
    {
     "name": "stdin",
     "output_type": "stream",
     "text": [
      "Enter no. of books:  5\n",
      "Enter name of book 1:  Introduction to Algorithms\n",
      "Enter name of book 2:  Software Engineering\n",
      "Enter name of book 3:  Unix shell programming\n",
      "Enter name of book 4:  Software Engineering: a practitioner's approach\n",
      "Enter name of book 5:  Python Programming: A Complete Guide for Beginners to Master\n"
     ]
    },
    {
     "name": "stdout",
     "output_type": "stream",
     "text": [
      "\n",
      "Count of books having length>25 are: 3\n"
     ]
    }
   ],
   "source": [
    "# Taking books as input and appending them to list\n",
    "n = int(input(\"Enter no. of books: \"))\n",
    "books = []\n",
    "for i in range(0, n):\n",
    "    book_name = str(input(f\"Enter name of book {i+1}: \"))\n",
    "    books.append(book_name)\n",
    "\n",
    "# Incrementing count by 1 upon finding length of book > 25 characters\n",
    "count = 0\n",
    "for book in books:\n",
    "    if (len(book) > 25):\n",
    "        count += 1\n",
    "\n",
    "print(\"\\nCount of books having length>25 are:\", count)"
   ]
  },
  {
   "cell_type": "code",
   "execution_count": null,
   "metadata": {},
   "outputs": [],
   "source": []
  }
 ],
 "metadata": {
  "kernelspec": {
   "display_name": "Python 3 (ipykernel)",
   "language": "python",
   "name": "python3"
  },
  "language_info": {
   "codemirror_mode": {
    "name": "ipython",
    "version": 3
   },
   "file_extension": ".py",
   "mimetype": "text/x-python",
   "name": "python",
   "nbconvert_exporter": "python",
   "pygments_lexer": "ipython3",
   "version": "3.12.1"
  }
 },
 "nbformat": 4,
 "nbformat_minor": 4
}
