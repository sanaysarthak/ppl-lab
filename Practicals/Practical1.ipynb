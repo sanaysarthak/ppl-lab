{
 "cells": [
  {
   "cell_type": "markdown",
   "id": "5b6b3145-912c-4576-8316-5e802b6c76a6",
   "metadata": {},
   "source": [
    "## Practical 1 :-\n",
    "**Name:** Sarthak Sanay\\\n",
    "**Enrollment No:** 230031101611051"
   ]
  },
  {
   "cell_type": "markdown",
   "id": "6bcbaa7e-6946-44e2-977d-091bae983bd5",
   "metadata": {},
   "source": [
    "#### Problem Statement: Imagine you are developing a finance application that calculates compound interest for investments. Your task is to create a Python program that takes user input for the principal amount, interest rate, and period and then computes the compound interest using the provided numeric data types. Ensure the program handles various scenarios such as interest rates and periods accurately."
   ]
  },
  {
   "cell_type": "code",
   "execution_count": 1,
   "id": "595422d4-5957-4b01-abe9-5e38f0ad18ac",
   "metadata": {},
   "outputs": [
    {
     "name": "stdout",
     "output_type": "stream",
     "text": [
      "Enter the principal amount:  1000\n",
      "Enter the interest rate:  7.5\n",
      "Enter the time period in years:  5\n"
     ]
    },
    {
     "name": "stdout",
     "output_type": "stream",
     "text": [
      "Compound Interest = Rs. 435.63\n",
      "Final Amount = Rs. 1435.63\n"
     ]
    }
   ],
   "source": [
    "# taking user inputs\n",
    "principal = float(input(\"Enter the principal amount: \"))\n",
    "interest_rate = float(input(\"Enter the interest rate: \"))\n",
    "time_period = float(input(\"Enter the time period in years: \"))\n",
    "\n",
    "# calculating compound interest and final amount\n",
    "final_amount = principal * (1 + (interest_rate / 100)) ** time_period\n",
    "compound_interest = final_amount - principal\n",
    "\n",
    "print(\"Compound Interest = Rs. %.2f\" % compound_interest)\n",
    "print(\"Final Amount = Rs. %.2f\" % final_amount)"
   ]
  }
 ],
 "metadata": {
  "kernelspec": {
   "display_name": "Python 3 (ipykernel)",
   "language": "python",
   "name": "python3"
  },
  "language_info": {
   "codemirror_mode": {
    "name": "ipython",
    "version": 3
   },
   "file_extension": ".py",
   "mimetype": "text/x-python",
   "name": "python",
   "nbconvert_exporter": "python",
   "pygments_lexer": "ipython3",
   "version": "3.12.8"
  }
 },
 "nbformat": 4,
 "nbformat_minor": 5
}
