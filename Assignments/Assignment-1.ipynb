{
 "cells": [
  {
   "cell_type": "markdown",
   "metadata": {},
   "source": [
    "## Assignment 1\n",
    "**Name**: Sarthak Sanay\\\n",
    "**Enrollment No:** 230031101611051"
   ]
  },
  {
   "cell_type": "markdown",
   "metadata": {},
   "source": [
    "#### Question 1:\n",
    "You are a librarian and you have a list of books in your library. Each book is represented as a string. Your task is to write a Python program to find out how many books in the library have a title longer than 25 characters."
   ]
  },
  {
   "cell_type": "code",
   "execution_count": 1,
   "metadata": {},
   "outputs": [
    {
     "name": "stdin",
     "output_type": "stream",
     "text": [
      "Enter no. of books:  5\n",
      "Enter name of book 1:  Introduction to Algorithms\n",
      "Enter name of book 2:  Software Engineering\n",
      "Enter name of book 3:  Unix shell programming\n",
      "Enter name of book 4:  Software Engineering: a practitioner's approach\n",
      "Enter name of book 5:  Python Programming: A Complete Guide for Beginners to Master\n"
     ]
    },
    {
     "name": "stdout",
     "output_type": "stream",
     "text": [
      "\n",
      "Count of books having length>25 are: 3\n"
     ]
    }
   ],
   "source": [
    "# Taking books as input and appending them to list\n",
    "n = int(input(\"Enter no. of books: \"))\n",
    "books = []\n",
    "for i in range(0, n):\n",
    "    book_name = str(input(f\"Enter name of book {i+1}: \"))\n",
    "    books.append(book_name)\n",
    "\n",
    "# Incrementing count by 1 upon finding length of book > 25 characters\n",
    "count = 0\n",
    "for book in books:\n",
    "    if (len(book) > 25):\n",
    "        count += 1\n",
    "\n",
    "print(\"\\nCount of books having length>25 are:\", count)"
   ]
  },
  {
   "cell_type": "markdown",
   "metadata": {},
   "source": [
    "#### Question 2:\n",
    "You are a sports coach and you have the heights of your players in centimeters. The heights are stored in a list. Your task is to write a Python program to calculate the average height and find out how many players are taller than the average."
   ]
  },
  {
   "cell_type": "code",
   "execution_count": 2,
   "metadata": {},
   "outputs": [
    {
     "name": "stdout",
     "output_type": "stream",
     "text": [
      "Average height is: 160.64\n",
      "No. of players having height greater than the average height: 4\n"
     ]
    }
   ],
   "source": [
    "heights = [165.7, 155, 143.6, 177.8, 135, 167, 180.4]\n",
    "\n",
    "# Finding the total height\n",
    "total = 0\n",
    "for height in heights:\n",
    "    total += height\n",
    "\n",
    "# Finding the average height\n",
    "avg_height = total / len(heights)\n",
    "\n",
    "# Counting the number of students having height > average height\n",
    "count = 0\n",
    "for height in heights:\n",
    "    if (height > avg_height):\n",
    "        count += 1\n",
    "\n",
    "print(f\"Average height is: {avg_height:.2f}\")\n",
    "print(\"No. of players having height greater than the average height:\", count)"
   ]
  },
  {
   "cell_type": "markdown",
   "metadata": {},
   "source": [
    "#### Question 3:\n",
    "You are a teacher and you have the scores of your students on a test. The scores are stored in a list. Your task is to write a Python program to find the median score. If the number of scores is even, the median is the average of the two middle scores."
   ]
  },
  {
   "cell_type": "code",
   "execution_count": 1,
   "metadata": {},
   "outputs": [
    {
     "name": "stdout",
     "output_type": "stream",
     "text": [
      "Median marks is: 81.0\n"
     ]
    }
   ],
   "source": [
    "# List of marks of students\n",
    "marks = [83, 94, 62, 69, 74, 99, 97, 89, 91, 65, 90, 58, 88, 79, 56, 88, 78, 71]\n",
    "marks.sort() # because to find median, we need a sorted list\n",
    "\n",
    "# Finding the median\n",
    "count = len(marks)\n",
    "\n",
    "# Case when count of marks are odd\n",
    "if (count % 2 != 0):\n",
    "    median = marks[(count//2)]\n",
    "# Case when count of marks are even\n",
    "else:\n",
    "    median = (marks[(count//2)-1] + marks[(count//2)]) / 2\n",
    "\n",
    "# Displaying the output\n",
    "print(\"Median marks is:\", median)"
   ]
  }
 ],
 "metadata": {
  "kernelspec": {
   "display_name": "Python 3 (ipykernel)",
   "language": "python",
   "name": "python3"
  },
  "language_info": {
   "codemirror_mode": {
    "name": "ipython",
    "version": 3
   },
   "file_extension": ".py",
   "mimetype": "text/x-python",
   "name": "python",
   "nbconvert_exporter": "python",
   "pygments_lexer": "ipython3",
   "version": "3.12.1"
  }
 },
 "nbformat": 4,
 "nbformat_minor": 4
}
