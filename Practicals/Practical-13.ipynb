{
 "cells": [
  {
   "cell_type": "markdown",
   "id": "d912aa10-f469-4f16-bb1c-8f3f18202d3c",
   "metadata": {},
   "source": [
    "## Practical 13 :-\n",
    "**Name:** Sarthak Sanay\\\n",
    "**Enrollment No:** 230031101611051"
   ]
  },
  {
   "cell_type": "markdown",
   "id": "48280fb2-26c4-4d03-bb44-d34d499820cc",
   "metadata": {},
   "source": [
    "##### Suppose we have a text file named config.txt attached. "
   ]
  },
  {
   "cell_type": "markdown",
   "id": "8c80f0f5-e225-4ae7-a7e8-46ec6902937f",
   "metadata": {},
   "source": [
    "### Problem Statement 1:-\n",
    "Write a Python code to convert a dictionary containing configuration data that we want to write to a text file. \n",
    "\n",
    "**Example usage:** \\\n",
    "new_config = { \\\n",
    "\"username\": \"new_user\", \\\n",
    "\"password\": \"new_password\", \\\n",
    "\"database\": \"new_db\", \\\n",
    "\"host\": \"localhost\", \\\n",
    "\"port\": \"5432\"}"
   ]
  },
  {
   "cell_type": "markdown",
   "id": "abf9cc42-d434-4016-a782-d65b613982d2",
   "metadata": {},
   "source": [
    "```config.txt``` \\\n",
    "username=old_user \\\n",
    "password=old_pass \\\n",
    "database=old_db \\\n",
    "host=localhost \\\n",
    "port=8080 \n"
   ]
  },
  {
   "cell_type": "code",
   "execution_count": 4,
   "id": "f634cf9d-2d81-44b5-8e84-c4b4ca0c702b",
   "metadata": {},
   "outputs": [
    {
     "name": "stdout",
     "output_type": "stream",
     "text": [
      "Config dictionary from file: {'username': 'new_user', 'password': 'new_password', 'database': 'new_db', 'host': 'localhost', 'port': '5432'}\n",
      "New Config dictionary written to config.txt\n"
     ]
    }
   ],
   "source": [
    "# read config.txt and convert it into a dictionary\n",
    "config_dict = {}\n",
    "\n",
    "with open(\"config.txt\", \"r\") as file:\n",
    "    for line in file:\n",
    "        if \"=\" in line:\n",
    "            key, value = line.strip().split(\"=\", 1)\n",
    "            config_dict[key] = value\n",
    "\n",
    "print(\"Config dictionary from file:\", config_dict)\n",
    "\n",
    "# write a dictionary to a file in key:value format\n",
    "new_config = {\n",
    "    \"username\": \"new_user\",\n",
    "    \"password\": \"new_password\",\n",
    "    \"database\": \"new_db\",\n",
    "    \"host\": \"localhost\",\n",
    "    \"port\": \"5432\"\n",
    "}\n",
    "\n",
    "with open(\"config.txt\", \"w\") as file:\n",
    "    for key, value in new_config.items():\n",
    "        file.write(f\"{key}={value}\\n\")\n",
    "\n",
    "print(\"New Config dictionary written to config.txt\")\n"
   ]
  },
  {
   "cell_type": "markdown",
   "id": "b68c5886-29ce-464d-8c47-a6c0c8bee032",
   "metadata": {},
   "source": [
    "### Problem Statement 2:-\n",
    "Write a Python code to update a specific configuration parameter in an existing text file. You can achieve this by reading the existing configuration, updating the desired parameter, and then writing the updated configuration back to the file. \n",
    "\n",
    "**Example usage:** \\\n",
    "update_config_parameter('config.txt', 'password', 'new_password123')"
   ]
  },
  {
   "cell_type": "code",
   "execution_count": 1,
   "id": "bde9b8dc-a052-49f3-8158-3307afbaf74c",
   "metadata": {},
   "outputs": [
    {
     "name": "stdin",
     "output_type": "stream",
     "text": [
      "Enter filename:  config.txt\n",
      "Enter parameter:  password\n",
      "Enter value to update:  new_password123\n"
     ]
    },
    {
     "name": "stdout",
     "output_type": "stream",
     "text": [
      "Updated 'password' to 'new_password123' in config.txt\n"
     ]
    }
   ],
   "source": [
    "def update_config_parameter(filename, key_to_update, new_value):\n",
    "    config = {}\n",
    "\n",
    "    with open(filename, \"r\") as file:\n",
    "        for line in file:\n",
    "            if \"=\" in line:\n",
    "                key, value = line.strip().split(\"=\", 1)\n",
    "                config[key] = value\n",
    "\n",
    "    # update the desired parameter\n",
    "    if key_to_update in config:\n",
    "        config[key_to_update] = new_value\n",
    "    else:\n",
    "        print(f\"Key '{key_to_update}' not found. Adding it.\")\n",
    "        config[key_to_update] = new_value\n",
    "\n",
    "    # write updated parameter\n",
    "    with open(filename, \"w\") as file:\n",
    "        for key, value in config.items():\n",
    "            file.write(f\"{key}={value}\\n\")\n",
    "\n",
    "    print(f\"Updated '{key_to_update}' to '{new_value}' in {filename}\")\n",
    "\n",
    "\n",
    "filename = input(\"Enter filename: \")\n",
    "parameter = input(\"Enter parameter: \")\n",
    "value = input(\"Enter value to update: \")\n",
    "\n",
    "update_config_parameter(filename, parameter, value)"
   ]
  },
  {
   "cell_type": "markdown",
   "id": "45b4ed7d-130d-470c-9caf-d13e5808a2b5",
   "metadata": {},
   "source": [
    "### Problem Statement 3:-\n",
    "Suppose you have multiple configuration files.\n",
    "Write a Python code to merge them into a single configuration. You can achieve this by reading all the files, merging their configurations, and then writing the merged configuration to a new file."
   ]
  },
  {
   "cell_type": "code",
   "execution_count": 2,
   "id": "bc5bb1f2-d87f-453d-82a7-58ba8b435e71",
   "metadata": {},
   "outputs": [
    {
     "name": "stdout",
     "output_type": "stream",
     "text": [
      "Merged configuration written to merged_config.txt\n"
     ]
    }
   ],
   "source": [
    "import os\n",
    "\n",
    "config_dir = \"configs\"\n",
    "merged_config = {}\n",
    "\n",
    "for filename in os.listdir(config_dir):\n",
    "    if filename.endswith(\".txt\"):\n",
    "        filepath = os.path.join(config_dir, filename)\n",
    "        with open(filepath, \"r\") as file:\n",
    "            for line in file:\n",
    "                if \"=\" in line:\n",
    "                    key, value = line.strip().split(\"=\", 1)\n",
    "                    merged_config[key] = value  # Later files will override earlier ones\n",
    "\n",
    "with open(\"merged_config.txt\", \"w\") as file:\n",
    "    for key, value in merged_config.items():\n",
    "        file.write(f\"{key}={value}\\n\")\n",
    "\n",
    "print(\"Merged configuration written to merged_config.txt\")\n"
   ]
  },
  {
   "cell_type": "markdown",
   "id": "d1ed3dc7-f242-4a28-8d1c-8e6c65fe75f9",
   "metadata": {},
   "source": [
    "### Problem Statement 4:-\n",
    "Write a Python code to delete a specific configuration parameter from a text file. You can achieve this by reading the existing configuration, removing the desired parameter, and then writing the updated configuration back to the file. \n",
    "\n",
    "**Example usage:** \\\n",
    "delete_config_parameter('config.txt', 'port')"
   ]
  },
  {
   "cell_type": "code",
   "execution_count": 3,
   "id": "c626e368-7af7-4c34-9d4e-cd523bcb1b71",
   "metadata": {},
   "outputs": [
    {
     "name": "stdin",
     "output_type": "stream",
     "text": [
      "Enter filename:  config.txt\n",
      "Enter parameter to delete:  port\n"
     ]
    },
    {
     "name": "stdout",
     "output_type": "stream",
     "text": [
      "Deleted 'port' from config.txt\n"
     ]
    }
   ],
   "source": [
    "def delete_config_parameter(filename, key_to_delete):\n",
    "    config = {}\n",
    "\n",
    "    with open(filename, \"r\") as file:\n",
    "        for line in file:\n",
    "            if \"=\" in line:\n",
    "                key, value = line.strip().split(\"=\", 1)\n",
    "                config[key] = value\n",
    "\n",
    "    if key_to_delete in config:\n",
    "        del config[key_to_delete]\n",
    "        print(f\"Deleted '{key_to_delete}' from {filename}\")\n",
    "    else:\n",
    "        print(f\"Key '{key_to_delete}' not found in {filename}\")\n",
    "\n",
    "    with open(filename, \"w\") as file:\n",
    "        for key, value in config.items():\n",
    "            file.write(f\"{key}={value}\\n\")\n",
    "\n",
    "\n",
    "filename = input(\"Enter filename: \")\n",
    "parameter = input(\"Enter parameter to delete: \")\n",
    "\n",
    "delete_config_parameter(filename, parameter)\n"
   ]
  },
  {
   "cell_type": "code",
   "execution_count": null,
   "id": "d00bb3a1-32a9-4871-bdc2-7cd7d617d37b",
   "metadata": {},
   "outputs": [],
   "source": []
  }
 ],
 "metadata": {
  "kernelspec": {
   "display_name": "Python 3 (ipykernel)",
   "language": "python",
   "name": "python3"
  },
  "language_info": {
   "codemirror_mode": {
    "name": "ipython",
    "version": 3
   },
   "file_extension": ".py",
   "mimetype": "text/x-python",
   "name": "python",
   "nbconvert_exporter": "python",
   "pygments_lexer": "ipython3",
   "version": "3.12.1"
  }
 },
 "nbformat": 4,
 "nbformat_minor": 5
}
