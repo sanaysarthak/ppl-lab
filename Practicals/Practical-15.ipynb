{
 "cells": [
  {
   "cell_type": "markdown",
   "id": "de8005b1-ee9c-41b7-8e56-87c3d56979cc",
   "metadata": {},
   "source": [
    "## Practical 15 :-\n",
    "**Name:** Sarthak Sanay\\\n",
    "**Enrollment No:** 230031101611051"
   ]
  },
  {
   "cell_type": "markdown",
   "id": "36d9d330-6589-4b8b-854b-351059e6f1fa",
   "metadata": {},
   "source": [
    "### Problem Statement 1:-\n",
    "Create a base class Shape with methods to calculate area and perimeter. Then create subclasses Rectangle and Circle that inherit from Shape and implement their specific area and perimeter calculation methods."
   ]
  },
  {
   "cell_type": "code",
   "execution_count": 1,
   "id": "81461a66-727f-4715-9d23-d648b60d9c08",
   "metadata": {},
   "outputs": [
    {
     "name": "stdout",
     "output_type": "stream",
     "text": [
      "Choose shape:-\n",
      "Enter 1 for Rectangle, or 2 for Circle.\n"
     ]
    },
    {
     "name": "stdin",
     "output_type": "stream",
     "text": [
      "Enter choice:  1\n",
      "Enter width:  15\n",
      "Enter height:  14\n"
     ]
    },
    {
     "name": "stdout",
     "output_type": "stream",
     "text": [
      "Rectangle Area: 210.0\n",
      "Rectangle Perimeter: 58.0\n"
     ]
    }
   ],
   "source": [
    "import math\n",
    "\n",
    "# Base class\n",
    "class Shape:\n",
    "    def area(self):\n",
    "        return 0\n",
    "\n",
    "    def perimeter(self):\n",
    "        return 0\n",
    "\n",
    "# Rectangle subclass\n",
    "class Rectangle(Shape):\n",
    "    def __init__(self, width, height):\n",
    "        self.width = width\n",
    "        self.height = height\n",
    "\n",
    "    def area(self):\n",
    "        return self.width * self.height\n",
    "\n",
    "    def perimeter(self):\n",
    "        return 2 * (self.width + self.height)\n",
    "\n",
    "# Circle subclass\n",
    "class Circle(Shape):\n",
    "    def __init__(self, radius):\n",
    "        self.radius = radius\n",
    "\n",
    "    def area(self):\n",
    "        return math.pi * self.radius * self.radius\n",
    "\n",
    "    def perimter(self):\n",
    "        return 2 * math.pi * self.radius\n",
    "\n",
    "print(\"Choose shape:-\")\n",
    "print(\"Enter 1 for Rectangle, or 2 for Circle.\")\n",
    "choice = int(input(\"Enter choice: \"))\n",
    "\n",
    "if choice == 1:\n",
    "    w = float(input(\"Enter width: \"))\n",
    "    h = float(input(\"Enter height: \"))\n",
    "    rect = Rectangle(w, h)\n",
    "    print(f\"Rectangle Area: {rect.area()}\")\n",
    "    print(f\"Rectangle Perimeter: {rect.perimeter()}\")\n",
    "\n",
    "elif choice == '2':\n",
    "    r = float(input(\"Enter radius: \"))\n",
    "    circ = Circle(r)\n",
    "    print(f\"Circle Area: {circ.area():.2f}\")\n",
    "    print(f\"Circle Perimeter: {circ.perimeter():.2f}\")\n",
    "\n",
    "else:\n",
    "    print(\"Invalid choice.\")"
   ]
  },
  {
   "cell_type": "markdown",
   "id": "dd62b3ae-04f5-41c4-a15e-5c73d7e1c63a",
   "metadata": {},
   "source": [
    "### Problem Statement 2:-\n",
    "Create a base class Vehicle with attributes like make, model, and year, and a method to display vehicle information. Then create subclasses of Car and Motorcycle that are inherited from the Vehicle and add their specific attributes like seating capacity or type of engine."
   ]
  },
  {
   "cell_type": "code",
   "execution_count": 1,
   "id": "d66b24f4-49a2-496e-bcf5-c71463dce1ff",
   "metadata": {},
   "outputs": [
    {
     "name": "stdout",
     "output_type": "stream",
     "text": [
      "Choose Vehicle Type:-\n",
      "Enter 1 for Car, or 2 for Motorcycle.\n"
     ]
    },
    {
     "name": "stdin",
     "output_type": "stream",
     "text": [
      "Enter choice:  1\n",
      "Enter make:  Tata\n",
      "Enter model:  Safari XZ Plus\n",
      "Enter year:  2024\n",
      "Enter seating capacity:  7\n"
     ]
    },
    {
     "name": "stdout",
     "output_type": "stream",
     "text": [
      "\n",
      "Car Details:\n",
      "Make: Tata\n",
      "Model: Safari XZ Plus\n",
      "Year: 2024\n",
      "Seating Capacity: 7\n"
     ]
    }
   ],
   "source": [
    "# Base class\n",
    "class Vehicle:\n",
    "    def __init__(self, make, model, year):\n",
    "        self.make = make\n",
    "        self.model = model\n",
    "        self.year = year\n",
    "\n",
    "    def display_info(self):\n",
    "        print(f\"Make: {self.make}\")\n",
    "        print(f\"Model: {self.model}\")\n",
    "        print(f\"Year: {self.year}\")\n",
    "\n",
    "# Car subclass\n",
    "class Car(Vehicle):\n",
    "    def __init__(self, make, model, year, seating_capacity):\n",
    "        super().__init__(make, model, year)\n",
    "        self.seating_capacity = seating_capacity\n",
    "\n",
    "    def display_info(self):\n",
    "        super().display_info()\n",
    "        print(f\"Seating Capacity: {self.seating_capacity}\")\n",
    "\n",
    "# Motorcycle subclass\n",
    "class Motorcycle(Vehicle):\n",
    "    def __init__(self, make, model, year, engine_type):\n",
    "        super().__init__(make, model, year)\n",
    "        self.engine_type = engine_type\n",
    "\n",
    "    def display_info(self):\n",
    "        super().display_info()\n",
    "        print(f\"Engine Type: {self.engine_type}\")\n",
    "\n",
    "print(\"Choose Vehicle Type:-\")\n",
    "print(\"Enter 1 for Car, or 2 for Motorcycle.\")\n",
    "choice = int(input(\"Enter choice: \"))\n",
    "\n",
    "if choice == 1:\n",
    "    make = input(\"Enter make: \")\n",
    "    model = input(\"Enter model: \")\n",
    "    year = input(\"Enter year: \")\n",
    "    capacity = input(\"Enter seating capacity: \")\n",
    "    car = Car(make, model, year, capacity)\n",
    "    print(\"\\nCar Details:\")\n",
    "    car.display_info()\n",
    "\n",
    "elif choice == 2:\n",
    "    make = input(\"Enter make: \")\n",
    "    model = input(\"Enter model: \")\n",
    "    year = input(\"Enter year: \")\n",
    "    engine = input(\"Enter engine type: \")\n",
    "    bike = Motorcycle(make, model, year, engine)\n",
    "    print(\"\\nMotorcycle Details:\")\n",
    "    bike.display_info()\n",
    "\n",
    "else:\n",
    "    print(\"Invalid choice.\")"
   ]
  },
  {
   "cell_type": "markdown",
   "id": "4839e00f-19ed-49a5-b7f2-2d55e0246902",
   "metadata": {},
   "source": [
    "### Problem Statement 3:-\n",
    "Create a base class Employee with attributes like name, ID, and salary, and methods to calculate and display details. Then create subclasses Manager and Developer that inherit from Employee and add attributes like department or programming language."
   ]
  },
  {
   "cell_type": "code",
   "execution_count": 3,
   "id": "30066770-08b9-4a1f-ae97-607018871b27",
   "metadata": {},
   "outputs": [
    {
     "name": "stdout",
     "output_type": "stream",
     "text": [
      "Select Employee Type:\n",
      "1. Manager\n",
      "2. Developer\n"
     ]
    },
    {
     "name": "stdin",
     "output_type": "stream",
     "text": [
      "Enter 1 or 2:  2\n",
      "Enter name:  Sarthak\n",
      "Enter ID:  DEV51\n",
      "Enter salary:  2165000\n",
      "Enter programming language:  Python, Java, C, C++, Kotlin, Dart, Bash\n"
     ]
    },
    {
     "name": "stdout",
     "output_type": "stream",
     "text": [
      "\n",
      "Developer Details:\n",
      "Name     : Sarthak\n",
      "ID       : DEV51\n",
      "Salary   : ₹2165000.0\n",
      "Programming Language: Python, Java, C, C++, Kotlin, Dart, Bash\n"
     ]
    }
   ],
   "source": [
    "# Base class\n",
    "class Employee:\n",
    "    def __init__(self, name, emp_id, salary):\n",
    "        self.name = name\n",
    "        self.emp_id = emp_id\n",
    "        self.salary = salary\n",
    "\n",
    "    def display_details(self):\n",
    "        print(f\"Name     : {self.name}\")\n",
    "        print(f\"ID       : {self.emp_id}\")\n",
    "        print(f\"Salary   : ₹{self.salary}\")\n",
    "\n",
    "# Subclass: Manager\n",
    "class Manager(Employee):\n",
    "    def __init__(self, name, emp_id, salary, department):\n",
    "        super().__init__(name, emp_id, salary)\n",
    "        self.department = department\n",
    "\n",
    "    def display_details(self):\n",
    "        super().display_details()\n",
    "        print(f\"Department: {self.department}\")\n",
    "\n",
    "# Subclass: Developer\n",
    "class Developer(Employee):\n",
    "    def __init__(self, name, emp_id, salary, language):\n",
    "        super().__init__(name, emp_id, salary)\n",
    "        self.language = language\n",
    "\n",
    "    def display_details(self):\n",
    "        super().display_details()\n",
    "        print(f\"Programming Language: {self.language}\")\n",
    "\n",
    "# Sample usage\n",
    "print(\"Select Employee Type:\")\n",
    "print(\"1. Manager\")\n",
    "print(\"2. Developer\")\n",
    "choice = input(\"Enter 1 or 2: \")\n",
    "\n",
    "name = input(\"Enter name: \")\n",
    "emp_id = input(\"Enter ID: \")\n",
    "salary = float(input(\"Enter salary: \"))\n",
    "\n",
    "if choice == '1':\n",
    "    dept = input(\"Enter department: \")\n",
    "    m = Manager(name, emp_id, salary, dept)\n",
    "    print(\"\\nManager Details:\")\n",
    "    m.display_details()\n",
    "\n",
    "elif choice == '2':\n",
    "    lang = input(\"Enter programming language: \")\n",
    "    d = Developer(name, emp_id, salary, lang)\n",
    "    print(\"\\nDeveloper Details:\")\n",
    "    d.display_details()\n",
    "\n",
    "else:\n",
    "    print(\"Invalid choice.\")\n"
   ]
  },
  {
   "cell_type": "markdown",
   "id": "f08da47f-0dcc-4eb5-b312-fd130b1fdd87",
   "metadata": {},
   "source": [
    "### Problem Statement 4:-\n",
    "Create a base class Animal with methods to make sound and display species. Then create subclasses Dog, Cat, and Bird that inherit from Animal and implement their specific sound methods."
   ]
  },
  {
   "cell_type": "code",
   "execution_count": 5,
   "id": "623e6fa4-f75c-461a-9153-0e2f65989d0a",
   "metadata": {},
   "outputs": [
    {
     "name": "stdout",
     "output_type": "stream",
     "text": [
      "Choose Animal:\n",
      "Enter 1 for Dog, 2 for Cat, or 3 for Bird.\n"
     ]
    },
    {
     "name": "stdin",
     "output_type": "stream",
     "text": [
      "Enter choice:  2\n"
     ]
    },
    {
     "name": "stdout",
     "output_type": "stream",
     "text": [
      "\n",
      "Animal Details:-\n",
      "Species: Cat\n",
      "Meow!\n"
     ]
    }
   ],
   "source": [
    "# Base class\n",
    "class Animal:\n",
    "    def __init__(self, species):\n",
    "        self.species = species\n",
    "\n",
    "    def make_sound(self):\n",
    "        print(\"Some animal sound.\")\n",
    "\n",
    "    def display_species(self):\n",
    "        print(f\"Species: {self.species}\")\n",
    "\n",
    "# Dog subclass\n",
    "class Dog(Animal):\n",
    "    def __init__(self):\n",
    "        super().__init__(\"Dog\")\n",
    "\n",
    "    def make_sound(self):\n",
    "        print(\"Woof! Woof!\")\n",
    "\n",
    "# Cat subclass\n",
    "class Cat(Animal):\n",
    "    def __init__(self):\n",
    "        super().__init__(\"Cat\")\n",
    "\n",
    "    def make_sound(self):\n",
    "        print(\"Meow!\")\n",
    "\n",
    "# Bird subclass\n",
    "class Bird(Animal):\n",
    "    def __init__(self):\n",
    "        super().__init__(\"Bird\")\n",
    "\n",
    "    def make_sound(self):\n",
    "        print(\"Tweet! Tweet!\")\n",
    "\n",
    "# Sample usage\n",
    "print(\"Choose Animal:\")\n",
    "print(\"Enter 1 for Dog, 2 for Cat, or 3 for Bird.\")\n",
    "choice = input(\"Enter choice: \")\n",
    "\n",
    "if choice == '1':\n",
    "    a = Dog()\n",
    "elif choice == '2':\n",
    "    a = Cat()\n",
    "elif choice == '3':\n",
    "    a = Bird()\n",
    "else:\n",
    "    print(\"Invalid choice.\")\n",
    "    exit()\n",
    "\n",
    "print(\"\\nAnimal Details:-\")\n",
    "a.display_species()\n",
    "a.make_sound()\n"
   ]
  },
  {
   "cell_type": "markdown",
   "id": "c8ff8baa-b2ce-4e78-97c0-45b3172543c3",
   "metadata": {},
   "source": [
    "### Problem Statement 5:-\n",
    "Create a base class Account with methods for deposit, withdraw, and display balance. Then create subclasses SavingsAccount and CheckingAccount that inherit from Account and implement their specific interest calculation or overdraft protection methods."
   ]
  },
  {
   "cell_type": "code",
   "execution_count": 11,
   "id": "2172b11d-61f9-47b6-85ae-c414cbc49a44",
   "metadata": {},
   "outputs": [
    {
     "name": "stdout",
     "output_type": "stream",
     "text": [
      "Choose account type:-\n",
      "Enter 1. for Savings Account, or 2. for Checking Account.\n"
     ]
    },
    {
     "name": "stdin",
     "output_type": "stream",
     "text": [
      "Enter choice:  2\n",
      "Enter account number:  007\n",
      "Enter account holder name:  James Bond\n",
      "Enter initial balance:  700\n"
     ]
    },
    {
     "name": "stdout",
     "output_type": "stream",
     "text": [
      "₹300 deposited.\n",
      "₹1500 withdrawn (with overdraft if needed).\n",
      "\n",
      "Account Summary:\n",
      "Account Holder: James Bond\n",
      "Account Number: 007\n",
      "Balance: ₹-500.0\n"
     ]
    }
   ],
   "source": [
    "# Base class\n",
    "class Account:\n",
    "    def __init__(self, acc_number, holder_name, balance=0):\n",
    "        self.acc_number = acc_number\n",
    "        self.holder_name = holder_name\n",
    "        self.balance = balance\n",
    "\n",
    "    def deposit(self, amount):\n",
    "        self.balance += amount\n",
    "        print(f\"₹{amount} deposited.\")\n",
    "\n",
    "    def withdraw(self, amount):\n",
    "        if amount <= self.balance:\n",
    "            self.balance -= amount\n",
    "            print(f\"₹{amount} withdrawn.\")\n",
    "        else:\n",
    "            print(\"Insufficient balance.\")\n",
    "\n",
    "    def display_balance(self):\n",
    "        print(f\"Account Holder: {self.holder_name}\")\n",
    "        print(f\"Account Number: {self.acc_number}\")\n",
    "        print(f\"Balance: ₹{self.balance}\")\n",
    "\n",
    "# SavingsAccount subclass\n",
    "class SavingsAccount(Account):\n",
    "    def __init__(self, acc_number, holder_name, balance=0, interest_rate=0.05):\n",
    "        super().__init__(acc_number, holder_name, balance)\n",
    "        self.interest_rate = interest_rate\n",
    "\n",
    "    def apply_interest(self):\n",
    "        interest = self.balance * self.interest_rate\n",
    "        self.balance += interest\n",
    "        print(f\"Interest of ₹{interest:.2f} applied at {self.interest_rate*100}% rate.\")\n",
    "\n",
    "# CheckingAccount subclass\n",
    "class CheckingAccount(Account):\n",
    "    def __init__(self, acc_number, holder_name, balance=0, overdraft_limit=1000):\n",
    "        super().__init__(acc_number, holder_name, balance)\n",
    "        self.overdraft_limit = overdraft_limit\n",
    "\n",
    "    def withdraw(self, amount):\n",
    "        if amount <= self.balance + self.overdraft_limit:\n",
    "            self.balance -= amount\n",
    "            print(f\"₹{amount} withdrawn (with overdraft if needed).\")\n",
    "        else:\n",
    "            print(\"Withdrawal exceeds overdraft limit.\")\n",
    "\n",
    "\n",
    "print(\"Choose account type:-\")\n",
    "print(\"Enter 1. for Savings Account, or 2. for Checking Account.\")\n",
    "choice = int(input(\"Enter choice: \"))\n",
    "\n",
    "acc_number = input(\"Enter account number: \")\n",
    "holder_name = input(\"Enter account holder name: \")\n",
    "initial_balance = float(input(\"Enter initial balance: \"))\n",
    "\n",
    "if choice == 1:\n",
    "    acc = SavingsAccount(acc_number, holder_name, initial_balance)\n",
    "    acc.deposit(500)\n",
    "    acc.apply_interest()\n",
    "    acc.withdraw(200)\n",
    "    print(\"\\nAccount Summary:\")\n",
    "    acc.display_balance()\n",
    "\n",
    "elif choice == 2:\n",
    "    acc = CheckingAccount(acc_number, holder_name, initial_balance)\n",
    "    acc.deposit(300)\n",
    "    acc.withdraw(1500)  # Test overdraft\n",
    "    print(\"\\nAccount Summary:\")\n",
    "    acc.display_balance()\n",
    "\n",
    "else:\n",
    "    print(\"Invalid account type.\")\n"
   ]
  },
  {
   "cell_type": "code",
   "execution_count": null,
   "id": "e1f36bdd-b0c6-4227-aed4-8529aa40ad29",
   "metadata": {},
   "outputs": [],
   "source": []
  }
 ],
 "metadata": {
  "kernelspec": {
   "display_name": "Python 3 (ipykernel)",
   "language": "python",
   "name": "python3"
  },
  "language_info": {
   "codemirror_mode": {
    "name": "ipython",
    "version": 3
   },
   "file_extension": ".py",
   "mimetype": "text/x-python",
   "name": "python",
   "nbconvert_exporter": "python",
   "pygments_lexer": "ipython3",
   "version": "3.12.1"
  }
 },
 "nbformat": 4,
 "nbformat_minor": 5
}
