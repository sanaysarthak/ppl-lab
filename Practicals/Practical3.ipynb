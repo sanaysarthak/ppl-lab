{
 "cells": [
  {
   "cell_type": "markdown",
   "id": "3a553bb4-9492-49fd-9a21-89616f5174a4",
   "metadata": {},
   "source": [
    "## Practical 3 :-\n",
    "**Name:** Sarthak Sanay\\\n",
    "**Enrollment No:** 230031101611051"
   ]
  },
  {
   "cell_type": "markdown",
   "id": "d26190e3-1587-48f8-b9d6-80c51c6bbb17",
   "metadata": {},
   "source": [
    "### Problem Statement :-\n",
    "You are building an e-commerce website, and you need to keep track of items in a user’s shopping cart. Implement the following:\n",
    "- Create an empty list called shopping_cart.\n",
    "- Allow the user to add items (product names) to the cart.\n",
    "- Display the current items in the cart.\n",
    "- Allow the user to remove items from the cart.\n",
    "- Calculate the total number of items in the cart."
   ]
  },
  {
   "cell_type": "code",
   "execution_count": 1,
   "id": "82661a17-d66c-49ff-b2dc-74dd11543d67",
   "metadata": {},
   "outputs": [
    {
     "name": "stdout",
     "output_type": "stream",
     "text": [
      "Enter 1 to add items to the cart. \n",
      "Enter 2 to display the current items in the cart. \n",
      "Enter 3 to remove items from the cart. \n",
      "Enter 4 to calculate the total no. of items in the cart. \n",
      "Enter 0 to exit.\n"
     ]
    },
    {
     "name": "stdout",
     "output_type": "stream",
     "text": [
      "Enter your choice:  1\n",
      "\n",
      "Enter product name:  Mechanical Keyboard\n"
     ]
    },
    {
     "name": "stdout",
     "output_type": "stream",
     "text": [
      "Item \"Mechanical Keyboard\" inserted into the cart successfully.\n",
      "\n",
      "\n",
      "Enter 1 to add items to the cart. \n",
      "Enter 2 to display the current items in the cart. \n",
      "Enter 3 to remove items from the cart. \n",
      "Enter 4 to calculate the total no. of items in the cart. \n",
      "Enter 0 to exit.\n"
     ]
    },
    {
     "name": "stdout",
     "output_type": "stream",
     "text": [
      "Enter your choice:  1\n",
      "\n",
      "Enter product name:  Sony A7 Camera\n"
     ]
    },
    {
     "name": "stdout",
     "output_type": "stream",
     "text": [
      "Item \"Sony A7 Camera\" inserted into the cart successfully.\n",
      "\n",
      "\n",
      "Enter 1 to add items to the cart. \n",
      "Enter 2 to display the current items in the cart. \n",
      "Enter 3 to remove items from the cart. \n",
      "Enter 4 to calculate the total no. of items in the cart. \n",
      "Enter 0 to exit.\n"
     ]
    },
    {
     "name": "stdout",
     "output_type": "stream",
     "text": [
      "Enter your choice:  1\n",
      "\n",
      "Enter product name:  Airpods\n"
     ]
    },
    {
     "name": "stdout",
     "output_type": "stream",
     "text": [
      "Item \"Airpods\" inserted into the cart successfully.\n",
      "\n",
      "\n",
      "Enter 1 to add items to the cart. \n",
      "Enter 2 to display the current items in the cart. \n",
      "Enter 3 to remove items from the cart. \n",
      "Enter 4 to calculate the total no. of items in the cart. \n",
      "Enter 0 to exit.\n"
     ]
    },
    {
     "name": "stdout",
     "output_type": "stream",
     "text": [
      "Enter your choice:  2\n"
     ]
    },
    {
     "name": "stdout",
     "output_type": "stream",
     "text": [
      "\n",
      "Items in the cart are as follows :-\n",
      "\n",
      "1. Mechanical Keyboard\n",
      "2. Sony A7 Camera\n",
      "3. Airpods\n",
      "\n",
      "\n",
      "Enter 1 to add items to the cart. \n",
      "Enter 2 to display the current items in the cart. \n",
      "Enter 3 to remove items from the cart. \n",
      "Enter 4 to calculate the total no. of items in the cart. \n",
      "Enter 0 to exit.\n"
     ]
    },
    {
     "name": "stdout",
     "output_type": "stream",
     "text": [
      "Enter your choice:  3\n",
      "\n",
      "Enter the postion which you want to delete:  3\n"
     ]
    },
    {
     "name": "stdout",
     "output_type": "stream",
     "text": [
      "Item \"Airpods\" removed successfully.\n",
      "\n",
      "\n",
      "Enter 1 to add items to the cart. \n",
      "Enter 2 to display the current items in the cart. \n",
      "Enter 3 to remove items from the cart. \n",
      "Enter 4 to calculate the total no. of items in the cart. \n",
      "Enter 0 to exit.\n"
     ]
    },
    {
     "name": "stdout",
     "output_type": "stream",
     "text": [
      "Enter your choice:  2\n"
     ]
    },
    {
     "name": "stdout",
     "output_type": "stream",
     "text": [
      "\n",
      "Items in the cart are as follows :-\n",
      "\n",
      "1. Mechanical Keyboard\n",
      "2. Sony A7 Camera\n",
      "\n",
      "\n",
      "Enter 1 to add items to the cart. \n",
      "Enter 2 to display the current items in the cart. \n",
      "Enter 3 to remove items from the cart. \n",
      "Enter 4 to calculate the total no. of items in the cart. \n",
      "Enter 0 to exit.\n"
     ]
    },
    {
     "name": "stdout",
     "output_type": "stream",
     "text": [
      "Enter your choice:  4\n"
     ]
    },
    {
     "name": "stdout",
     "output_type": "stream",
     "text": [
      "\n",
      "The total no. of items in the cart are 2.\n",
      "\n",
      "\n",
      "Enter 1 to add items to the cart. \n",
      "Enter 2 to display the current items in the cart. \n",
      "Enter 3 to remove items from the cart. \n",
      "Enter 4 to calculate the total no. of items in the cart. \n",
      "Enter 0 to exit.\n"
     ]
    },
    {
     "name": "stdout",
     "output_type": "stream",
     "text": [
      "Enter your choice:  0\n"
     ]
    },
    {
     "name": "stdout",
     "output_type": "stream",
     "text": [
      "\n",
      "Exited the program successfully!\n"
     ]
    }
   ],
   "source": [
    "shopping_cart = [] # initializing an empty list\n",
    "ch = 1 # intializing the choice variable.\n",
    "\n",
    "while ch != 0:\n",
    "    print(\"Enter 1 to add items to the cart. \\nEnter 2 to display the current items in the cart. \\nEnter 3 to remove items from the cart. \\nEnter 4 to calculate the total no. of items in the cart. \\nEnter 0 to exit.\")\n",
    "    ch = int(input(\"Enter your choice: \"))\n",
    "    \n",
    "    if ch == 1:\n",
    "        product_name = str(input(\"\\nEnter product name: \"))\n",
    "        shopping_cart.append(product_name)\n",
    "        print(f\"Item \\\"{product_name}\\\" inserted into the cart successfully.\\n\\n\")\n",
    "        \n",
    "    elif ch == 2:\n",
    "        print(\"\\nItems in the cart are as follows :-\\n\")\n",
    "        for i in range(0, len(shopping_cart)):\n",
    "            print(f\"{i+1}. {shopping_cart[i]}\")\n",
    "        print(\"\\n\")\n",
    "        \n",
    "    elif ch == 3:\n",
    "        if len(shopping_cart) > 0:\n",
    "            pos = int(input(\"\\nEnter the postion which you want to delete: \"))\n",
    "            print(f\"Item \\\"{shopping_cart[pos-1]}\\\" removed successfully.\\n\\n\")\n",
    "            shopping_cart.pop(pos-1)\n",
    "        else:\n",
    "            print(\"Shopping cart is already empty.\")\n",
    "\n",
    "    elif ch == 4:\n",
    "        print(f\"\\nThe total no. of items in the cart are {len(shopping_cart)}.\\n\\n\")\n",
    "\n",
    "    else:\n",
    "        print(\"\\nExited the program successfully!\")"
   ]
  },
  {
   "cell_type": "markdown",
   "id": "2393756d-dd35-44fc-a078-8a550b7c7124",
   "metadata": {},
   "source": [
    "## Problem Statement :-\n",
    "You are building a student management system. Implement the following:\n",
    "- Create a dictionary called student_records where each key is a student ID (e.g., roll number) and the student’s name, age, and grade value.\n",
    "- Allow the user to add new student records.\n",
    "- Display the details of a specific student given their ID."
   ]
  },
  {
   "cell_type": "code",
   "execution_count": 2,
   "id": "1d7c09c9-2a75-427f-900b-fc8b062fa8cf",
   "metadata": {},
   "outputs": [
    {
     "name": "stdout",
     "output_type": "stream",
     "text": [
      "STUDENT MANAGEMENT SYSTEM :-\n",
      "\n",
      "\n",
      "Enter 1 to add a new student record.\n",
      "Enter 2 to display a specific student's details.\n",
      "Enter 0 to exit.\n"
     ]
    },
    {
     "name": "stdout",
     "output_type": "stream",
     "text": [
      "Enter choice:  1\n",
      "\n",
      "Enter the Student ID:  A007\n",
      "Enter student's name:  Shiven Sakle\n",
      "Enter student's age:  19\n",
      "Enter student's grade:  B\n"
     ]
    },
    {
     "name": "stdout",
     "output_type": "stream",
     "text": [
      "Student with ID A007 has been added to the records successfully.\n",
      "\n",
      "\n",
      "Enter 1 to add a new student record.\n",
      "Enter 2 to display a specific student's details.\n",
      "Enter 0 to exit.\n"
     ]
    },
    {
     "name": "stdout",
     "output_type": "stream",
     "text": [
      "Enter choice:  1\n",
      "\n",
      "Enter the Student ID:  A009\n",
      "Enter student's name:  Divyakirti Singh\n",
      "Enter student's age:  19\n",
      "Enter student's grade:  B+\n"
     ]
    },
    {
     "name": "stdout",
     "output_type": "stream",
     "text": [
      "Student with ID A009 has been added to the records successfully.\n",
      "\n",
      "\n",
      "Enter 1 to add a new student record.\n",
      "Enter 2 to display a specific student's details.\n",
      "Enter 0 to exit.\n"
     ]
    },
    {
     "name": "stdout",
     "output_type": "stream",
     "text": [
      "Enter choice:  1\n",
      "\n",
      "Enter the Student ID:  A022\n",
      "Enter student's name:  Darshil Srinivasan\n",
      "Enter student's age:  20\n",
      "Enter student's grade:  A\n"
     ]
    },
    {
     "name": "stdout",
     "output_type": "stream",
     "text": [
      "Student with ID A022 has been added to the records successfully.\n",
      "\n",
      "\n",
      "Enter 1 to add a new student record.\n",
      "Enter 2 to display a specific student's details.\n",
      "Enter 0 to exit.\n"
     ]
    },
    {
     "name": "stdout",
     "output_type": "stream",
     "text": [
      "Enter choice:  2\n",
      "\n",
      "Enter student ID:  A009\n"
     ]
    },
    {
     "name": "stdout",
     "output_type": "stream",
     "text": [
      "Details for Student ID A009:-\n",
      "Name:\t Divyakirti Singh\n",
      "Age:\t 19\n",
      "Grade:\t B+\n",
      "\n",
      "\n",
      "Enter 1 to add a new student record.\n",
      "Enter 2 to display a specific student's details.\n",
      "Enter 0 to exit.\n"
     ]
    },
    {
     "name": "stdout",
     "output_type": "stream",
     "text": [
      "Enter choice:  2\n",
      "\n",
      "Enter student ID:  A010\n"
     ]
    },
    {
     "name": "stdout",
     "output_type": "stream",
     "text": [
      "No student found with ID A010.\n",
      "\n",
      "\n",
      "Enter 1 to add a new student record.\n",
      "Enter 2 to display a specific student's details.\n",
      "Enter 0 to exit.\n"
     ]
    },
    {
     "name": "stdout",
     "output_type": "stream",
     "text": [
      "Enter choice:  1\n",
      "\n",
      "Enter the Student ID:  A009\n"
     ]
    },
    {
     "name": "stdout",
     "output_type": "stream",
     "text": [
      "Student ID A009 already exists. Please use a unique ID.\n",
      "\n",
      "\n",
      "Enter 1 to add a new student record.\n",
      "Enter 2 to display a specific student's details.\n",
      "Enter 0 to exit.\n"
     ]
    },
    {
     "name": "stdout",
     "output_type": "stream",
     "text": [
      "Enter choice:  0\n"
     ]
    },
    {
     "name": "stdout",
     "output_type": "stream",
     "text": [
      "\n",
      "Exited the program successfully!\n"
     ]
    }
   ],
   "source": [
    "print(\"STUDENT MANAGEMENT SYSTEM :-\\n\")\n",
    "\n",
    "student_records = {} # declared empty dictionary\n",
    "ch = 1 # initalized the inital choice\n",
    "\n",
    "while ch != 0:\n",
    "    print(\"\\nEnter 1 to add a new student record.\")\n",
    "    print(\"Enter 2 to display a specific student's details.\")\n",
    "    print(\"Enter 0 to exit.\")\n",
    "    ch = int(input(\"Enter choice: \"))\n",
    "\n",
    "    if ch == 1:\n",
    "        student_id = input(\"\\nEnter the Student ID: \")\n",
    "        if student_id in student_records:\n",
    "            print(f\"Student ID {student_id} already exists. Please use a unique ID.\\n\")\n",
    "        else:\n",
    "            student_name = str(input(\"Enter student's name: \"))\n",
    "            student_age = int(input(\"Enter student's age: \"))\n",
    "            student_grade = str(input(\"Enter student's grade: \"))\n",
    "            # storing the given details in a dictionary\n",
    "            student_records[student_id] = {\"name\": student_name, \"age\": student_age, \"grade\": student_grade}\n",
    "            print(f\"Student with ID {student_id} has been added to the records successfully.\\n\")\n",
    "\n",
    "    elif ch == 2:\n",
    "        student_id = input(\"\\nEnter student ID: \")\n",
    "        if student_id in student_records:\n",
    "            student = student_records[student_id]\n",
    "            print(f\"Details for Student ID {student_id}:-\")\n",
    "            print(f\"Name:\\t {student[\"name\"]}\")\n",
    "            print(f\"Age:\\t {student[\"age\"]}\")\n",
    "            print(f\"Grade:\\t {student[\"grade\"]}\\n\")\n",
    "        else:\n",
    "            print(f\"No student found with ID {student_id}.\\n\")\n",
    "\n",
    "    elif ch == 0:\n",
    "        print(\"\\nExited the program successfully!\")\n",
    "\n",
    "    else:\n",
    "        print(\"Enter correct choice.\\n\")\n",
    "\n",
    "        "
   ]
  }
 ],
 "metadata": {
  "kernelspec": {
   "display_name": "Python 3 (ipykernel)",
   "language": "python",
   "name": "python3"
  },
  "language_info": {
   "codemirror_mode": {
    "name": "ipython",
    "version": 3
   },
   "file_extension": ".py",
   "mimetype": "text/x-python",
   "name": "python",
   "nbconvert_exporter": "python",
   "pygments_lexer": "ipython3",
   "version": "3.12.8"
  }
 },
 "nbformat": 4,
 "nbformat_minor": 5
}
