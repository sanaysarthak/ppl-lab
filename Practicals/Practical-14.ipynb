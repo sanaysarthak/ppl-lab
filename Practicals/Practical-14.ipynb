{
 "cells": [
  {
   "cell_type": "markdown",
   "id": "0914dada-dea2-42e1-ae20-ce11048b1f72",
   "metadata": {},
   "source": [
    "## Practical 14 :-\n",
    "**Name:** Sarthak Sanay\\\n",
    "**Enrollment No:** 230031101611051"
   ]
  },
  {
   "cell_type": "markdown",
   "id": "f0548fbf-8579-4754-b0ff-7e44fc905fc9",
   "metadata": {},
   "source": [
    "### Problem Statement 1:-\n",
    "**Student Grade Management (CSV):** \\\n",
    "You are a teacher at a school and maintain student grade records in a CSV file. The file contains student IDs, names, and grades for different subjects (e.g., Math, Science, English). Develop a Python program to read this CSV file, calculate each student's average grade, display the top-performing students, allow the user to search for a student by ID or name, and update their grades. Provide an option to save the updated data back to the CSV file."
   ]
  },
  {
   "cell_type": "code",
   "execution_count": 1,
   "id": "936948e4-f8c4-469b-bca9-9fda5da56560",
   "metadata": {},
   "outputs": [
    {
     "name": "stdout",
     "output_type": "stream",
     "text": [
      "Top 3 students:\n",
      "104 - Michael Brown: Average = 92.00\n",
      "102 - Jane Smith: Average = 87.33\n",
      "101 - John Doe: Average = 85.00\n"
     ]
    },
    {
     "name": "stdin",
     "output_type": "stream",
     "text": [
      "\n",
      "Options:\n",
      "1. Search student\n",
      "2. Update student grades\n",
      "3. Save and Exit\n",
      "Choose:  1\n",
      "Enter Student ID or Name to search:  103\n"
     ]
    },
    {
     "name": "stdout",
     "output_type": "stream",
     "text": [
      "Found: 103 - Emily Davis\n",
      "Grades: Math=76, Science=85, English=80\n",
      "Average: 80.33\n"
     ]
    },
    {
     "name": "stdin",
     "output_type": "stream",
     "text": [
      "\n",
      "Options:\n",
      "1. Search student\n",
      "2. Update student grades\n",
      "3. Save and Exit\n",
      "Choose:  2\n",
      "Enter Student ID or Name to update:  103\n"
     ]
    },
    {
     "name": "stdout",
     "output_type": "stream",
     "text": [
      "Updating grades for Emily Davis (ID: 103)\n"
     ]
    },
    {
     "name": "stdin",
     "output_type": "stream",
     "text": [
      "Enter new grade for Math (leave blank to keep 76):  \n",
      "Enter new grade for Science (leave blank to keep 85):  \n",
      "Enter new grade for English (leave blank to keep 80):  100\n"
     ]
    },
    {
     "name": "stdout",
     "output_type": "stream",
     "text": [
      "Grades updated.\n"
     ]
    },
    {
     "name": "stdin",
     "output_type": "stream",
     "text": [
      "\n",
      "Options:\n",
      "1. Search student\n",
      "2. Update student grades\n",
      "3. Save and Exit\n",
      "Choose:  1\n",
      "Enter Student ID or Name to search:  103\n"
     ]
    },
    {
     "name": "stdout",
     "output_type": "stream",
     "text": [
      "Found: 103 - Emily Davis\n",
      "Grades: Math=76, Science=85, English=100\n",
      "Average: 87.00\n"
     ]
    },
    {
     "name": "stdin",
     "output_type": "stream",
     "text": [
      "\n",
      "Options:\n",
      "1. Search student\n",
      "2. Update student grades\n",
      "3. Save and Exit\n",
      "Choose:  3\n"
     ]
    },
    {
     "name": "stdout",
     "output_type": "stream",
     "text": [
      "Data saved to students.csv\n"
     ]
    }
   ],
   "source": [
    "import csv\n",
    "\n",
    "FILENAME = 'students.csv'\n",
    "\n",
    "def read_students(filename):\n",
    "    students = []\n",
    "    with open(filename, newline='') as csvfile:\n",
    "        reader = csv.DictReader(csvfile)\n",
    "        for row in reader:\n",
    "            \n",
    "            for subject in ['Math', 'Science', 'English']:\n",
    "                row[subject] = int(row[subject])\n",
    "            students.append(row)\n",
    "    return students\n",
    "\n",
    "def calculate_averages(students):\n",
    "    for student in students:\n",
    "        grades = [student[subj] for subj in ['Math', 'Science', 'English']]\n",
    "        student['Average'] = sum(grades) / len(grades)\n",
    "\n",
    "def display_top_students(students, top_n=3):\n",
    "    sorted_students = sorted(students, key=lambda x: x['Average'], reverse=True)\n",
    "    print(f\"Top {top_n} students:\")\n",
    "    for s in sorted_students[:top_n]:\n",
    "        print(f\"{s['StudentID']} - {s['Name']}: Average = {s['Average']:.2f}\")\n",
    "\n",
    "def search_student(students, query):\n",
    "    query = query.lower()\n",
    "    for student in students:\n",
    "        if student['StudentID'] == query or student['Name'].lower() == query:\n",
    "            return student\n",
    "    return None\n",
    "\n",
    "def update_grades(student):\n",
    "    print(f\"Updating grades for {student['Name']} (ID: {student['StudentID']})\")\n",
    "    for subject in ['Math', 'Science', 'English']:\n",
    "        new_grade = input(f\"Enter new grade for {subject} (leave blank to keep {student[subject]}): \")\n",
    "        if new_grade.strip():\n",
    "            student[subject] = int(new_grade)\n",
    "    \n",
    "    grades = [student[subj] for subj in ['Math', 'Science', 'English']]\n",
    "    student['Average'] = sum(grades) / len(grades)\n",
    "    print(\"Grades updated.\")\n",
    "\n",
    "def save_students(filename, students):\n",
    "    with open(filename, 'w', newline='') as csvfile:\n",
    "        fieldnames = ['StudentID', 'Name', 'Math', 'Science', 'English']\n",
    "        writer = csv.DictWriter(csvfile, fieldnames=fieldnames)\n",
    "        writer.writeheader()\n",
    "        for s in students:\n",
    "            \n",
    "            writer.writerow({\n",
    "                'StudentID': s['StudentID'],\n",
    "                'Name': s['Name'],\n",
    "                'Math': s['Math'],\n",
    "                'Science': s['Science'],\n",
    "                'English': s['English']\n",
    "            })\n",
    "    print(f\"Data saved to {filename}\")\n",
    "\n",
    "def main():\n",
    "    students = read_students(FILENAME)\n",
    "    calculate_averages(students)\n",
    "    display_top_students(students)\n",
    "\n",
    "    while True:\n",
    "        choice = input(\"\\nOptions:\\n1. Search student\\n2. Update student grades\\n3. Save and Exit\\nChoose: \")\n",
    "\n",
    "        if choice == '1':\n",
    "            query = input(\"Enter Student ID or Name to search: \")\n",
    "            student = search_student(students, query)\n",
    "            if student:\n",
    "                print(f\"Found: {student['StudentID']} - {student['Name']}\")\n",
    "                print(f\"Grades: Math={student['Math']}, Science={student['Science']}, English={student['English']}\")\n",
    "                print(f\"Average: {student['Average']:.2f}\")\n",
    "            else:\n",
    "                print(\"Student not found.\")\n",
    "        \n",
    "        elif choice == '2':\n",
    "            query = input(\"Enter Student ID or Name to update: \")\n",
    "            student = search_student(students, query)\n",
    "            if student:\n",
    "                update_grades(student)\n",
    "            else:\n",
    "                print(\"Student not found.\")\n",
    "\n",
    "        elif choice == '3':\n",
    "            save_students(FILENAME, students)\n",
    "            break\n",
    "        else:\n",
    "            print(\"Invalid choice, try again.\")\n",
    "\n",
    "if __name__ == '__main__':\n",
    "    main()\n"
   ]
  },
  {
   "cell_type": "code",
   "execution_count": null,
   "id": "223f555d-8aca-4bf6-a0a5-54f9da6c4c83",
   "metadata": {},
   "outputs": [],
   "source": []
  }
 ],
 "metadata": {
  "kernelspec": {
   "display_name": "Python 3 (ipykernel)",
   "language": "python",
   "name": "python3"
  },
  "language_info": {
   "codemirror_mode": {
    "name": "ipython",
    "version": 3
   },
   "file_extension": ".py",
   "mimetype": "text/x-python",
   "name": "python",
   "nbconvert_exporter": "python",
   "pygments_lexer": "ipython3",
   "version": "3.12.1"
  }
 },
 "nbformat": 4,
 "nbformat_minor": 5
}
