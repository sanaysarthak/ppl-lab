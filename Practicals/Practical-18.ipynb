{
 "cells": [
  {
   "cell_type": "markdown",
   "id": "8d077f88-3752-4110-a3e4-19cdb96ce2c2",
   "metadata": {},
   "source": [
    "## Practical 18:-\n",
    "**Name:** Sarthak Sanay\\\n",
    "**Enrollment No:** 230031101611051"
   ]
  },
  {
   "cell_type": "markdown",
   "id": "389930b0-4436-4020-9f0d-ec667e4bae13",
   "metadata": {},
   "source": [
    "### Problem Statement 1:-\n",
    "#### RegEx Practicals :-"
   ]
  },
  {
   "cell_type": "markdown",
   "id": "1f38823c-2439-4b6c-9acd-72b705e34061",
   "metadata": {},
   "source": [
    "**1.(A)** Write a Python program to check that a string contains only a certain set of characters (in this case a-z, A-Z and 0-9)."
   ]
  },
  {
   "cell_type": "code",
   "execution_count": 1,
   "id": "54eed518-6ed4-4244-9ab4-e6ac59406369",
   "metadata": {},
   "outputs": [
    {
     "name": "stdout",
     "output_type": "stream",
     "text": [
      "True\n",
      "False\n"
     ]
    }
   ],
   "source": [
    "import re\n",
    "\n",
    "def check_alphanumeric(s):\n",
    "    return bool(re.fullmatch(r'[a-zA-Z0-9]+', s))\n",
    "\n",
    "print(check_alphanumeric(\"Python123\"))  \n",
    "print(check_alphanumeric(\"Hello_World\"))  "
   ]
  },
  {
   "cell_type": "markdown",
   "id": "40272aed-82af-4a7c-bcb8-db589d9e1160",
   "metadata": {},
   "source": [
    "**1.(B)** Write a Python program that matches a string that has an a followed by one or more b's."
   ]
  },
  {
   "cell_type": "code",
   "execution_count": 2,
   "id": "a0735127-07ae-4d7b-92e3-e13e7c1949cb",
   "metadata": {},
   "outputs": [
    {
     "name": "stdout",
     "output_type": "stream",
     "text": [
      "True\n",
      "True\n",
      "False\n"
     ]
    }
   ],
   "source": [
    "def match_ab1(s):\n",
    "    return bool(re.fullmatch(r'ab+', s))\n",
    "\n",
    "print(match_ab1(\"ab\"))      \n",
    "print(match_ab1(\"abbbbbb\")) \n",
    "print(match_ab1(\"a\"))       "
   ]
  },
  {
   "cell_type": "markdown",
   "id": "8c9a4fdb-7c55-4df4-92e7-699e3bf47a89",
   "metadata": {},
   "source": [
    "**1.(C)** Write a Python program that matches a string that has an a followed by two to three 'b'."
   ]
  },
  {
   "cell_type": "code",
   "execution_count": 4,
   "id": "031efee9-c260-4eff-873c-138c894ad107",
   "metadata": {},
   "outputs": [
    {
     "name": "stdout",
     "output_type": "stream",
     "text": [
      "True\n",
      "True\n",
      "False\n"
     ]
    }
   ],
   "source": [
    "def match_ab2to3(s):\n",
    "    return bool(re.fullmatch(r'ab{2,3}', s))\n",
    "\n",
    "print(match_ab2to3(\"abb\"))     \n",
    "print(match_ab2to3(\"abbb\"))    \n",
    "print(match_ab2to3(\"abbbb\"))   "
   ]
  },
  {
   "cell_type": "markdown",
   "id": "8b488277-88f1-4c14-a1c4-b9a5bdc182c1",
   "metadata": {},
   "source": [
    "**1.(D)** Write a Python program that matches a string that has an 'a' followed by anything, ending in 'b'."
   ]
  },
  {
   "cell_type": "code",
   "execution_count": 5,
   "id": "1924f098-ae68-4f6c-a705-ac35c2f299ab",
   "metadata": {},
   "outputs": [
    {
     "name": "stdout",
     "output_type": "stream",
     "text": [
      "True\n",
      "True\n",
      "True\n"
     ]
    }
   ],
   "source": [
    "def match_a_any_b(s):\n",
    "    return bool(re.fullmatch(r'a.*b', s))\n",
    "\n",
    "print(match_a_any_b(\"acb\"))     \n",
    "print(match_a_any_b(\"a123b\"))  \n",
    "print(match_a_any_b(\"ab\"))      "
   ]
  },
  {
   "cell_type": "markdown",
   "id": "2bd4cd50-a180-455a-9cd8-7c6570a02a6f",
   "metadata": {},
   "source": [
    "**1.(E)** Write a Python program that matches a word containing 'z'."
   ]
  },
  {
   "cell_type": "code",
   "execution_count": 6,
   "id": "24b15671-d3a0-4b57-afa2-e208ffd3297c",
   "metadata": {},
   "outputs": [
    {
     "name": "stdout",
     "output_type": "stream",
     "text": [
      "True\n",
      "False\n"
     ]
    }
   ],
   "source": [
    "def contains_z(s):\n",
    "    return bool(re.search(r'\\bz\\w*|\\w*z\\b|\\w*z\\w*', s))\n",
    "\n",
    "print(contains_z(\"amazing\"))    \n",
    "print(contains_z(\"hello\"))      "
   ]
  },
  {
   "cell_type": "markdown",
   "id": "8444984c-e6cc-4d8d-9aee-c921c2878193",
   "metadata": {},
   "source": [
    "**1.(F)** Write a Python program where a string will start with a specific number."
   ]
  },
  {
   "cell_type": "code",
   "execution_count": null,
   "id": "53cd2de0-e365-49f5-976a-b8ce6b8f463e",
   "metadata": {},
   "outputs": [],
   "source": []
  },
  {
   "cell_type": "markdown",
   "id": "3844d206-a00d-4839-94ef-8f132cd9a562",
   "metadata": {},
   "source": [
    "**1.(G)** Write a Python program to search the numbers (0-9) of length between 1 to 3 in a given string."
   ]
  },
  {
   "cell_type": "code",
   "execution_count": null,
   "id": "72011f3d-612e-46fc-b000-7b30121af836",
   "metadata": {},
   "outputs": [],
   "source": []
  },
  {
   "cell_type": "markdown",
   "id": "2f7def1b-ded8-4839-b447-3acd28ceb674",
   "metadata": {},
   "source": [
    "### Problem Statement 2:-\n",
    "Write a Python program to find the substrings within a string. \\\n",
    "**Sample Text:** 'Python exercises, PHP exercises, C# exercises' \\\n",
    "**Pattern:** 'exercises'"
   ]
  },
  {
   "cell_type": "code",
   "execution_count": null,
   "id": "ebd9c8f7-0666-4618-a13a-8d36153f2309",
   "metadata": {},
   "outputs": [],
   "source": []
  },
  {
   "cell_type": "markdown",
   "id": "095296c1-a737-4114-899d-ce838915f2dc",
   "metadata": {},
   "source": [
    "### Problem Statement 3:-\n",
    "**Extracting Email Addresses:** \\\n",
    "Problem Statement: Given a large text file containing various lines of data, extract all the email addresses present in the file. \\\n",
    "**Example:** \"Contact us at support@example.com or sales@example.org for more information.\" \\\n",
    "It should yield ```[\"support@example.com\", \"sales@example.org\"]```. "
   ]
  },
  {
   "cell_type": "code",
   "execution_count": null,
   "id": "d2c8f139-ce51-4ffe-9cec-18d7180d4a7f",
   "metadata": {},
   "outputs": [],
   "source": []
  },
  {
   "cell_type": "markdown",
   "id": "c621e273-71a0-4831-9b60-66f07ba5bb27",
   "metadata": {},
   "source": [
    "### Problem Statement 4:-\n",
    "**Validating Phone Numbers:** \\\n",
    "Problem Statement: Create a function to validate whether a given string is a\n",
    "valid phone number in the format (XXX) XXX-XXXX or XXX-XXX-XXXX. \\\n",
    "**Example:** \"Phone number (123) 456-7890 is valid, but 123-45-67890 is not.\"\n",
    "It should yield True for the first phone number and False for the second."
   ]
  },
  {
   "cell_type": "code",
   "execution_count": null,
   "id": "e6d151bd-274e-4bf7-940f-d5770c7b65ed",
   "metadata": {},
   "outputs": [],
   "source": []
  },
  {
   "cell_type": "markdown",
   "id": "d9100de2-8690-4c8b-8295-fef509957c61",
   "metadata": {},
   "source": [
    "### Problem Statement 5:-\n",
    "**Finding Dates:** \\\n",
    "Problem Statement: Write a script to find all the dates in a text document, where dates are in the format DD/MM/YYYY. \\\n",
    "**Example:** \"Important dates are 12/05/2021 and 23/08/2022.\" \\\n",
    "It should yield [\"12/05/2021\", \"23/08/2022\"]."
   ]
  },
  {
   "cell_type": "code",
   "execution_count": null,
   "id": "5e48f522-75c8-4695-aad8-3c87cf210989",
   "metadata": {},
   "outputs": [],
   "source": []
  },
  {
   "cell_type": "markdown",
   "id": "c35bdad7-7e49-432b-9e3a-d162fe7d7a99",
   "metadata": {},
   "source": [
    "### Problem Statement 6:-\n",
    "**Replacing URLs:** \\\n",
    "Problem Statement: Given a string containing multiple URLs, replace all the URLs with a placeholder text [LINK]. \\\n",
    "**Example:** \"Visit https://example.com or http://example.org for more info.\" \\\n",
    "It should yield \"Visit [LINK] or [LINK] for more info.\"."
   ]
  },
  {
   "cell_type": "code",
   "execution_count": null,
   "id": "5e09cd51-1d28-42b7-b1f8-11e7693430af",
   "metadata": {},
   "outputs": [],
   "source": []
  },
  {
   "cell_type": "markdown",
   "id": "16bbc7f6-f062-4e55-81e4-893648981ce3",
   "metadata": {},
   "source": [
    "### Problem Statement 7:-\n",
    "**Extracting Hashtags:** \\\n",
    "Problem Statement: Extract all the hashtags from a social media post. \\\n",
    "**Example:** \"Loving the #sunshine and #beachlife!\" \\\n",
    "It should yield [\"#sunshine\", \"#beachlife\"]."
   ]
  },
  {
   "cell_type": "code",
   "execution_count": null,
   "id": "61a28921-59bc-43f0-8a54-247691f23786",
   "metadata": {},
   "outputs": [],
   "source": []
  }
 ],
 "metadata": {
  "kernelspec": {
   "display_name": "Python 3 (ipykernel)",
   "language": "python",
   "name": "python3"
  },
  "language_info": {
   "codemirror_mode": {
    "name": "ipython",
    "version": 3
   },
   "file_extension": ".py",
   "mimetype": "text/x-python",
   "name": "python",
   "nbconvert_exporter": "python",
   "pygments_lexer": "ipython3",
   "version": "3.12.1"
  }
 },
 "nbformat": 4,
 "nbformat_minor": 5
}
