{
 "cells": [
  {
   "cell_type": "markdown",
   "id": "46dc5066-4fd2-4d29-b5c5-babec9933f63",
   "metadata": {},
   "source": [
    "## Practical 2 :-\n",
    "**Name:** Sarthak Sanay\\\n",
    "**Enrollment No:** 230031101611051"
   ]
  },
  {
   "cell_type": "markdown",
   "id": "085da4a6-282f-49ad-8186-e537163958bb",
   "metadata": {},
   "source": [
    "### Problem Statement:\n",
    "You are working in a loan approval section of a bank; you need to create a Python script for \"printing loan approval or not\" from the following criteria. (AGE SHOULD BE GREATER THAN 18, SALARY SHOULD BE NO LESS THAN 4 LAKHS, AND CREDIT SCORE SHOULD BE NO LESS THAN 600)."
   ]
  },
  {
   "cell_type": "code",
   "execution_count": 20,
   "id": "cb799579-f7f1-4fce-9566-c651d6f9e5a6",
   "metadata": {},
   "outputs": [
    {
     "name": "stdin",
     "output_type": "stream",
     "text": [
      "Enter your name:  Sarthak\n",
      "Enter your age:  19\n",
      "Enter salary:  2200000\n",
      "Enter your credit score:  735\n",
      "Enter amount of loan you want to take:  350000\n"
     ]
    },
    {
     "name": "stdout",
     "output_type": "stream",
     "text": [
      "\n",
      "Dear Sarthak, your loan amount of Rs. 350000 has been approved!\n"
     ]
    }
   ],
   "source": [
    "# Taking user input\n",
    "name = str(input(\"Enter your name: \"))\n",
    "age = int(input(\"Enter your age: \"))\n",
    "salary = int(input(\"Enter salary: \"))\n",
    "credit_score = int(input(\"Enter your credit score: \"))\n",
    "loan_amount = int(input(\"Enter amount of loan you want to take: \"))\n",
    "\n",
    "# Logic to approve loan or not\n",
    "if (age>18 and salary>400000 and credit_score>600):\n",
    "    print(f\"\\nDear {name}, your loan amount of Rs. {loan_amount} has been approved!\")\n",
    "else:\n",
    "    print(f\"\\nDear {name}, your loan amount of Rs. {loan_amount} has NOT been approved!\")"
   ]
  },
  {
   "cell_type": "markdown",
   "id": "c106f61b-08b5-42e1-897a-525172da7699",
   "metadata": {},
   "source": [
    "### Problem Statement:\n",
    "You are working in a weather monitoring station. Create a Python script to read the temperature from the user and convert it from Celsius to Fahrenheit or vice versa, and after that print weather is frizzing, cold, moderate, or hot."
   ]
  },
  {
   "cell_type": "code",
   "execution_count": 21,
   "id": "f6639db3-0030-423a-ad19-8a751316e510",
   "metadata": {},
   "outputs": [
    {
     "name": "stdout",
     "output_type": "stream",
     "text": [
      "Enter 1 to input temperature in Celsius. \n",
      "Enter 2 to input temperature in Fahrenheit.\n"
     ]
    },
    {
     "name": "stdin",
     "output_type": "stream",
     "text": [
      "Enter choice:  1\n",
      "Enter temperature:  14\n"
     ]
    },
    {
     "name": "stdout",
     "output_type": "stream",
     "text": [
      "\n",
      "Temperature in Celsius: 14.00 C \n",
      "Temperature in Fahrenheit: 57.20 F\n",
      "The weather is moderate!\n"
     ]
    }
   ],
   "source": [
    "print(\"Enter 1 to input temperature in Celsius. \\nEnter 2 to input temperature in Fahrenheit.\")\n",
    "ch = int(input(\"Enter choice: \"))\n",
    "\n",
    "if (ch == 1):\n",
    "    temp_cel = float(input(\"Enter temperature: \"))\n",
    "    temp_fahr = (temp_cel * (9/5)) + 32\n",
    "    print(f\"\\nTemperature in Celsius: {temp_cel:.2f} C \\nTemperature in Fahrenheit: {temp_fahr:.2f} F\")\n",
    "\n",
    "if (ch == 2):\n",
    "    temp_fahr = float(input(\"Enter temperature: \"))\n",
    "    temp_cel = (temp_fahr - 32) * (5/9)\n",
    "    print(f\"\\nTemperature in Fahrenheit: {temp_fahr:.2f} F \\nTemperature in Celsius: {temp_cel:.2f} C\")\n",
    "\n",
    "if (temp_cel <= 0):\n",
    "    weather = \"freezing\"\n",
    "elif temp_cel <= 10:\n",
    "    weather = \"cold\"\n",
    "elif temp_cel <= 25:\n",
    "    weather = \"moderate\"\n",
    "else:\n",
    "    weather = \"hot\"\n",
    "\n",
    "print(f\"The weather is {weather}!\")"
   ]
  },
  {
   "cell_type": "markdown",
   "id": "148bf574-469b-472a-8548-9f370133049d",
   "metadata": {},
   "source": [
    "### Problem Statement:\n",
    "Write a Python script for displaying whether the given year is a leap year from THE given condition. (THE YEAR SHOULD BE DIVISIBLE BY 4, IF THE YEAR IS DIVISIBLE BY 100 THEN IT SHOULD BE DIVISIBLE BY 400)"
   ]
  },
  {
   "cell_type": "code",
   "execution_count": 18,
   "id": "64dc9743-0049-4982-aa02-cc7b25055f5a",
   "metadata": {},
   "outputs": [
    {
     "name": "stdin",
     "output_type": "stream",
     "text": [
      "Enter year to check whether it is a leap year or not:  2024\n"
     ]
    },
    {
     "name": "stdout",
     "output_type": "stream",
     "text": [
      "2024 is a leap year!\n"
     ]
    }
   ],
   "source": [
    "# Taking user input\n",
    "year = int(input(\"Enter year to check whether it is a leap year or not: \"))\n",
    "\n",
    "# Logic to decide whether it is leap year or not\n",
    "if ( ((year % 4 == 0) and (year % 100 != 0)) or ((year % 100 == 0) and (year % 400 == 0)) ):\n",
    "    print(year, \"is a leap year!\")\n",
    "else:\n",
    "    print(year, \"is not a leap year!\") "
   ]
  }
 ],
 "metadata": {
  "kernelspec": {
   "display_name": "Python 3 (ipykernel)",
   "language": "python",
   "name": "python3"
  },
  "language_info": {
   "codemirror_mode": {
    "name": "ipython",
    "version": 3
   },
   "file_extension": ".py",
   "mimetype": "text/x-python",
   "name": "python",
   "nbconvert_exporter": "python",
   "pygments_lexer": "ipython3",
   "version": "3.12.8"
  }
 },
 "nbformat": 4,
 "nbformat_minor": 5
}
