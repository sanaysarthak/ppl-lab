{
 "cells": [
  {
   "cell_type": "markdown",
   "id": "4a938c6e-9181-4dae-8916-9cbc1cb31e62",
   "metadata": {},
   "source": [
    "## Practical 8 :-\n",
    "**Name:** Sarthak Sanay\\\n",
    "**Enrollment No:** 230031101611051"
   ]
  },
  {
   "cell_type": "markdown",
   "id": "787d8332-e319-4d11-9c8d-9ea4ba1d9c23",
   "metadata": {},
   "source": [
    "### Problem Statement 1:-\n",
    "You are building a word game. Write a function that checks whether two given strings are anagrams (contain the same letters, ignoring spaces and capitalization). \\\n",
    "**Test Case 1:-** \\\n",
    "*Input:* (\"listen\", \"silent\") \\\n",
    "*Output:* True \\\n",
    "**Test Case 2:-** \\\n",
    "*Input:* (\"hello\", \"world\") \\\n",
    "*Output:* False"
   ]
  },
  {
   "cell_type": "code",
   "execution_count": 2,
   "id": "db0df24f-f7db-44f9-9773-4a1a377bff07",
   "metadata": {},
   "outputs": [
    {
     "name": "stdin",
     "output_type": "stream",
     "text": [
      "Enter str1:  listen\n",
      "Enter str2:  silent\n"
     ]
    },
    {
     "name": "stdout",
     "output_type": "stream",
     "text": [
      "True\n"
     ]
    }
   ],
   "source": [
    "def is_anagram(s1, s2):\n",
    "    s1 = s1.lower()\n",
    "    s2 = s2.lower()\n",
    "    s1 = s1.replace(\" \", \"\")\n",
    "    s2 = s2.replace(\" \", \"\")\n",
    "    return sorted(s1) == sorted(s2)\n",
    "    \n",
    "s1 = input(\"Enter str1: \")\n",
    "s2 = input(\"Enter str2: \")\n",
    "\n",
    "print(is_anagram(s1, s2))"
   ]
  },
  {
   "cell_type": "markdown",
   "id": "df1fb187-26ed-4a04-9720-1af213d86c36",
   "metadata": {},
   "source": [
    "### Problem Statement 2:-\n",
    "You are working on a code formatter. Write a function that converts a given CamelCase string to snake_case (all lowercase with underscores). \\\n",
    "**Test Case :-** \\\n",
    "*Input:* (\"CamelCaseExample\") \\\n",
    "*Output:* \"camel_case_example\" "
   ]
  },
  {
   "cell_type": "code",
   "execution_count": 3,
   "id": "08fb0890-4b61-446e-a83f-bd75068109a8",
   "metadata": {},
   "outputs": [
    {
     "name": "stdin",
     "output_type": "stream",
     "text": [
      "Enter camel-case string:  CamelCaseExample\n"
     ]
    },
    {
     "name": "stdout",
     "output_type": "stream",
     "text": [
      "camel_case_example\n"
     ]
    }
   ],
   "source": [
    "def code_formatter(camel_str):\n",
    "    snake_str = camel_str[0].lower()\n",
    "    for char in camel_str[1: ]:\n",
    "        if char.isupper():\n",
    "            snake_str += '_' + char.lower()\n",
    "        else:\n",
    "            snake_str += char\n",
    "    return snake_str\n",
    "\n",
    "camel_str = input(\"Enter camel-case string: \")\n",
    "print(code_formatter(camel_str))"
   ]
  },
  {
   "cell_type": "markdown",
   "id": "74c4ee8e-4df5-41c3-8556-3b59e2698afe",
   "metadata": {},
   "source": [
    "### Problem Statement 3:-\n",
    "You are building a user registration system. Write a function that checks whether a given password meets the following criteria: \n",
    "1. At least 8 characters long\n",
    "2. Contains at least one uppercase letter\n",
    "3. Contains at least one lowercase letter\n",
    "4. Contains at least one digit"
   ]
  },
  {
   "cell_type": "code",
   "execution_count": 5,
   "id": "6a8c06c8-fbd5-4629-9e65-9bb336ddb5e4",
   "metadata": {},
   "outputs": [
    {
     "name": "stdout",
     "output_type": "stream",
     "text": [
      "User Registration System :-\n",
      "\n"
     ]
    },
    {
     "name": "stdin",
     "output_type": "stream",
     "text": [
      "Choose username:  Administrator\n",
      "Set password:  pass\n"
     ]
    },
    {
     "name": "stdout",
     "output_type": "stream",
     "text": [
      "Password is less than 8 characters long.\n",
      "Password does not contain any upper-case character.\n",
      "Password does not contain any digits.\n",
      "\n",
      "Set another password according to given constraints.\n"
     ]
    },
    {
     "name": "stdin",
     "output_type": "stream",
     "text": [
      "Set password:  myPassword\n"
     ]
    },
    {
     "name": "stdout",
     "output_type": "stream",
     "text": [
      "Password does not contain any digits.\n",
      "\n",
      "Set another password according to given constraints.\n"
     ]
    },
    {
     "name": "stdin",
     "output_type": "stream",
     "text": [
      "Set password:  myPass1\n"
     ]
    },
    {
     "name": "stdout",
     "output_type": "stream",
     "text": [
      "Password is less than 8 characters long.\n",
      "\n",
      "Set another password according to given constraints.\n"
     ]
    },
    {
     "name": "stdin",
     "output_type": "stream",
     "text": [
      "Set password:  MYPASSWORD1\n"
     ]
    },
    {
     "name": "stdout",
     "output_type": "stream",
     "text": [
      "Password does not contain any lower-case character.\n",
      "\n",
      "Set another password according to given constraints.\n"
     ]
    },
    {
     "name": "stdin",
     "output_type": "stream",
     "text": [
      "Set password:  helloworld1\n"
     ]
    },
    {
     "name": "stdout",
     "output_type": "stream",
     "text": [
      "Password does not contain any upper-case character.\n",
      "\n",
      "Set another password according to given constraints.\n"
     ]
    },
    {
     "name": "stdin",
     "output_type": "stream",
     "text": [
      "Set password:  myPassword1\n"
     ]
    },
    {
     "name": "stdout",
     "output_type": "stream",
     "text": [
      "\n",
      "Username and password set successfully!\n"
     ]
    }
   ],
   "source": [
    "def check_password(password):\n",
    "    upper, lower, digit = False, False, False\n",
    "    save = True\n",
    "    if len(password) < 8:\n",
    "        print(\"Password is less than 8 characters long.\")\n",
    "        save = False\n",
    "    for char in password:\n",
    "        if char.isupper():\n",
    "            upper = True\n",
    "        if char.islower():\n",
    "            lower = True\n",
    "        if char.isdigit():\n",
    "            digit = True\n",
    "    if upper == False:\n",
    "        print(\"Password does not contain any upper-case character.\")\n",
    "        save = False\n",
    "    if lower == False:\n",
    "        print(\"Password does not contain any lower-case character.\")\n",
    "        save = False\n",
    "    if digit == False:\n",
    "        print(\"Password does not contain any digits.\")\n",
    "        save = False\n",
    "\n",
    "    if save == True:\n",
    "        print(\"\\nUsername and password set successfully!\")\n",
    "    else:\n",
    "        print(\"\\nSet another password according to given constraints.\")\n",
    "        password = input(\"Set password: \")\n",
    "        check_password(password)\n",
    "\n",
    "print(\"User Registration System :-\\n\")\n",
    "username = input(\"Choose username: \")\n",
    "password = input(\"Set password: \")\n",
    "check_password(password)"
   ]
  },
  {
   "cell_type": "markdown",
   "id": "251d7748-be40-4482-a743-bd0e5096c04b",
   "metadata": {},
   "source": [
    "### Problem Statement 4:-\n",
    "You are working on a text manipulation tool that requires rotating words in a sentence. Implement a Python function rotate_sentence(sentence, n) that takes a sentence and an integer n as input and rotates each word in the sentence by n positions to the right.\n",
    "\n",
    "*Example:* Test case rotating \"Hello World\" by 1 position results in \"World Hello\"."
   ]
  },
  {
   "cell_type": "code",
   "execution_count": 8,
   "id": "70470681-9b34-4af2-b8e2-2d9e463e53e2",
   "metadata": {},
   "outputs": [
    {
     "name": "stdin",
     "output_type": "stream",
     "text": [
      "Enter sentence:  My name is Sarthak Sanay\n",
      "Enter rotation position:  2\n"
     ]
    },
    {
     "name": "stdout",
     "output_type": "stream",
     "text": [
      "Sarthak Sanay My name is\n"
     ]
    }
   ],
   "source": [
    "def rotate_sentence(sentence, n):\n",
    "    words = sentence.split()\n",
    "    if len(words) <= 1:\n",
    "        return sentence\n",
    "    n = n % len(words)\n",
    "    rotated_words = words[-n: ] + words[ :-n]\n",
    "    return \" \".join(rotated_words)\n",
    "    \n",
    "sentence = input(\"Enter sentence: \")\n",
    "n = int(input(\"Enter rotation position: \"))\n",
    "print(rotate_sentence(sentence, n))"
   ]
  },
  {
   "cell_type": "code",
   "execution_count": null,
   "id": "610bc6cb-878c-43da-bff0-f50e2dc6e384",
   "metadata": {},
   "outputs": [],
   "source": []
  }
 ],
 "metadata": {
  "kernelspec": {
   "display_name": "Python 3 (ipykernel)",
   "language": "python",
   "name": "python3"
  },
  "language_info": {
   "codemirror_mode": {
    "name": "ipython",
    "version": 3
   },
   "file_extension": ".py",
   "mimetype": "text/x-python",
   "name": "python",
   "nbconvert_exporter": "python",
   "pygments_lexer": "ipython3",
   "version": "3.12.1"
  }
 },
 "nbformat": 4,
 "nbformat_minor": 5
}
